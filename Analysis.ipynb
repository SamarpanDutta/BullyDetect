{
 "cells": [
  {
   "cell_type": "code",
   "execution_count": 53,
   "metadata": {
    "collapsed": true
   },
   "outputs": [],
   "source": [
    "# Load the dataset with Pandas library\n",
    "import pandas as pd\n",
    "\n",
    "df = pd.read_csv('clean_dataset.csv')"
   ]
  },
  {
   "cell_type": "code",
   "execution_count": 54,
   "metadata": {
    "collapsed": false
   },
   "outputs": [
    {
     "name": "stdout",
     "output_type": "stream",
     "text": [
      "Size:\t\t 6580\n",
      "Cyberbully: \t 1742\n"
     ]
    }
   ],
   "source": [
    "# Dataset information\n",
    "print(\"Size:\\t\\t\",len(df))\n",
    "print(\"Cyberbully: \\t\",df['Insult'].sum())"
   ]
  },
  {
   "cell_type": "code",
   "execution_count": 55,
   "metadata": {
    "collapsed": false
   },
   "outputs": [],
   "source": [
    "# Import libraries for visualisation\n",
    "\n",
    "import seaborn as sns\n",
    "import matplotlib.pyplot as plt\n",
    "sns.set_style('whitegrid')\n",
    "%matplotlib inline"
   ]
  },
  {
   "cell_type": "code",
   "execution_count": 56,
   "metadata": {
    "collapsed": false
   },
   "outputs": [
    {
     "data": {
      "text/plain": [
       "[<matplotlib.text.Text at 0x1b703ce3ba8>,\n",
       " <matplotlib.text.Text at 0x1b703bb1d68>]"
      ]
     },
     "execution_count": 56,
     "metadata": {},
     "output_type": "execute_result"
    },
    {
     "data": {
      "image/png": "[encoded data removed]",
      "text/plain": [
       "<matplotlib.figure.Figure at 0x1b70409a710>"
      ]
     },
     "metadata": {},
     "output_type": "display_data"
    }
   ],
   "source": [
    "# Visualize number of Bully and Non-Bully comments\n",
    "\n",
    "fig, (axis1) = plt.subplots(1,1,figsize=(5,5))\n",
    "\n",
    "sns.countplot(x='Insult', data=df, ax=axis1)\n",
    "axis1.set_xticklabels([\"Normal\",\"Cyberbully\"], rotation=0)"
   ]
  },
  {
   "cell_type": "code",
   "execution_count": 57,
   "metadata": {
    "collapsed": false
   },
   "outputs": [],
   "source": [
    "# Function to count unique number of words and their occurrences\n",
    "# This is followed by sorting them in descending order\n",
    "import operator\n",
    "\n",
    "def countUniqueWords(df):\n",
    "    \n",
    "    # Create a dictionary\n",
    "    unique_words = {}\n",
    "\n",
    "    # Iterate comment by comment\n",
    "    for comment in df['Comment']:\n",
    "\n",
    "        # Iterate word by word in comment\n",
    "        for word in comment.split():\n",
    "\n",
    "            # If word exists, else add it in\n",
    "            if word in unique_words.keys():\n",
    "                unique_words[word] += 1\n",
    "            else:\n",
    "                unique_words[word] = 1\n",
    "                \n",
    "    # Sort them in Descending order\n",
    "    unique_words_sorted = sorted(unique_words.items(), key=operator.itemgetter(1), reverse = True)\n",
    "    \n",
    "    return unique_words_sorted"
   ]
  },
  {
   "cell_type": "code",
   "execution_count": 58,
   "metadata": {
    "collapsed": false
   },
   "outputs": [
    {
     "name": "stdout",
     "output_type": "stream",
     "text": [
      "17163\n",
      "6430\n"
     ]
    }
   ],
   "source": [
    "# Get two lists: All comments and Cyberbully comments\n",
    "cyberbully_df = df[df.Insult == 1]\n",
    "cyberbully_df.reset_index(inplace=True, drop=True)\n",
    "\n",
    "non_cyberbully_df = df[df.Insult == 0]\n",
    "non_cyberbully_df.reset_index(inplace=True, drop=True)\n",
    "\n",
    "# Get the words and their count\n",
    "non_cyberbully_list = countUniqueWords(non_cyberbully_df)\n",
    "cyberbully_list = countUniqueWords(cyberbully_df)\n",
    "\n",
    "print(len(non_cyberbully_list))\n",
    "print(len(cyberbully_list))"
   ]
  },
  {
   "cell_type": "code",
   "execution_count": 59,
   "metadata": {
    "collapsed": true
   },
   "outputs": [],
   "source": [
    "# What is the maximum/minimum number of words from ALL comments and Cyberbully comments\n",
    "# First: Create a function that returns max/min number of words from a list of comments\n",
    "# Second: Return the index of that comment and view in dataframe (JUST IN CASE)\n",
    "\n",
    "def maxWords(df):\n",
    "    \n",
    "    max_words = 0\n",
    "    index = 0\n",
    "    \n",
    "    for i, comment in enumerate(df['Comment']):\n",
    "        \n",
    "        if len(comment.split()) > max_words:\n",
    "            max_words = len(comment.split())\n",
    "            index = i\n",
    "    \n",
    "    return max_words, index\n",
    "\n",
    "def minWords(df):\n",
    "    \n",
    "    # Random value\n",
    "    min_words = 1000\n",
    "    index = 0\n",
    "    \n",
    "    for i, comment in enumerate(df['Comment']):\n",
    "        \n",
    "        if len(comment.split()) < min_words:\n",
    "            min_words = len(comment.split())\n",
    "            index = i\n",
    "            \n",
    "    return min_words, index"
   ]
  },
  {
   "cell_type": "code",
   "execution_count": 60,
   "metadata": {
    "collapsed": false
   },
   "outputs": [
    {
     "name": "stdout",
     "output_type": "stream",
     "text": [
      "Full Dataset(MAX):  (2277, 1486)\n",
      "Full Dataset(MIN):  (1, 444)\n",
      "======================================\n",
      "Cyberbully set(MAX):  (730, 850)\n",
      "Cyberbully set(MIN):  (1, 12)\n"
     ]
    }
   ],
   "source": [
    "# Get the max and the index of the max\n",
    "non_cyberbully_comments_max = maxWords(non_cyberbully_df)\n",
    "cyberbully_comments_max = maxWords(cyberbully_df)\n",
    "\n",
    "# Get the min and the index of the min\n",
    "non_cyberbully_comments_min = minWords(non_cyberbully_df)\n",
    "cyberbully_comments_min = minWords(cyberbully_df)\n",
    "\n",
    "# Print them\n",
    "print(\"Full Dataset(MAX): \",non_cyberbully_comments_max)\n",
    "print(\"Full Dataset(MIN): \",non_cyberbully_comments_min)\n",
    "print(\"======================================\")\n",
    "print(\"Cyberbully set(MAX): \",cyberbully_comments_max)\n",
    "print(\"Cyberbully set(MIN): \",cyberbully_comments_min)"
   ]
  },
  {
   "cell_type": "code",
   "execution_count": 68,
   "metadata": {
    "collapsed": false
   },
   "outputs": [
    {
     "name": "stdout",
     "output_type": "stream",
     "text": [
      "twss\n"
     ]
    }
   ],
   "source": [
    "# View those comments\n",
    "print(non_cyberbully_df['Comment'][444])"
   ]
  },
  {
   "cell_type": "code",
   "execution_count": 62,
   "metadata": {
    "collapsed": true
   },
   "outputs": [],
   "source": [
    "# Get the average length of words from ALL comments and Cyberbully comments\n",
    "# First: Create a function that totals all the words\n",
    "# Second: Average the total by length of respective dataframe\n",
    "\n",
    "def averageWords(df):\n",
    "    \n",
    "    total_comments = len(df)\n",
    "    total_words = 0\n",
    "    \n",
    "    for comment in df['Comment']:\n",
    "        \n",
    "        total_words += len(comment.split())\n",
    "        \n",
    "    return round(total_words/total_comments)"
   ]
  },
  {
   "cell_type": "code",
   "execution_count": 63,
   "metadata": {
    "collapsed": false
   },
   "outputs": [
    {
     "name": "stdout",
     "output_type": "stream",
     "text": [
      "AVERAGE SENTENCE LENGTH(ALL):  36\n",
      "AVERAGE SENTENCE LENGTH(CYBERBULLY):  27\n"
     ]
    }
   ],
   "source": [
    "# Get the averages and print them\n",
    "non_cyberbully_comments_avg = averageWords(non_cyberbully_df)\n",
    "cyberbully_comments_avg = averageWords(cyberbully_df)\n",
    "\n",
    "print(\"AVERAGE SENTENCE LENGTH(ALL): \",non_cyberbully_comments_avg)\n",
    "print(\"AVERAGE SENTENCE LENGTH(CYBERBULLY): \",cyberbully_comments_avg)"
   ]
  },
  {
   "cell_type": "code",
   "execution_count": 64,
   "metadata": {
    "collapsed": true
   },
   "outputs": [],
   "source": [
    "# Count how many sentences are more than the average\n",
    "# First: Create a function that takes in respective dataframe\n",
    "# Second: Count comments that are MORE than the average\n",
    "\n",
    "def moreThanAverage(df, avg):\n",
    "    \n",
    "    count = 0\n",
    "    \n",
    "    for comment in df['Comment']:\n",
    "        \n",
    "        if len(comment.split()) > avg:\n",
    "            count += 1\n",
    "            \n",
    "    return count"
   ]
  },
  {
   "cell_type": "code",
   "execution_count": 72,
   "metadata": {
    "collapsed": false
   },
   "outputs": [
    {
     "name": "stdout",
     "output_type": "stream",
     "text": [
      "All comments: 15/4838\n",
      "Cyberbully comments: 1/1742\n"
     ]
    }
   ],
   "source": [
    "# Get the counts\n",
    "non_cyberbully_avg_counts = moreThanAverage(non_cyberbully_df, 500)\n",
    "cyberbully_avg_counts = moreThanAverage(cyberbully_df, 500)\n",
    "\n",
    "# Print them \n",
    "print(\"All comments: %d/%d\" % (non_cyberbully_avg_counts, len(non_cyberbully_df)))\n",
    "print(\"Cyberbully comments: %d/%d\" % (cyberbully_avg_counts, len(cyberbully_df)))"
   ]
  },
  {
   "cell_type": "code",
   "execution_count": null,
   "metadata": {
    "collapsed": true
   },
   "outputs": [],
   "source": []
  }
 ],
 "metadata": {
  "anaconda-cloud": {},
  "kernelspec": {
   "display_name": "Python [conda root]",
   "language": "python",
   "name": "conda-root-py"
  },
  "language_info": {
   "codemirror_mode": {
    "name": "ipython",
    "version": 3
   },
   "file_extension": ".py",
   "mimetype": "text/x-python",
   "name": "python",
   "nbconvert_exporter": "python",
   "pygments_lexer": "ipython3",
   "version": "3.5.2"
  }
 },
 "nbformat": 4,
 "nbformat_minor": 1
}
