{
 "cells": [
  {
   "cell_type": "code",
   "execution_count": 1,
   "metadata": {
    "collapsed": false
   },
   "outputs": [
    {
     "name": "stderr",
     "output_type": "stream",
     "text": [
      "C:\\Users\\MyPC\\Anaconda3\\lib\\site-packages\\gensim\\utils.py:840: UserWarning: detected Windows; aliasing chunkize to chunkize_serial\n",
      "  warnings.warn(\"detected Windows; aliasing chunkize to chunkize_serial\")\n",
      "C:\\Users\\MyPC\\Anaconda3\\lib\\site-packages\\gensim\\utils.py:1015: UserWarning: Pattern library is not installed, lemmatization won't be available.\n",
      "  warnings.warn(\"Pattern library is not installed, lemmatization won't be available.\")\n"
     ]
    }
   ],
   "source": [
    "from gensim.models import Word2Vec as w2v"
   ]
  },
  {
   "cell_type": "code",
   "execution_count": 2,
   "metadata": {
    "collapsed": true
   },
   "outputs": [],
   "source": [
    "model = w2v.load_word2vec_format('w2v_reddit_unigram_300d.bin', binary=True)"
   ]
  },
  {
   "cell_type": "code",
   "execution_count": 7,
   "metadata": {
    "collapsed": false
   },
   "outputs": [
    {
     "data": {
      "text/plain": [
       "[('fag', 0.8932770490646362),\n",
       " ('faggots', 0.7377546429634094),\n",
       " ('autist', 0.7040492296218872),\n",
       " ('phaggot', 0.7027747631072998),\n",
       " ('faggit', 0.700303852558136),\n",
       " ('fuckboy', 0.6967753767967224),\n",
       " ('cunt', 0.6966097354888916),\n",
       " ('fuckboi', 0.6945731043815613),\n",
       " ('fagget', 0.6855529546737671),\n",
       " ('cuck', 0.6851290464401245),\n",
       " ('fucktard', 0.6834706664085388),\n",
       " ('twat', 0.6808834671974182),\n",
       " ('cocksucker', 0.6760940551757812),\n",
       " ('newfag', 0.672683596611023),\n",
       " ('fuckface', 0.6678657531738281),\n",
       " ('normie', 0.6674532294273376),\n",
       " ('niggerfaggot', 0.6668844223022461),\n",
       " ('retard', 0.6608721613883972),\n",
       " ('douchenozzle', 0.6583672165870667),\n",
       " ('faget', 0.6572930812835693)]"
      ]
     },
     "execution_count": 7,
     "metadata": {},
     "output_type": "execute_result"
    }
   ],
   "source": [
    "# Cell to find most similar words \n",
    "# One word for unigram: dragon, bleach, tottenham\n",
    "# Two words for bigram: dragon_ball, barack_obama (UNDERSCORE NEEDED + BIGRAM MODEL LOADED)\n",
    "model.most_similar(\"faggot\", topn=20)"
   ]
  },
  {
   "cell_type": "code",
   "execution_count": 11,
   "metadata": {
    "collapsed": false
   },
   "outputs": [
    {
     "data": {
      "text/plain": [
       "[('taiwan', 0.6039074659347534),\n",
       " ('malaysia', 0.5904330611228943),\n",
       " ('brazil', 0.5838279724121094),\n",
       " ('algeria', 0.5654287338256836),\n",
       " ('singapore', 0.5560557246208191),\n",
       " ('uruguay', 0.5531336069107056),\n",
       " ('spain', 0.5527395009994507),\n",
       " ('uzbekistan', 0.551734209060669),\n",
       " ('italy', 0.5508106350898743),\n",
       " ('japan', 0.550346314907074)]"
      ]
     },
     "execution_count": 11,
     "metadata": {},
     "output_type": "execute_result"
    }
   ],
   "source": [
    "# Cell for semantic evaluation (Ex. King - man + woman is approximately equal to queen)\n",
    "model.most_similar(positive=[\"ghana\",\"asia\"], negative=[\"africa\"])"
   ]
  },
  {
   "cell_type": "code",
   "execution_count": 5,
   "metadata": {
    "collapsed": false
   },
   "outputs": [
    {
     "data": {
      "text/plain": [
       "[('jackasses', 0.8430017232894897),\n",
       " ('asshats', 0.8086768984794617),\n",
       " ('dickheads', 0.7883056402206421),\n",
       " ('dumbasses', 0.7858031392097473),\n",
       " ('shitheads', 0.7789386510848999),\n",
       " ('morons', 0.7731184363365173),\n",
       " ('fucktards', 0.7708213329315186),\n",
       " ('douchebags', 0.7681394815444946),\n",
       " ('assholes', 0.7612621188163757),\n",
       " ('dipshits', 0.7548891305923462)]"
      ]
     },
     "execution_count": 5,
     "metadata": {},
     "output_type": "execute_result"
    }
   ],
   "source": [
    "# Cell for syntactic evaluation (Ex. walking - walk + swim is approximately equal to swimming)\n",
    "model.most_similar(positive=[\"idiots\",\"jackass\"], negative=[\"idiot\"])"
   ]
  },
  {
   "cell_type": "code",
   "execution_count": 14,
   "metadata": {
    "collapsed": false
   },
   "outputs": [
    {
     "data": {
      "text/plain": [
       "'bitch'"
      ]
     },
     "execution_count": 14,
     "metadata": {},
     "output_type": "execute_result"
    }
   ],
   "source": [
    "# Cell to check which word doesn't match among a group of words\n",
    "model.doesnt_match(\"idiot dumbass stupid bitch\".split())"
   ]
  },
  {
   "cell_type": "code",
   "execution_count": 18,
   "metadata": {
    "collapsed": false
   },
   "outputs": [
    {
     "data": {
      "text/plain": [
       "0.59614006460115365"
      ]
     },
     "execution_count": 18,
     "metadata": {},
     "output_type": "execute_result"
    }
   ],
   "source": [
    "# Cell to check similarity among two words\n",
    "model.similarity(\"idiots\",\"dumbass\")"
   ]
  },
  {
   "cell_type": "code",
   "execution_count": 11,
   "metadata": {
    "collapsed": false
   },
   "outputs": [
    {
     "data": {
      "text/plain": [
       "1229009"
      ]
     },
     "execution_count": 11,
     "metadata": {},
     "output_type": "execute_result"
    }
   ],
   "source": [
    "# Count number of times a specific word occured in the 2015 Dataset\n",
    "model.vocab['biatch'].count"
   ]
  },
  {
   "cell_type": "code",
   "execution_count": 4,
   "metadata": {
    "collapsed": false
   },
   "outputs": [
    {
     "data": {
      "text/plain": [
       "False"
      ]
     },
     "execution_count": 4,
     "metadata": {},
     "output_type": "execute_result"
    }
   ],
   "source": [
    "# Check if word (Unigram) is in model. It is case-sensitive\n",
    "'Dragon' in model"
   ]
  },
  {
   "cell_type": "code",
   "execution_count": 11,
   "metadata": {
    "collapsed": false
   },
   "outputs": [
    {
     "name": "stdout",
     "output_type": "stream",
     "text": [
      "0 urbino's\n",
      "1 gouged\n",
      "2 testimonial\n",
      "3 rahmans\n",
      "4 unfuckingbelievably\n",
      "5 magallanes\n",
      "6 symbi\n",
      "7 prestigiously\n",
      "8 andromon\n",
      "9 laffitte\n",
      "10 firebirdflame\n",
      "11 niked\n",
      "12 fromsoftware\n",
      "13 impetigo\n",
      "14 factionist\n",
      "15 magnoli\n",
      "16 wumbo'\n",
      "17 passam\n",
      "18 'large\n",
      "19 chemitry\n",
      "20 karesuando\n",
      "21 cockmongling\n",
      "22 swolepression\n",
      "23 tartufata\n",
      "24 quimby\n",
      "25 maybank\n",
      "26 saadam\n",
      "27 roundtables\n",
      "28 leathworking\n",
      "29 financien\n",
      "30 parnas\n",
      "31 bagbalm\n",
      "32 scuhba\n",
      "33 petillant\n",
      "34 drfinitely\n",
      "35 joshuaz\n",
      "36 biass\n",
      "37 haroshi\n",
      "38 installerorc\n",
      "39 coerl\n",
      "40 ccertainly\n",
      "41 chinapost\n",
      "42 bieres\n",
      "43 cruncher's\n",
      "44 energys\n",
      "45 citralopram\n",
      "46 eventuly\n",
      "47 neurax\n",
      "48 jiuzhaiguo\n",
      "49 camuflar\n",
      "50 sterilisation\n",
      "51 quasicommunist\n",
      "52 decirte\n",
      "53 huge'\n",
      "54 wotmate\n",
      "55 traegs\n",
      "56 ffl's\n",
      "57 whataboutism\n",
      "58 epirubicin\n",
      "59 guzick\n",
      "60 russis\n",
      "61 finanziamenti\n",
      "62 airdock\n",
      "63 brooz\n",
      "64 shiri\n",
      "65 falalalala\n",
      "66 stepmums\n",
      "67 yougsters\n",
      "68 cyanhacker\n",
      "69 yahn\n",
      "70 undignified\n"
     ]
    }
   ],
   "source": [
    "# A brief review of words in the model\n",
    "count = 70\n",
    "\n",
    "for index, word in enumerate(model.vocab):\n",
    "    print(index, word)\n",
    "    if index == count:\n",
    "        break"
   ]
  },
  {
   "cell_type": "code",
   "execution_count": null,
   "metadata": {
    "collapsed": true
   },
   "outputs": [],
   "source": []
  }
 ],
 "metadata": {
  "anaconda-cloud": {},
  "kernelspec": {
   "display_name": "Python [conda root]",
   "language": "python",
   "name": "conda-root-py"
  },
  "language_info": {
   "codemirror_mode": {
    "name": "ipython",
    "version": 3
   },
   "file_extension": ".py",
   "mimetype": "text/x-python",
   "name": "python",
   "nbconvert_exporter": "python",
   "pygments_lexer": "ipython3",
   "version": "3.5.2"
  }
 },
 "nbformat": 4,
 "nbformat_minor": 1
}
