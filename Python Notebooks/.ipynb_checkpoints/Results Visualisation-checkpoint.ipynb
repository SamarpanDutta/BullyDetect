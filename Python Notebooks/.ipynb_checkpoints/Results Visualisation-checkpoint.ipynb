{
 "cells": [
  {
   "cell_type": "markdown",
   "metadata": {},
   "source": [
    "# Data Visualisation of Results\n",
    "\n",
    "This Python notebook is to visualize the results from the experiments conducted. All methods were validated using Stratified 10 Fold Sampling\n",
    "\n",
    "## Classifiers \n",
    "\n",
    "The following classifiers were used:\n",
    "\n",
    "- Random Forest with 100 trees\n",
    "- Support Vector Machine (LinearSVC from sklearn)\n",
    "- Naive Bayes (Gaussian Naive Bayes)\n",
    "\n",
    "## Methods \n",
    "\n",
    "The following methods for classification were used:\n",
    "\n",
    "- Bag-Of-Words\n",
    "- Average Sentence\n",
    "- Average Words\n",
    "- Average Words + TFIDF\n",
    "- Average Words + Mean Similarity (Hybrid Approach)\n",
    "- Average Words + Mean Similarity + TFIDF (Hybrid Approach)\n",
    "- Word Feature\n",
    "- Word Feature + Mean Similarity\n",
    "\n",
    "## Evaluation Metrics\n",
    "\n",
    "The following evaluation metrics were taken under consideration:\n",
    "\n",
    "- Accuracy\n",
    "- Precision\n",
    "- False Discovery Rate\n",
    "- False Positive Rate\n",
    "- Area Under Curve (AUC) \n",
    "- Logarithmic Loss (Log Loss)\n",
    "- Brier Score Loss\n",
    "- Run Time for test set\n",
    "\n",
    "The Standard Deviation for all metrics were also taken into consideration"
   ]
  },
  {
   "cell_type": "code",
   "execution_count": 7,
   "metadata": {
    "collapsed": true
   },
   "outputs": [],
   "source": [
    "# Load Excel File using Pandas\n",
    "import pandas as pd\n",
    "\n",
    "xls = pd.ExcelFile(\"C:/Users/MyPC/Desktop/FYP/Results (Stratified 10 Fold).xlsx\")"
   ]
  },
  {
   "cell_type": "code",
   "execution_count": 8,
   "metadata": {
    "collapsed": false
   },
   "outputs": [
    {
     "data": {
      "text/plain": [
       "['Accuracy',\n",
       " 'Precision',\n",
       " 'FDR',\n",
       " 'FPR',\n",
       " 'AUC',\n",
       " 'Log Loss',\n",
       " 'Brier Score',\n",
       " 'Run Time']"
      ]
     },
     "execution_count": 8,
     "metadata": {},
     "output_type": "execute_result"
    }
   ],
   "source": [
    "# Verify the sheets(workbooks)\n",
    "\n",
    "xls.sheet_names"
   ]
  },
  {
   "cell_type": "code",
   "execution_count": 20,
   "metadata": {
    "collapsed": false
   },
   "outputs": [],
   "source": [
    "# Function to standardize the given dataframe\n",
    "\n",
    "def standardizeDataFrame(df):\n",
    "    \n",
    "    # Table to store dictionaries\n",
    "    format_table = []\n",
    "    \n",
    "    # Lower Case the columns' name\n",
    "    df.columns = map(str.lower, df.columns)\n",
    "    \n",
    "    # Classifier Array\n",
    "    clf_array = [\"nb\",\"svm\",\"rf\"]\n",
    "    \n",
    "    # Loop classifier by classifier\n",
    "    # Then get the results along with the standard deviation\n",
    "    for clf in clf_array:\n",
    "        \n",
    "        for i, method in enumerate(df['method']):\n",
    "            \n",
    "            table.append({'method': method,\n",
    "                         'model': clf,\n",
    "                         'value': df[clf][i],\n",
    "                         'std': df[clf + \" (std)\"][i]})\n",
    "            \n",
    "    \n",
    "    # Overwrite the table\n",
    "    df = pd.DataFrame(table)\n",
    "    \n",
    "    return df"
   ]
  },
  {
   "cell_type": "markdown",
   "metadata": {},
   "source": [
    "# Accuracy\n"
   ]
  },
  {
   "cell_type": "code",
   "execution_count": 9,
   "metadata": {
    "collapsed": false
   },
   "outputs": [],
   "source": [
    "# Parse the accuracy sheet\n",
    "# Each sheet is considered a dataframe\n",
    "\n",
    "accuracy_df = standardizeDataFrame(xls.parse('Accuracy'))"
   ]
  },
  {
   "cell_type": "code",
   "execution_count": 35,
   "metadata": {
    "collapsed": false
   },
   "outputs": [
    {
     "name": "stdout",
     "output_type": "stream",
     "text": [
      "nb bow 0.66 0.01\n",
      "nb avg_hybrid 0.7 0.02\n",
      "nb avg_hybrid_tfidf 0.7 0.01\n",
      "nb avg_words 0.69 0.01\n",
      "nb avg_words_tfidf 0.69 0.01\n",
      "nb avg_sentence 0.73 0.0\n",
      "nb word_feature 0.3 0.01\n",
      "nb word_avg_hybrid 0.3 0.01\n",
      "svm bow 0.83 0.01\n",
      "svm avg_hybrid 0.75 0.01\n",
      "svm avg_hybrid_tfidf 0.75 0.01\n",
      "svm avg_words 0.75 0.01\n",
      "svm avg_words_tfidf 0.75 0.01\n",
      "svm avg_sentence 0.74 0.0\n",
      "svm word_feature 0.73 0.0\n",
      "svm word_avg_hybrid 0.73 0.0\n",
      "rf bow 0.82 0.01\n",
      "rf avg_hybrid 0.76 0.01\n",
      "rf avg_hybrid_tfidf 0.76 0.01\n",
      "rf avg_words 0.77 0.01\n",
      "rf avg_words_tfidf 0.78 0.01\n",
      "rf avg_sentence 0.65 0.02\n",
      "rf word_feature 0.75 0.01\n",
      "rf word_avg_hybrid 0.75 0.01\n"
     ]
    }
   ],
   "source": [
    "# Miscalleanous\n",
    "\n",
    "clf_array = [\"nb\",\"svm\",\"rf\"]\n",
    "\n",
    "for clf in clf_array:\n",
    "    \n",
    "    for i,method in enumerate(accuracy_df['method']):\n",
    "        \n",
    "        print(clf, method, accuracy_df[clf][i], accuracy_df[clf + \" (std)\"][i])"
   ]
  },
  {
   "cell_type": "code",
   "execution_count": 6,
   "metadata": {
    "collapsed": true
   },
   "outputs": [],
   "source": [
    "# Load the libraries (ONLY ONCE)\n",
    "import seaborn as sns\n",
    "import matplotlib.pyplot as plt\n",
    "sns.set_style('whitegrid')\n",
    "%matplotlib inline"
   ]
  },
  {
   "cell_type": "code",
   "execution_count": 15,
   "metadata": {
    "collapsed": false
   },
   "outputs": [
    {
     "data": {
      "image/png": "[encoded data removed]",
      "text/plain": [
       "<matplotlib.figure.Figure at 0x213b2ee6208>"
      ]
     },
     "metadata": {},
     "output_type": "display_data"
    }
   ],
   "source": [
    "# Plot for Accuracy (Bar Chart)\n",
    "plt.figure(figsize=(15, 6))\n",
    "\n",
    "fig = sns.pointplot(x='method', y='svm', data=accuracy_df)"
   ]
  },
  {
   "cell_type": "markdown",
   "metadata": {},
   "source": [
    "# Precision"
   ]
  },
  {
   "cell_type": "markdown",
   "metadata": {},
   "source": [
    "# False Discovery Rate"
   ]
  },
  {
   "cell_type": "markdown",
   "metadata": {},
   "source": [
    "# False Positive Rate"
   ]
  },
  {
   "cell_type": "markdown",
   "metadata": {},
   "source": [
    "# Log Loss"
   ]
  },
  {
   "cell_type": "markdown",
   "metadata": {},
   "source": [
    "# Brier Loss Score"
   ]
  },
  {
   "cell_type": "markdown",
   "metadata": {},
   "source": [
    "# Run Time "
   ]
  },
  {
   "cell_type": "code",
   "execution_count": null,
   "metadata": {
    "collapsed": true
   },
   "outputs": [],
   "source": []
  }
 ],
 "metadata": {
  "anaconda-cloud": {},
  "kernelspec": {
   "display_name": "Python [conda root]",
   "language": "python",
   "name": "conda-root-py"
  },
  "language_info": {
   "codemirror_mode": {
    "name": "ipython",
    "version": 3
   },
   "file_extension": ".py",
   "mimetype": "text/x-python",
   "name": "python",
   "nbconvert_exporter": "python",
   "pygments_lexer": "ipython3",
   "version": "3.5.2"
  }
 },
 "nbformat": 4,
 "nbformat_minor": 1
}
