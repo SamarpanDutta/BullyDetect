{
 "cells": [
  {
   "cell_type": "markdown",
   "metadata": {},
   "source": [
    "# Word2Vec Unigram Testing\n",
    "\n",
    "This Python Notebook is used for evaluation of the Word2Vec Unigram model. The section is broken down as follows:\n",
    "\n",
    "- Find most similar words from the selected word\n",
    "- Perform Syntactic Analysis\n",
    "- Perform Semantic Analysis\n",
    "- Find uncommon word among a list of words\n",
    "- Find cosine similarity among two words\n",
    "- Find the frequency count of a word\n",
    "- Check if a word is in the model\n",
    "- Feature vectors of a certain word\n",
    "- Visualisation of words in Vector Space using TSNE and PCA\n",
    "- Histogram to showcase distribution of words"
   ]
  },
  {
   "cell_type": "code",
   "execution_count": 1,
   "metadata": {
    "collapsed": false
   },
   "outputs": [
    {
     "name": "stderr",
     "output_type": "stream",
     "text": [
      "C:\\Users\\MyPC\\Anaconda3\\lib\\site-packages\\gensim\\utils.py:840: UserWarning: detected Windows; aliasing chunkize to chunkize_serial\n",
      "  warnings.warn(\"detected Windows; aliasing chunkize to chunkize_serial\")\n",
      "C:\\Users\\MyPC\\Anaconda3\\lib\\site-packages\\gensim\\utils.py:1015: UserWarning: Pattern library is not installed, lemmatization won't be available.\n",
      "  warnings.warn(\"Pattern library is not installed, lemmatization won't be available.\")\n"
     ]
    }
   ],
   "source": [
    "from gensim.models import Word2Vec as w2v"
   ]
  },
  {
   "cell_type": "code",
   "execution_count": 2,
   "metadata": {
    "collapsed": false
   },
   "outputs": [],
   "source": [
    "# Load Unigram model\n",
    "FILE = \"C:/Users/MyPC/Desktop/Vegito/W2V Models/w2v_reddit_unigram_300d.bin\"\n",
    "model = w2v.load_word2vec_format(FILE, binary=True)"
   ]
  },
  {
   "cell_type": "code",
   "execution_count": 3,
   "metadata": {
    "collapsed": false
   },
   "outputs": [
    {
     "data": {
      "text/plain": [
       "[('biopsychology', 0.740115225315094),\n",
       " ('astrochemistry', 0.7391058206558228),\n",
       " ('neuroendocrinologist', 0.7296165227890015),\n",
       " ('nanoscience', 0.7265405058860779),\n",
       " ('neuropharmacology', 0.7247588038444519),\n",
       " ('saltzberg', 0.7157706618309021),\n",
       " ('ethnomusicology', 0.7156946659088135),\n",
       " ('psychobiology', 0.7154250144958496),\n",
       " ('nueroscience', 0.7147186994552612),\n",
       " ('neuropsychiatry', 0.7140935659408569),\n",
       " ('ichthyology', 0.710540235042572),\n",
       " ('molbio', 0.7056220769882202),\n",
       " ('oenology', 0.7056138515472412),\n",
       " ('antropology', 0.7041956186294556),\n",
       " ('biopsych', 0.7037904858589172),\n",
       " ('neuroengineering', 0.7037561535835266),\n",
       " ('nanoengineering', 0.7024978995323181),\n",
       " ('psycholinguistics', 0.7002543210983276),\n",
       " ('bioanthropology', 0.6995773315429688),\n",
       " ('christmann', 0.698868989944458)]"
      ]
     },
     "execution_count": 3,
     "metadata": {},
     "output_type": "execute_result"
    }
   ],
   "source": [
    "# Cell to find most similar words \n",
    "# One word for unigram: dragon, bleach, tottenham\n",
    "# Two words for bigram: dragon_ball, barack_obama (UNDERSCORE NEEDED + BIGRAM MODEL LOADED)\n",
    "model.most_similar(\"neuropsychopharmacology\", topn=20)"
   ]
  },
  {
   "cell_type": "code",
   "execution_count": 4,
   "metadata": {
    "collapsed": false
   },
   "outputs": [
    {
     "data": {
      "text/plain": [
       "[('lumpur', 0.6737101674079895),\n",
       " ('kuala', 0.6668090224266052),\n",
       " ('taipei', 0.6401477456092834),\n",
       " ('bangkok', 0.6113026142120361),\n",
       " ('penang', 0.5809809565544128),\n",
       " ('lampur', 0.5752942562103271),\n",
       " ('toyko', 0.5550657510757446),\n",
       " ('selangor', 0.5511509776115417),\n",
       " ('singapore', 0.5502724647521973),\n",
       " ('mumbai', 0.5481346249580383)]"
      ]
     },
     "execution_count": 4,
     "metadata": {},
     "output_type": "execute_result"
    }
   ],
   "source": [
    "# Cell for semantic evaluation (Ex. King - man + woman is approximately equal to queen)\n",
    "model.most_similar(positive=[\"tokyo\",\"malaysia\"], negative=[\"japan\"])"
   ]
  },
  {
   "cell_type": "code",
   "execution_count": 5,
   "metadata": {
    "collapsed": false
   },
   "outputs": [
    {
     "data": {
      "text/plain": [
       "[('blueish', 0.7298511266708374),\n",
       " ('greyish', 0.7232707738876343),\n",
       " ('bluish', 0.7149738669395447),\n",
       " ('pinkish', 0.705883264541626),\n",
       " ('purplish', 0.7028074264526367),\n",
       " ('brownish', 0.6946163773536682),\n",
       " ('grayish', 0.6922476887702942),\n",
       " ('reddish', 0.6911346316337585),\n",
       " ('yellowish', 0.6770833134651184),\n",
       " ('whitish', 0.6669460535049438)]"
      ]
     },
     "execution_count": 5,
     "metadata": {},
     "output_type": "execute_result"
    }
   ],
   "source": [
    "# Cell for syntactic evaluation (Ex. walking - walk + swim is approximately equal to swimming)\n",
    "model.most_similar(positive=[\"greenish\",\"blue\"], negative=[\"green\"])"
   ]
  },
  {
   "cell_type": "code",
   "execution_count": 6,
   "metadata": {
    "collapsed": false
   },
   "outputs": [
    {
     "data": {
      "text/plain": [
       "'apple'"
      ]
     },
     "execution_count": 6,
     "metadata": {},
     "output_type": "execute_result"
    }
   ],
   "source": [
    "# Cell to check which word doesn't match among a group of words\n",
    "model.doesnt_match(\"blue green yellow apple\".split())"
   ]
  },
  {
   "cell_type": "code",
   "execution_count": 7,
   "metadata": {
    "collapsed": false
   },
   "outputs": [
    {
     "data": {
      "text/plain": [
       "0.72445395334591289"
      ]
     },
     "execution_count": 7,
     "metadata": {},
     "output_type": "execute_result"
    }
   ],
   "source": [
    "# Cell to check similarity among two words\n",
    "model.similarity(\"squats\",\"legpress\")"
   ]
  },
  {
   "cell_type": "code",
   "execution_count": 8,
   "metadata": {
    "collapsed": false
   },
   "outputs": [
    {
     "data": {
      "text/plain": [
       "int"
      ]
     },
     "execution_count": 8,
     "metadata": {},
     "output_type": "execute_result"
    }
   ],
   "source": [
    "# Count number of times a specific word occured in the 2015 Dataset\n",
    "word = model.vocab['difu']\n",
    "type(word.count)"
   ]
  },
  {
   "cell_type": "code",
   "execution_count": 9,
   "metadata": {
    "collapsed": false
   },
   "outputs": [
    {
     "data": {
      "text/plain": [
       "False"
      ]
     },
     "execution_count": 9,
     "metadata": {},
     "output_type": "execute_result"
    }
   ],
   "source": [
    "# Check if word (Unigram) is in model. It is case-sensitive\n",
    "'Dragon' in model"
   ]
  },
  {
   "cell_type": "code",
   "execution_count": 10,
   "metadata": {
    "collapsed": false
   },
   "outputs": [
    {
     "data": {
      "text/plain": [
       "array([ 0.10375531,  0.10929207,  0.08830469,  0.01395523, -0.01517171,\n",
       "        0.00501317, -0.06046121,  0.02743253,  0.02918806,  0.03573068,\n",
       "       -0.01970761, -0.01276298, -0.02046086,  0.03802621,  0.00047961,\n",
       "       -0.0017624 , -0.06191385, -0.05035397,  0.08013493, -0.05448005,\n",
       "       -0.04873396,  0.01874197, -0.06683715, -0.07103707, -0.01683106,\n",
       "        0.0146693 , -0.06659026, -0.01451557, -0.02147384,  0.00971734,\n",
       "       -0.03524466, -0.08246868, -0.12978971, -0.04906649, -0.04533923,\n",
       "        0.13329028,  0.0016056 ,  0.02454429,  0.07700373,  0.03213641,\n",
       "       -0.03062899,  0.07740682,  0.15522739, -0.00674924, -0.05913823,\n",
       "       -0.01185566, -0.0377803 , -0.03675865, -0.00894851,  0.06692838,\n",
       "       -0.04187158,  0.05098331, -0.06255441,  0.03872509, -0.04266021,\n",
       "        0.08426074,  0.02840355, -0.06466481, -0.04299739, -0.04460176,\n",
       "        0.01159275, -0.03719337, -0.0315008 , -0.04088448, -0.0624588 ,\n",
       "       -0.14078555,  0.0181028 ,  0.00725325,  0.13781574,  0.13233262,\n",
       "       -0.00291151,  0.00764886,  0.03208995, -0.03326856, -0.05992234,\n",
       "       -0.00812489,  0.06154244, -0.00153733, -0.07503661, -0.01919837,\n",
       "       -0.06174266,  0.06307262, -0.00991517, -0.00537495,  0.01100818,\n",
       "       -0.00309421, -0.03843024,  0.08388992, -0.03528591, -0.01707673,\n",
       "        0.05067046,  0.08199058,  0.10819057, -0.01187677,  0.01704191,\n",
       "        0.08851299, -0.00709524,  0.08821148,  0.02399726, -0.0355388 ,\n",
       "        0.0637447 , -0.03842685, -0.02357965,  0.1052431 , -0.04192531,\n",
       "        0.01301927, -0.00388833,  0.03789061,  0.0548476 , -0.03660718,\n",
       "        0.03387237, -0.02327102,  0.04295421, -0.00299913, -0.0086517 ,\n",
       "       -0.15748991,  0.00540865,  0.05024588,  0.09840576, -0.03547455,\n",
       "        0.01499083,  0.06691504, -0.00178865,  0.02475875, -0.04188067,\n",
       "       -0.07292899,  0.0584683 , -0.02164446, -0.02021173,  0.02470689,\n",
       "        0.03373963,  0.03235491, -0.00866173,  0.04675192,  0.07843623,\n",
       "       -0.01978736,  0.05862357, -0.04986522, -0.06331722,  0.09770641,\n",
       "       -0.07403297, -0.01876163,  0.15719062, -0.03003665, -0.05517104,\n",
       "       -0.07295563, -0.09145951,  0.08890592, -0.01663058,  0.02304546,\n",
       "        0.02257246, -0.11362164,  0.01892708, -0.06549191, -0.06803696,\n",
       "        0.00575261, -0.02943559,  0.04192356,  0.08985724,  0.00367908,\n",
       "        0.02262164,  0.0336058 , -0.0964362 , -0.03014646,  0.08461374,\n",
       "       -0.01044049,  0.12636341, -0.02741726,  0.01307662, -0.09283347,\n",
       "       -0.00155969, -0.05279908,  0.02658959,  0.06108674, -0.0012177 ,\n",
       "       -0.03018373,  0.00298643,  0.03632041,  0.08523285, -0.09757674,\n",
       "       -0.00695057,  0.02493118,  0.0528955 ,  0.01691892,  0.02037141,\n",
       "       -0.06100637, -0.08655426, -0.11842502, -0.00963055, -0.13159734,\n",
       "        0.09294502, -0.03024082, -0.03116816,  0.06909475,  0.07811587,\n",
       "        0.03187402, -0.05558322,  0.07472853,  0.08799065,  0.00068721,\n",
       "        0.04529938,  0.02411774, -0.04452143, -0.09086111, -0.00132158,\n",
       "        0.01423635,  0.00196535, -0.02767582,  0.08974604,  0.00935462,\n",
       "       -0.10518689, -0.02053581,  0.03025113, -0.05313436,  0.0111608 ,\n",
       "        0.02076566, -0.01849111, -0.03024258, -0.00484939, -0.02688739,\n",
       "       -0.01901933,  0.01186682,  0.03828729,  0.06968293, -0.10433368,\n",
       "       -0.01290842, -0.05396088, -0.03421716,  0.04298025, -0.0607022 ,\n",
       "       -0.07300226,  0.01388066,  0.04472464, -0.00536563, -0.0073707 ,\n",
       "       -0.01784705,  0.10152286,  0.01429615, -0.07063382,  0.06537092,\n",
       "       -0.10361025,  0.04606031, -0.041074  ,  0.01302406,  0.01490932,\n",
       "        0.06556083, -0.03249144, -0.00815382, -0.01742634,  0.02183486,\n",
       "       -0.10338343,  0.01186923, -0.01311919, -0.03108991,  0.03999364,\n",
       "        0.05782548, -0.02796936, -0.09031177,  0.02412309,  0.030544  ,\n",
       "       -0.00819179,  0.05265951, -0.00862654, -0.07651998, -0.09836493,\n",
       "       -0.07281323,  0.09697643, -0.06061225, -0.0939053 ,  0.07460298,\n",
       "       -0.05286264, -0.08889345, -0.02941787, -0.04758082,  0.00871428,\n",
       "        0.06638871, -0.06293385,  0.01141952,  0.0409371 ,  0.05952   ,\n",
       "        0.02838378,  0.02887182, -0.00210617,  0.01806517, -0.11633125,\n",
       "        0.01847265,  0.04637891, -0.11801687, -0.10678154,  0.06768675,\n",
       "        0.01114637, -0.0111705 , -0.01726406, -0.07952795,  0.02246423,\n",
       "       -0.10421882,  0.01913065, -0.10635599,  0.04182519, -0.03706539], dtype=float32)"
      ]
     },
     "execution_count": 10,
     "metadata": {},
     "output_type": "execute_result"
    }
   ],
   "source": [
    "# What does each word actually contain?\n",
    "model['goku']"
   ]
  },
  {
   "cell_type": "code",
   "execution_count": 11,
   "metadata": {
    "collapsed": false
   },
   "outputs": [],
   "source": [
    "# Visualisation (Normal) using TSNE and PCA\n",
    "# Motivation: http://lvdmaaten.github.io/tsne/\n",
    "# Motivation: https://golog.co/blog/article/Visualising_high-dimensional_datasets_using_PCA_and_tSNE\n",
    "# Video: https://www.youtube.com/watch?v=RJVL80Gg3lA\n",
    "\n",
    "# Firstly: Import the libraries\n",
    "from sklearn.manifold import TSNE\n",
    "from sklearn.decomposition import PCA\n",
    "\n",
    "import seaborn as sns\n",
    "import matplotlib.pyplot as plt\n",
    "import numpy as np\n",
    "\n",
    "import mpld3\n",
    "\n",
    "sns.set_style(\"white\")\n",
    "\n",
    "%matplotlib inline"
   ]
  },
  {
   "cell_type": "code",
   "execution_count": 12,
   "metadata": {
    "collapsed": true
   },
   "outputs": [],
   "source": [
    "# Create function to return list of words and word embeddings\n",
    "import random\n",
    "import pickle\n",
    "\n",
    "def getEmbeddings(cluster_file, N, word):\n",
    "    \n",
    "    # Specify path\n",
    "    FILE_DICT = \"C:/Users/MyPC/Desktop/Vegito/Word Dictionaries/dict_\" + str(cluster_file) + \"C.pk\"\n",
    "    FILE_CLUS = \"C:/Users/MyPC/Desktop/Vegito/K-Means Models/full_\" + str(cluster_file) + \"C.pk\"\n",
    "    \n",
    "    # Load the files using pickle\n",
    "    array_dict_cluster = pickle.load(open(FILE_DICT, \"rb\"))\n",
    "    word_centroid_map =  pickle.load(open(FILE_CLUS,\"rb\"))\n",
    "    \n",
    "    # Find index number of word \n",
    "    # Then load all related words \n",
    "    cluster_num = word_centroid_map[word]\n",
    "    words_list = array_dict_cluster[cluster_num]['word_list']\n",
    "    \n",
    "    # Get index number of searched word\n",
    "    index_num = words_list.index(word)\n",
    "    print(\"INDEX NUMBER: %i\" % (index_num))\n",
    "    \n",
    "    # Memory limitations\n",
    "    if index_num < N:\n",
    "        \n",
    "        index_num = N\n",
    "    \n",
    "    # Lets get only the first N number of words\n",
    "    words_list = words_list[:index_num + 10]\n",
    "    \n",
    "    # Initialize array of vectors and words\n",
    "    vectors = []\n",
    "    words = []\n",
    "    \n",
    "    # Add vector and words\n",
    "    for word in words_list:\n",
    "        \n",
    "        vectors.append(model[word]) \n",
    "        words.append(word)\n",
    "    \n",
    "    return vectors, words"
   ]
  },
  {
   "cell_type": "code",
   "execution_count": null,
   "metadata": {
    "collapsed": false
   },
   "outputs": [
    {
     "name": "stdout",
     "output_type": "stream",
     "text": [
      "INDEX NUMBER: 583\n",
      "SEARCHED WORD: vegito\n",
      "TOTAL WORDS: 1210 \n",
      "TIME TAKEN (PCA):  0.41428422927856445\n",
      "EXPLAINED VARIANCED RATIO:  0.88993218947\n"
     ]
    }
   ],
   "source": [
    "# Display the graph in this cell\n",
    "import time\n",
    "\n",
    "# Get the feature vectors and respective words\n",
    "search_word = 'vegito'.lower()\n",
    "get_words = 1000\n",
    "\n",
    "wv, vocabulary = getEmbeddings(500, get_words, search_word)\n",
    "\n",
    "print('SEARCHED WORD: %s' % (search_word))\n",
    "print(\"TOTAL WORDS: %i \" % (len(vocabulary)))\n",
    "\n",
    "# Initialize PCA model\n",
    "pca = PCA(n_components=175)\n",
    "\n",
    "start = time.time()\n",
    "pca_result = pca.fit_transform(wv)\n",
    "end = time.time()\n",
    "\n",
    "print(\"TIME TAKEN (PCA): \", end-start)\n",
    "\n",
    "# Get explained variance ratio\n",
    "explain_ratio = np.sum(pca.explained_variance_ratio_)\n",
    "print('EXPLAINED VARIANCED RATIO: ', explain_ratio)\n",
    "\n",
    "# Initialize TSNE model\n",
    "tsne = TSNE(n_components=2, random_state=0)\n",
    "\n",
    "# Fit with TSNE\n",
    "start = time.time()\n",
    "Y = tsne.fit_transform(pca_result)\n",
    "end = time.time()\n",
    "\n",
    "print(\"TIME TAKEN (TSNE): \", end - start)\n",
    "\n",
    "# Scatter points\n",
    "fig, ax = plt.subplots(figsize=(10, 8),subplot_kw={'xticks': [], 'yticks': []})\n",
    "\n",
    "# Use Scatterplot\n",
    "ax.scatter(Y[:, 0], Y[:, 1], color=\"blue\")\n",
    "\n",
    "# Initialize Points\n",
    "for label, x, y in zip(vocabulary, Y[:, 0], Y[:, 1]):\n",
    "    \n",
    "    # Give the searched word a different color\n",
    "    # Otherwise, all words should be colored red\n",
    "    color = 'black'\n",
    "    fontsize = 10\n",
    "    \n",
    "    if label == search_word:\n",
    "        color = 'red'\n",
    "        fontsize = 20\n",
    "        \n",
    "    ax.annotate(label, xy=(x, y), fontsize=fontsize, color=color)\n",
    "\n",
    "# Display\n",
    "mpld3.display(fig)"
   ]
  },
  {
   "cell_type": "code",
   "execution_count": 14,
   "metadata": {
    "collapsed": true
   },
   "outputs": [],
   "source": [
    "# Function to plot the histogram of word distribution\n",
    "\n",
    "def plotHistogram(file_cluster):\n",
    "    \n",
    "    FILE_DICT = \"C:/Users/MyPC/Desktop/Vegito/Word Dictionaries/dict_\" + str(file_cluster) + \"C.pk\"\n",
    "    array_dict_cluster = pickle.load(open(FILE_DICT, \"rb\"))\n",
    "\n",
    "    word_length = []\n",
    "\n",
    "    # Loop cluster by cluster\n",
    "    for cluster in array_dict_cluster:\n",
    "\n",
    "        # Get total words\n",
    "        total_words = len(cluster['word_list'])\n",
    "\n",
    "        # Append\n",
    "        word_length.append(total_words)\n",
    "\n",
    "    # Plot Histogram\n",
    "    PADDING = 15\n",
    "\n",
    "    sns.set(rc={\"figure.figsize\": (6,6)})\n",
    "    sns.set_style(\"white\")\n",
    "    sns.set_style(\"ticks\")\n",
    "    sns.set_context(\"notebook\", font_scale=1)\n",
    "\n",
    "    ax = sns.distplot(word_length, kde=False, color='purple')\n",
    "\n",
    "    ax.grid(False)\n",
    "    ax.set(title='Words Distribution in '+ str(file_cluster) + ' Clusters')\n",
    "\n",
    "    plt.xlabel(\"Total Words\", labelpad=PADDING)\n",
    "    plt.ylabel(\"Total Clusters\", labelpad=PADDING)"
   ]
  },
  {
   "cell_type": "code",
   "execution_count": 15,
   "metadata": {
    "collapsed": false
   },
   "outputs": [
    {
     "data": {
      "image/png": "[encoded data removed]",
      "text/plain": [
       "<matplotlib.figure.Figure at 0x1d276ce44a8>"
      ]
     },
     "metadata": {},
     "output_type": "display_data"
    },
    {
     "data": {
      "image/png": "[encoded data removed]",
      "text/plain": [
       "<matplotlib.figure.Figure at 0x1d28816a2e8>"
      ]
     },
     "metadata": {},
     "output_type": "display_data"
    }
   ],
   "source": [
    "# Call histogram function plot the histograms\n",
    "\n",
    "mpld3.disable_notebook()\n",
    "# Array to store number of clusters\n",
    "clust_array = [250,500]\n",
    "\n",
    "# Go one by one\n",
    "for clusters in clust_array:\n",
    "    \n",
    "    # Call histogram function\n",
    "    plotHistogram(clusters)\n",
    "    sns.despine()\n",
    "    plt.show()"
   ]
  }
 ],
 "metadata": {
  "anaconda-cloud": {},
  "kernelspec": {
   "display_name": "Python [conda root]",
   "language": "python",
   "name": "conda-root-py"
  },
  "language_info": {
   "codemirror_mode": {
    "name": "ipython",
    "version": 3
   },
   "file_extension": ".py",
   "mimetype": "text/x-python",
   "name": "python",
   "nbconvert_exporter": "python",
   "pygments_lexer": "ipython3",
   "version": "3.5.2"
  }
 },
 "nbformat": 4,
 "nbformat_minor": 1
}
