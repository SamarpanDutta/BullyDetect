{
 "cells": [
  {
   "cell_type": "code",
   "execution_count": 2,
   "metadata": {
    "collapsed": false
   },
   "outputs": [
    {
     "name": "stderr",
     "output_type": "stream",
     "text": [
      "C:\\Users\\MyPC\\Anaconda3\\lib\\site-packages\\gensim\\utils.py:840: UserWarning: detected Windows; aliasing chunkize to chunkize_serial\n",
      "  warnings.warn(\"detected Windows; aliasing chunkize to chunkize_serial\")\n",
      "C:\\Users\\MyPC\\Anaconda3\\lib\\site-packages\\gensim\\utils.py:1015: UserWarning: Pattern library is not installed, lemmatization won't be available.\n",
      "  warnings.warn(\"Pattern library is not installed, lemmatization won't be available.\")\n"
     ]
    }
   ],
   "source": [
    "# Import necessary libraries here\n",
    "import numpy as np\n",
    "import os\n",
    "import pickle\n",
    "\n",
    "from gensim.models import Word2Vec as w2v"
   ]
  },
  {
   "cell_type": "code",
   "execution_count": null,
   "metadata": {
    "collapsed": true
   },
   "outputs": [],
   "source": [
    "# Load necessary models\n",
    "\n",
    "model = w2v.load_word2vec_format(FILE, binary=True)"
   ]
  },
  {
   "cell_type": "code",
   "execution_count": null,
   "metadata": {
    "collapsed": true
   },
   "outputs": [],
   "source": [
    "# Dr. Soon's idea (Use Top 5 words)\n",
    "def wordsAverage(word, model):\n",
    "\n",
    "    # Pre-initialize an empty numpy array (for speed)\n",
    "    # 300 is used, as it is the number of vectors in Word2Vec\n",
    "    avgWordsFeature = np.zeros((300,),dtype=\"float32\")\n",
    "\n",
    "    # Get words that are similar. This returns tuples in a list\n",
    "    # Topn refers to the Top N words. 10 is default\n",
    "    top_n = 5\n",
    "\n",
    "    # Get words that are similar. This returns tuples in a list\n",
    "    similar_words = model.most_similar(word, topn=top_n)\n",
    "\n",
    "    # Calculate the Mean Cosine similarity among words\n",
    "    mean_cos_distance = np.mean([ cos_distance for word, cos_distance in similar_words ])\n",
    "\n",
    "    # Get the collected words that are similar above this score. \n",
    "    # Get the number of words as well\n",
    "    words_above_mean = [word for word, cos_distance in similar_words if cos_distance > mean_cos_distance]\n",
    "    total_words = float(len(words_above_mean))\n",
    "\n",
    "    # Loop over each word\n",
    "    for word in words_above_mean:\n",
    "\n",
    "        # Add the word's vector\n",
    "        avgWordsFeature = np.add(avgWordsFeature,model[word])\n",
    "\n",
    "    # Average them out\n",
    "    avgWordsFeature = np.divide(avgWordsFeature,total_words)\n",
    "\n",
    "    # Return them\n",
    "    return avgWordsFeature"
   ]
  },
  {
   "cell_type": "code",
   "execution_count": null,
   "metadata": {
    "collapsed": true
   },
   "outputs": [],
   "source": [
    "# Function to transform the data\n",
    "def makeFeatureVec(words, model, vector_dict, num_features):\n",
    "\n",
    "    # Pre-initialize an empty numpy array (for speed)\n",
    "    featureVec = np.zeros((num_features,),dtype=\"float32\")\n",
    "\n",
    "    # Count number of words\n",
    "    nwords = 0.\n",
    "\n",
    "    # Loop over word by word\n",
    "    # If in vocabulary, add its feature vector to the total\n",
    "    for word in words.split():\n",
    "        \n",
    "        if word in model: #and word not in stop_words:\n",
    "            nwords += 1.\n",
    "            featureVec = np.add(featureVec,vector_dict[word])\n",
    "\n",
    "    # Divide the result by the number of words to get the average\n",
    "    featureVec = np.divide(featureVec,nwords)\n",
    "    \n",
    "    # If number of words zero\n",
    "    if nwords == 0:\n",
    "        featureVec = characterVec(words, model, num_features)\n",
    "    \n",
    "    return featureVec"
   ]
  }
 ],
 "metadata": {
  "anaconda-cloud": {},
  "kernelspec": {
   "display_name": "Python [conda root]",
   "language": "python",
   "name": "conda-root-py"
  },
  "language_info": {
   "codemirror_mode": {
    "name": "ipython",
    "version": 3
   },
   "file_extension": ".py",
   "mimetype": "text/x-python",
   "name": "python",
   "nbconvert_exporter": "python",
   "pygments_lexer": "ipython3",
   "version": "3.5.2"
  }
 },
 "nbformat": 4,
 "nbformat_minor": 1
}
