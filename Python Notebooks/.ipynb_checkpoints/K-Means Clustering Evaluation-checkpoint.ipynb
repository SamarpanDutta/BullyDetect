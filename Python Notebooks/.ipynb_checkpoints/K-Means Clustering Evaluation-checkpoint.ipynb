{
 "cells": [
  {
   "cell_type": "markdown",
   "metadata": {},
   "source": [
    "# K-Means Clustering Evaluation\n",
    "\n",
    "This Python notebook is used for evaluation of a dictionary that is produced by:\n",
    "\n",
    "1. Clustering word vectors by K-Means clustering\n",
    "2. Converting into a dictionary that corresponds to 'Word: Index' pairing\n",
    "\n",
    "The evaluation consists of:\n",
    "\n",
    "- Find the cluster a word belongs to \n",
    "- Find the other words in the cluster for a specific word"
   ]
  },
  {
   "cell_type": "code",
   "execution_count": 1,
   "metadata": {
    "collapsed": false
   },
   "outputs": [
    {
     "name": "stdout",
     "output_type": "stream",
     "text": [
      "TOTAL WORDS: 1146604\n",
      "TOTAL CLUSTERS USED: 250 \n",
      "AVERAGE PER CLUSTER 4586\n"
     ]
    }
   ],
   "source": [
    "import pickle\n",
    "\n",
    "# Specify the files\n",
    "FILE_DICT = \"C:/Users/MyPC/Desktop/FYP/Word Dictionaries/dict_250C.pk\"\n",
    "FILE_CLUS = \"C:/Users/MyPC/Desktop/FYP/K-Means Models/full_250C.pk\"\n",
    "\n",
    "# Load using pickle\n",
    "array_dict_cluster = pickle.load(open(FILE_DICT, \"rb\"))\n",
    "word_centroid_map =  pickle.load(open(FILE_CLUS,\"rb\"))\n",
    "\n",
    "total_clusters = max(word_centroid_map.values()) + 1\n",
    "average_word = round(len(word_centroid_map)/total_clusters)\n",
    "\n",
    "# Display results\n",
    "print(\"TOTAL WORDS: %i\" % (len(word_centroid_map)))\n",
    "print(\"TOTAL CLUSTERS USED: %i \" % (total_clusters))\n",
    "print(\"AVERAGE PER CLUSTER %i\" % (average_word))"
   ]
  },
  {
   "cell_type": "code",
   "execution_count": 3,
   "metadata": {
    "collapsed": false
   },
   "outputs": [
    {
     "name": "stdout",
     "output_type": "stream",
     "text": [
      "CLUSTER NUMBER: 97\n",
      "SEARCHED WORD: spaghetti \n",
      "\n",
      "INDEX NUMBER: 1553\n",
      "words[1553] = spaghetti \n",
      "\n",
      "TOTAL WORDS: 2503 \n",
      "\n",
      "WORDS:  ['jalapenos', 'habeneros', 'tofu', 'spanakopita', 'zweigles', 'babybels', 'hardboiled', 'potaters', 'teaspoon', 'friers', 'cadbury', 'neufchatel', 'meatloafs', 'prepacked', 'jicama', 'mochi', 'cheesie', 'cutlets', 'avacados', 'puttanesca', 'appetizing', 'mallows', 'yolkers', 'pierogis', 'haddock', 'sriacha', 'ketchup', 'timbit', 'juicier', 'trailmix', 'cheeses', 'boule', 'bun', 'spaghettis', 'eggroll', 'tayto', 'kashi', 'tuffet', 'breadstick', 'zesty', 'iberico', 'dijon', 'houmous', 'soy', 'eggplants', 'barm', 'totinos', 'jambalaya', 'baklava', 'chianti', 'pork', 'cassoulet', 'homestyle', 'untoasted', 'icing', 'icecream', 'pico', 'coconut', 'overcooked', 'appetiser', 'broccolli', 'rices', 'omelete', 'brisket', 'unbuttered', 'fritters', 'empanadas', 'sandwiches', 'footling', 'tostitos', 'yummies', 'unkosher', 'carbquick', 'wheat', 'shiitake', 'riblet', 'pasteurized', 'andouille', 'buscuit', 'pastrami', 'popsicles', 'hormel', 'doritios', 'raclette', 'macarons', 'waffles', 'unbaked', 'slathered', 'skewers', 'unmelted', 'sauce', 'avocadoes', 'fontina', 'hamburgers', 'tasso', 'sofritas', 'flautas', 'frozen', 'minced', 'tamari', 'preportioned', 'pakora', 'poutine', 'drizzling', 'turnip', 'marrows', 'proscuitto', 'bucco', 'fettucini', 'yam', 'deboned', 'vegitables', 'salsa', 'kumquats', 'spreadable', 'olives', 'lowcarb', 'grated', 'yolker', 'banannas', 'nondairy', 'zukes', 'tbs', 'millies', 'farro', 'crabcakes', 'overcook', 'macaronis', 'wonton', 'hagelslag', 'scone', 'donair', 'garum', 'chicharrones', 'toastie', 'tomatoey', 'umms', 'puddings', 'kerrygold', 'inedibly', 'dempsters', 'doughballs', 'pea', 'undercooks', 'cheesesticks', 'violife', 'avocados', 'spag', 'quesalupa', 'maggi', 'drumsticks', 'glutinous', 'radishes', 'precooking', 'cantaloupe', 'sous', 'galangal', 'butties', 'puree', 'kumara', 'challah', 'frenched', 'sarnie', 'teriyaki', 'veges', 'seafood', 'rarebit', 'drackonack', 'doogh', 'breadsticks', 'undercooking', 'oyakodon', 'pastry', 'scallops', 'bugles', 'tastiness', 'vegetables', 'gouda', 'unroasted', 'accompaniments', 'bhut', 'cookbooks', 'plantain', 'crispyness', 'furikake', 'mcnuggets', 'curried', 'flan', 'timtams', 'hominy', 'stir', 'sunbutter', 'wafers', 'mushy', 'brownies', 'loaves', 'tapatio', 'ribeyes', 'harina', 'punnet']\n"
     ]
    }
   ],
   "source": [
    "# Find the cluster of words, based on a given word\n",
    "search = \"spaghetti\"\n",
    "\n",
    "# Get the key, or cluster number\n",
    "cluster_num = word_centroid_map[search]\n",
    "\n",
    "# Return the array based on the cluster number\n",
    "words = array_dict_cluster[cluster_num]['word_list']\n",
    "        \n",
    "# Get index number of word (VERIFICATION)\n",
    "index_search = words.index(search)\n",
    "\n",
    "# Display results\n",
    "print(\"CLUSTER NUMBER: %i\" % (cluster_num))\n",
    "print(\"SEARCHED WORD: %s \\n\" % (search))\n",
    "\n",
    "print(\"INDEX NUMBER: %i\" % (index_search))\n",
    "print(\"words[%i] = %s \\n\" % (index_search, words[index_search]))\n",
    "\n",
    "print(\"TOTAL WORDS: %i \\n\" % (len(words)))\n",
    "\n",
    "print(\"WORDS: \", words[:200])"
   ]
  }
 ],
 "metadata": {
  "anaconda-cloud": {},
  "kernelspec": {
   "display_name": "Python [conda root]",
   "language": "python",
   "name": "conda-root-py"
  },
  "language_info": {
   "codemirror_mode": {
    "name": "ipython",
    "version": 3
   },
   "file_extension": ".py",
   "mimetype": "text/x-python",
   "name": "python",
   "nbconvert_exporter": "python",
   "pygments_lexer": "ipython3",
   "version": "3.5.2"
  }
 },
 "nbformat": 4,
 "nbformat_minor": 1
}
