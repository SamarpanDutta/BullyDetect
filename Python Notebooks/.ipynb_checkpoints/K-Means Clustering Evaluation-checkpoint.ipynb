{
 "cells": [
  {
   "cell_type": "markdown",
   "metadata": {},
   "source": [
    "# K-Means Clustering Evaluation\n",
    "\n",
    "This Python notebook is used for evaluation of a dictionary that is produced by:\n",
    "\n",
    "1. Clustering word vectors by K-Means clustering\n",
    "2. Converting into a dictionary that corresponds to 'Word: Index' pairing\n",
    "\n",
    "The evaluation consists of:\n",
    "\n",
    "- Find the cluster a word belongs to \n",
    "- Find the other words in the cluster for a specific word"
   ]
  },
  {
   "cell_type": "code",
   "execution_count": 6,
   "metadata": {
    "collapsed": false
   },
   "outputs": [
    {
     "name": "stdout",
     "output_type": "stream",
     "text": [
      "TOTAL WORDS: 600000\n",
      "TOTAL CLUSTERS USED: 250 \n",
      "AVERAGE PER CLUSTER 2400\n"
     ]
    }
   ],
   "source": [
    "# Load the K-Means model\n",
    "import pickle\n",
    "\n",
    "# Specify the file\n",
    "FILE = \"C:/Users/MyPC/Desktop/FYP/K-Means Models/dict_250C_600K.pk\"\n",
    "\n",
    "# Load using pickle\n",
    "word_centroid_map =  pickle.load(open(FILE,\"rb\"))\n",
    "total_clusters = max(word_centroid_map.values()) + 1\n",
    "average_word = round(len(word_centroid_map)/total_clusters)\n",
    "\n",
    "print(\"TOTAL WORDS: %i\" % (len(word_centroid_map)))\n",
    "print(\"TOTAL CLUSTERS USED: %i \" % (total_clusters))\n",
    "print(\"AVERAGE PER CLUSTER %i\" % (average_word))"
   ]
  },
  {
   "cell_type": "code",
   "execution_count": 17,
   "metadata": {
    "collapsed": false
   },
   "outputs": [
    {
     "name": "stdout",
     "output_type": "stream",
     "text": [
      "SEARCHED WORD: china \n",
      "\n",
      "INDEX NUMBER: 2096\n",
      "words[2096] = china \n",
      "\n",
      "CLUSTER NUMBER: 198 \n",
      "\n",
      "TOTAL WORDS: 2573 \n",
      "\n",
      "WORDS:  ['egipt', 'arkhangelsk', 'dejima', 'henan', 'sevastopol', 'conakry', 'bastar', 'trotskygrad', 'peto', 'arunachal', 'poltava', 'algier', 'phillippines', 'narbonne', 'dieppe', 'karadeniz', 'kahnawake', 'gambia', 'odisha', 'monacco', 'vienna', 'spetses', 'venezula', 'panipat', 'mehal', 'anschlussed', 'wales', 'provence', 'xeko', 'detmold', 'palakkad', 'budjak', 'boscastle', 'cambodia', 'ecuadoran', 'birthplace', 'rorvik', 'guiyu', 'saqer', 'memelland', 'kolyma', 'camorra', 'salonica', 'breizh', 'westerwald', 'mohenjo', 'meran', 'mongolia', 'reland', 'khyber', 'mauritania', 'fennoscandia', 'ighrem', 'kunia', 'phonecia', 'switzerland', 'ruotsi', 'bahrein', 'kurils', 'gazikumukh', 'sunda', 'narvik', 'corsica', 'salwa', 'tazi', 'luzon', 'arquitecture', 'riverford', 'futuna', 'carribian', 'sankt', 'mediterrean', 'ellrich', 'erfurt', 'vietname', 'omdurman', 'ivano', 'provice', 'ethiopa', 'vientam', 'sovietunion', 'moskow', 'germany', 'anschlussing', 'donau', 'viipuri', 'bucarest', 'liguria', 'kholat', 'wagah', 'meuse', 'ethopia', 'ural', 'mediteranian', 'adana', 'mpumalanga', 'aksai', 'coutryside', 'countys', 'palmanova', 'pommern', 'penghu', 'mashriq', 'austrialia', 'chunghee', 'hwanghae', 'tannu', 'sandzak', 'ulitsa', 'tripolitania', 'peurto', 'chagos', 'nasib', 'lysos', 'piraeus', 'france', 'ardenne', 'scilly', 'freedomville', 'anhalt', 'jeolla', 'memel', 'svealand', 'azores', 'nadj', 'kamchatka', 'hollandia', 'taybeh', 'venezuala', 'europe', 'liaodong', 'malaccan', 'arikara', 'vinnytsia', 'trobrianders', 'positronics', 'altmark', 'vanatu', 'kassel', 'bangaladesh', 'facctions', 'watchpoint', 'elsass', 'suzdal', 'mayak', 'napels', 'bundesamt', 'yekaterinburg', 'nigeria', 'himalaya', 'elbonia', 'akrotiri', 'americaland', 'easternish', 'sarig', 'grenadines', 'uttarkhand', 'nauru', 'nodnol', 'nited', 'ytterby', 'chernihiv', 'canadia', 'koningsberg', 'rhenish', 'saddleworth', 'poppulation', 'lettland', 'bordeux', 'bukovina', 'artvin', 'auvergne', 'wuppertal', 'pemba', 'klagenfurt', 'oradour', 'switserland', 'germonies', 'spratlys', 'kashgar', 'butan', 'iharan', 'schlesien', 'tsushima', 'olso', 'lubumbashi', 'ustio', 'magadan', 'euroasia', 'snoreway', 'dauphine', 'tupinamba', 'anschluss', 'azerbajian', 'elmina', 'antep', 'tetouan', 'valais', 'aftica', 'kyat']\n"
     ]
    }
   ],
   "source": [
    "# Find the cluster of words, based on a given word\n",
    "search = \"china\"\n",
    "\n",
    "# Get the key, or cluster number\n",
    "cluster_num = word_centroid_map[search]\n",
    "\n",
    "# Initialize empty array\n",
    "words = []\n",
    "    \n",
    "for word, cluster in word_centroid_map.items():\n",
    "    if cluster_num == cluster:\n",
    "        words.append(word)\n",
    "        \n",
    "# Get index number of word (VERIFICATION)\n",
    "index_search = words.index(search)\n",
    "\n",
    "# Display results\n",
    "print(\"SEARCHED WORD: %s \\n\" % (search))\n",
    "print(\"INDEX NUMBER: %i\" % (index_search))\n",
    "print(\"words[%i] = %s \\n\" % (index_search, words[index_search]))\n",
    "\n",
    "print(\"CLUSTER NUMBER: %i\" % (cluster_num))\n",
    "print(\"TOTAL WORDS: %i \\n\" % (len(words)))\n",
    "\n",
    "print(\"WORDS: \", words[:200])"
   ]
  },
  {
   "cell_type": "code",
   "execution_count": null,
   "metadata": {
    "collapsed": true
   },
   "outputs": [],
   "source": []
  }
 ],
 "metadata": {
  "anaconda-cloud": {},
  "kernelspec": {
   "display_name": "Python [conda root]",
   "language": "python",
   "name": "conda-root-py"
  },
  "language_info": {
   "codemirror_mode": {
    "name": "ipython",
    "version": 3
   },
   "file_extension": ".py",
   "mimetype": "text/x-python",
   "name": "python",
   "nbconvert_exporter": "python",
   "pygments_lexer": "ipython3",
   "version": "3.5.2"
  }
 },
 "nbformat": 4,
 "nbformat_minor": 1
}
