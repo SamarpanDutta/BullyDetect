{
 "cells": [
  {
   "cell_type": "markdown",
   "metadata": {},
   "source": [
    "# Word2Vec Unigram Testing\n",
    "\n",
    "This Python Notebook is used for evaluation of the Word2Vec Unigram model. The section is broken down as follows:\n",
    "\n",
    "- Find most similar words from the selected word\n",
    "- Perform Syntactic Analysis\n",
    "- Perform Semantic Analysis\n",
    "- Find uncommon word among a list of words\n",
    "- Find cosine similarity among two words\n",
    "- Find the frequency count of a word\n",
    "- Check if a word is in the model\n",
    "- Print preview a list of words\n",
    "- Others (Vector space size)"
   ]
  },
  {
   "cell_type": "code",
   "execution_count": 1,
   "metadata": {
    "collapsed": false
   },
   "outputs": [
    {
     "name": "stderr",
     "output_type": "stream",
     "text": [
      "C:\\Users\\MyPC\\Anaconda3\\lib\\site-packages\\gensim\\utils.py:840: UserWarning: detected Windows; aliasing chunkize to chunkize_serial\n",
      "  warnings.warn(\"detected Windows; aliasing chunkize to chunkize_serial\")\n",
      "C:\\Users\\MyPC\\Anaconda3\\lib\\site-packages\\gensim\\utils.py:1015: UserWarning: Pattern library is not installed, lemmatization won't be available.\n",
      "  warnings.warn(\"Pattern library is not installed, lemmatization won't be available.\")\n"
     ]
    }
   ],
   "source": [
    "from gensim.models import Word2Vec as w2v"
   ]
  },
  {
   "cell_type": "code",
   "execution_count": 2,
   "metadata": {
    "collapsed": false
   },
   "outputs": [],
   "source": [
    "# Load Unigram model\n",
    "FILE = \"C:/Users/MyPC/Desktop/FYP/W2V Models/w2v_reddit_unigram_300d.bin\"\n",
    "model = w2v.load_word2vec_format(FILE, binary=True)"
   ]
  },
  {
   "cell_type": "code",
   "execution_count": 3,
   "metadata": {
    "collapsed": false
   },
   "outputs": [
    {
     "data": {
      "text/plain": [
       "[('biopsychology', 0.740115225315094),\n",
       " ('astrochemistry', 0.7391058206558228),\n",
       " ('neuroendocrinologist', 0.7296165227890015),\n",
       " ('nanoscience', 0.7265405058860779),\n",
       " ('neuropharmacology', 0.7247588038444519),\n",
       " ('saltzberg', 0.7157706618309021),\n",
       " ('ethnomusicology', 0.7156946659088135),\n",
       " ('psychobiology', 0.7154250144958496),\n",
       " ('nueroscience', 0.7147186994552612),\n",
       " ('neuropsychiatry', 0.7140935659408569),\n",
       " ('ichthyology', 0.710540235042572),\n",
       " ('molbio', 0.7056220769882202),\n",
       " ('oenology', 0.7056138515472412),\n",
       " ('antropology', 0.7041956186294556),\n",
       " ('biopsych', 0.7037904858589172),\n",
       " ('neuroengineering', 0.7037561535835266),\n",
       " ('nanoengineering', 0.7024978995323181),\n",
       " ('psycholinguistics', 0.7002543210983276),\n",
       " ('bioanthropology', 0.6995773315429688),\n",
       " ('christmann', 0.698868989944458)]"
      ]
     },
     "execution_count": 3,
     "metadata": {},
     "output_type": "execute_result"
    }
   ],
   "source": [
    "# Cell to find most similar words \n",
    "# One word for unigram: dragon, bleach, tottenham\n",
    "# Two words for bigram: dragon_ball, barack_obama (UNDERSCORE NEEDED + BIGRAM MODEL LOADED)\n",
    "model.most_similar(\"neuropsychopharmacology\", topn=20)"
   ]
  },
  {
   "cell_type": "code",
   "execution_count": 4,
   "metadata": {
    "collapsed": false
   },
   "outputs": [
    {
     "data": {
      "text/plain": [
       "[('lumpur', 0.6737101674079895),\n",
       " ('kuala', 0.6668090224266052),\n",
       " ('taipei', 0.6401477456092834),\n",
       " ('bangkok', 0.6113026142120361),\n",
       " ('penang', 0.5809809565544128),\n",
       " ('lampur', 0.5752942562103271),\n",
       " ('toyko', 0.5550657510757446),\n",
       " ('selangor', 0.5511509776115417),\n",
       " ('singapore', 0.5502724647521973),\n",
       " ('mumbai', 0.5481346249580383)]"
      ]
     },
     "execution_count": 4,
     "metadata": {},
     "output_type": "execute_result"
    }
   ],
   "source": [
    "# Cell for semantic evaluation (Ex. King - man + woman is approximately equal to queen)\n",
    "model.most_similar(positive=[\"tokyo\",\"malaysia\"], negative=[\"japan\"])"
   ]
  },
  {
   "cell_type": "code",
   "execution_count": 5,
   "metadata": {
    "collapsed": false
   },
   "outputs": [
    {
     "data": {
      "text/plain": [
       "[('blueish', 0.7298511266708374),\n",
       " ('greyish', 0.7232707738876343),\n",
       " ('bluish', 0.7149738669395447),\n",
       " ('pinkish', 0.705883264541626),\n",
       " ('purplish', 0.7028074264526367),\n",
       " ('brownish', 0.6946163773536682),\n",
       " ('grayish', 0.6922476887702942),\n",
       " ('reddish', 0.6911346316337585),\n",
       " ('yellowish', 0.6770833134651184),\n",
       " ('whitish', 0.6669460535049438)]"
      ]
     },
     "execution_count": 5,
     "metadata": {},
     "output_type": "execute_result"
    }
   ],
   "source": [
    "# Cell for syntactic evaluation (Ex. walking - walk + swim is approximately equal to swimming)\n",
    "model.most_similar(positive=[\"greenish\",\"blue\"], negative=[\"green\"])"
   ]
  },
  {
   "cell_type": "code",
   "execution_count": 6,
   "metadata": {
    "collapsed": false
   },
   "outputs": [
    {
     "data": {
      "text/plain": [
       "'apple'"
      ]
     },
     "execution_count": 6,
     "metadata": {},
     "output_type": "execute_result"
    }
   ],
   "source": [
    "# Cell to check which word doesn't match among a group of words\n",
    "model.doesnt_match(\"blue green yellow apple\".split())"
   ]
  },
  {
   "cell_type": "code",
   "execution_count": 7,
   "metadata": {
    "collapsed": false
   },
   "outputs": [
    {
     "data": {
      "text/plain": [
       "0.24046405589195533"
      ]
     },
     "execution_count": 7,
     "metadata": {},
     "output_type": "execute_result"
    }
   ],
   "source": [
    "# Cell to check similarity among two words\n",
    "model.similarity(\"titanic\",\"rose\")"
   ]
  },
  {
   "cell_type": "code",
   "execution_count": 8,
   "metadata": {
    "collapsed": false
   },
   "outputs": [
    {
     "data": {
      "text/plain": [
       "int"
      ]
     },
     "execution_count": 8,
     "metadata": {},
     "output_type": "execute_result"
    }
   ],
   "source": [
    "# Count number of times a specific word occured in the 2015 Dataset\n",
    "word = model.vocab['difu']\n",
    "type(word.count)"
   ]
  },
  {
   "cell_type": "code",
   "execution_count": 9,
   "metadata": {
    "collapsed": false
   },
   "outputs": [
    {
     "data": {
      "text/plain": [
       "False"
      ]
     },
     "execution_count": 9,
     "metadata": {},
     "output_type": "execute_result"
    }
   ],
   "source": [
    "# Check if word (Unigram) is in model. It is case-sensitive\n",
    "'Dragon' in model"
   ]
  },
  {
   "cell_type": "code",
   "execution_count": 10,
   "metadata": {
    "collapsed": false
   },
   "outputs": [
    {
     "name": "stdout",
     "output_type": "stream",
     "text": [
      "0 cockweasel 708272\n",
      "1 frakken 449808\n",
      "2 smirfs 428731\n",
      "3 wiine 853778\n",
      "4 rellying 753562\n",
      "5 medsbuy 753745\n",
      "6 kirah 642904\n",
      "7 loltumblr 1027250\n",
      "8 confutation 86362\n",
      "9 desarmado 49277\n",
      "10 whicy 268221\n",
      "11 weekending 733123\n",
      "12 mactaggart 193721\n",
      "13 caprisun 1003736\n",
      "14 studierte 202535\n",
      "15 dourtmund 137290\n",
      "16 namors 626101\n",
      "17 gingered 700697\n",
      "18 urzak 346864\n",
      "19 alck 366608\n",
      "20 hronis 322693\n",
      "21 depraved 1120032\n",
      "22 perichondrium 157468\n",
      "23 tumakbo 799760\n",
      "24 ximum 550855\n",
      "25 bantam 1087697\n",
      "26 fullon 866146\n",
      "27 cachete 724355\n",
      "28 nakakaiyak 347117\n",
      "29 stoneberry 443653\n",
      "30 parallelisms 855916\n",
      "31 fueling 1122857\n",
      "32 eliminiation 405126\n",
      "33 budzilla 354658\n",
      "34 divestitures 729040\n",
      "35 badmannered 475022\n",
      "36 celticsblog 720527\n",
      "37 windtalkers 933967\n",
      "38 fururama 700825\n",
      "39 inevara 118029\n",
      "40 ertragswert 64683\n",
      "41 giffingtool 112915\n",
      "42 dingens 93462\n",
      "43 sommerdamm 674304\n",
      "44 dickade 55306\n",
      "45 conceration 23629\n",
      "46 ujarnya 188641\n",
      "47 iphy 359343\n",
      "48 receptiveness 1019798\n",
      "49 microcube 754417\n",
      "50 proudmanlet 159038\n",
      "51 sysinstall 78281\n",
      "52 cambada 491529\n",
      "53 bistrevsky 351495\n",
      "54 sablich 106899\n",
      "55 horngate 8558\n",
      "56 fekaf 91361\n",
      "57 partiel 346242\n",
      "58 tidebuy 656835\n",
      "59 blendon 438701\n",
      "60 hysterz 557559\n",
      "61 attenderen 265015\n",
      "62 sylverant 709755\n",
      "63 schicky 61459\n",
      "64 vaxine 173682\n",
      "65 zedxleppelin 230616\n",
      "66 solidblues 768659\n",
      "67 gensport 124034\n",
      "68 echobelly 668600\n",
      "69 jubilo 705610\n",
      "70 euler 1109608\n"
     ]
    }
   ],
   "source": [
    "# A brief review of words in the model\n",
    "count = 70\n",
    "\n",
    "for index, word in enumerate(model.vocab):\n",
    "    print(index, word, model.vocab[word].count)\n",
    "    if index == count:\n",
    "        break"
   ]
  },
  {
   "cell_type": "code",
   "execution_count": 11,
   "metadata": {
    "collapsed": false
   },
   "outputs": [],
   "source": [
    "# Looking under the hood of Word2vec\n",
    "# Use this cell as tips for K-Means Clustering\n",
    "# Motivation: https://www.kaggle.com/c/word2vec-nlp-tutorial/details/part-3-more-fun-with-word-vectors\n",
    "\n",
    "# Feature vector for each word(s) \n",
    "#print(model.syn0[0])\n",
    "\n",
    "# Shape of the vocabulary\n",
    "#print(model.syn0.shape)\n",
    "\n",
    "# Get list of all keys (words)\n",
    "#model.index2word[2000:3000]"
   ]
  },
  {
   "cell_type": "code",
   "execution_count": 68,
   "metadata": {
    "collapsed": false
   },
   "outputs": [
    {
     "name": "stdout",
     "output_type": "stream",
     "text": [
      "TIME TAKEN:  19.578624963760376\n"
     ]
    }
   ],
   "source": [
    "# Do preliminary of K-Means testing using the first (1000,2000,4000) words using 250 clusters\n",
    "from sklearn.cluster import KMeans\n",
    "import time\n",
    "\n",
    "# Specify the number of words and clusters\n",
    "WORDS = 5000\n",
    "CLUSTERS = 250\n",
    "\n",
    "# Get the word vectors and the word\n",
    "word_vectors = model.syn0[:WORDS]\n",
    "words = model.index2word[:WORDS]\n",
    "\n",
    "# Initialize K-Means\n",
    "k_means = KMeans( n_clusters = CLUSTERS )\n",
    "\n",
    "# Fit the model, get the centroid number and calculate time\n",
    "start = time.time()\n",
    "idx = k_means.fit_predict(word_vectors)\n",
    "end = time.time()\n",
    "\n",
    "print(\"TIME TAKEN: \", end-start)"
   ]
  },
  {
   "cell_type": "code",
   "execution_count": 69,
   "metadata": {
    "collapsed": false
   },
   "outputs": [
    {
     "data": {
      "text/plain": [
       "dict"
      ]
     },
     "execution_count": 69,
     "metadata": {},
     "output_type": "execute_result"
    }
   ],
   "source": [
    "# Create a Word / Index dictionary\n",
    "# Each vocabulary word is matched to a cluster center\n",
    "\n",
    "word_centroid_map = dict(zip( words, idx ))\n",
    "\n",
    "type(word_centroid_map)"
   ]
  },
  {
   "cell_type": "code",
   "execution_count": 70,
   "metadata": {
    "collapsed": false
   },
   "outputs": [
    {
     "name": "stdout",
     "output_type": "stream",
     "text": [
      "CLUSTER NUMBER: 0\n",
      "WORDS:  ['references', 'commentary', 'romantic', 'sarcasm', 'vibe', 'comedy', 'dialogue', 'tone', 'jokes', 'puns', 'joke', 'humor', 'audience', 'entertainment', 'fashion', 'romance']\n",
      "\n",
      "\n",
      "\n",
      "CLUSTER NUMBER: 1\n",
      "WORDS:  ['repeatedly', 'proven', 'said', 'confirmed', 'publicly', 'committed', 'cheated', 'lied', 'claimed', 'admitted', 'admit']\n",
      "\n",
      "\n",
      "\n",
      "CLUSTER NUMBER: 2\n",
      "WORDS:  ['group', 'army', 'leadership', 'join', 'commander', 'leader', 'crew', 'alliance', 'captain', 'chief', 'squad', 'navy', 'clan', 'gang', 'soldier', 'members', 'member', 'leaders', 'allies', 'joining', 'troops', 'council', 'soldiers']\n",
      "\n",
      "\n",
      "\n",
      "CLUSTER NUMBER: 3\n",
      "WORDS:  ['obvious', 'generic', 'practical', 'common', 'universal', 'simple', 'easy', 'genuine', 'plain', 'complex', 'detailed', 'handy', 'pure', 'nicely', 'basic', 'quick', 'clear', 'broad', 'subtle']\n",
      "\n",
      "\n",
      "\n",
      "CLUSTER NUMBER: 4\n",
      "WORDS:  ['giving', 'being', 'making', 'becoming', 'returning', 'starting', 'picking', 'getting', 'ing', 'providing', 'taking', 'doing', 'bringing', 'catching', 'avoiding', 'coming', 'offering', 'finding', 'having', 'applying', 'looking', 'showing', 'seeing', 'leaving', 'seeking', 'waiting', 'staying', 'needing']\n",
      "\n",
      "\n",
      "\n",
      "CLUSTER NUMBER: 5\n",
      "WORDS:  ['tech', 'equipment', 'mechanical', 'engineer', 'materials', 'craft', 'tools', 'build', 'gear', 'engineers', 'advanced', 'upgraded', 'units', 'upgrades', 'weapons', 'construction', 'upgrade', 'unit']\n",
      "\n",
      "\n",
      "\n",
      "CLUSTER NUMBER: 6\n",
      "WORDS:  ['that', 'but', 'frankly', 'also', 'legitimately', 'well', 'both', 'only', 'actually', 'certainly', 'indeed', 'definitely', 'even', 'however', 'additionally', 'honestly', 'already', 'personally', 'though', 'yes', 'although', 'plus', 'still']\n",
      "\n",
      "\n",
      "\n",
      "CLUSTER NUMBER: 7\n",
      "WORDS:  ['beauty', 'mainstream', 'tradition', 'scientific', 'ancient', 'modern', 'historical', 'century', 'norm', 'cultural', 'society', 'era', 'culture', 'cultures']\n",
      "\n",
      "\n",
      "\n",
      "CLUSTER NUMBER: 8\n",
      "WORDS:  ['killer', 'evil', 'monster', 'dream', 'witch', 'spirit', 'ghost', 'assassin', 'queen', 'pirate', 'mystery', 'princess', 'void', 'dragons', 'jpg', 'nightmare', 'darkness', 'invisible', 'lord', 'demon', 'storm', 'creature', 'moon', 'mage', 'knight', 'king', 'guardian', 'heaven', 'axe', 'secret', 'legend', 'dark', 'crystal', 'devil', 'ultimate', 'gatherer', 'wolf', 'prince', 'hunters', 'golden', 'stone', 'hearts', 'zombie', 'soul', 'wizard', 'chaos', 'thunder', 'dragon', 'fate', 'warrior', 'rogue', 'curse', 'realm', 'glory', 'royal', 'twin', 'kingdom', 'beast', 'ninja', 'sword', 'summon', 'shadow', 'angel', 'master', 'magical', 'gods', 'magic', 'priest']\n",
      "\n",
      "\n",
      "\n",
      "CLUSTER NUMBER: 9\n",
      "WORDS:  ['swear', 'mistaken', 'believe', 'believing', 'confirm', 'prove', 'convinced', 'aware', 'proof', 'convince', 'suspect', 'doubt', 'determined', 'argue', 'believed', 'believes', 'verify', 'impression', 'pretend']\n",
      "\n",
      "\n",
      "\n",
      "CLUSTER NUMBER: 10\n",
      "WORDS:  ['melee', 'damage', 'poison', 'blink', 'crit', 'burst', 'hp', 'dps', 'shield', 'minions', 'attack', 'abilities', 'flame', 'mana', 'ult', 'shields', 'nova', 'attacks', 'phase', 'tank', 'blade', 'buff', 'dash', 'casting', 'enemies', 'spells', 'combo', 'enemy', 'stun', 'ao', 'opponent', 'spell', 'heal', 'nerf', 'poke', 'healing', 'passive', 'stealth', 'wave', 'ward', 'dmg', 'dodge', 'cast']\n",
      "\n",
      "\n",
      "\n",
      "CLUSTER NUMBER: 11\n",
      "WORDS:  ['liquid', 'kit', 'layer', 'bucket', 'wrap', 'carbon', 'rubber', 'grain', 'dirt', 'metal', 'pipe', 'sand', 'paper', 'steel', 'tin', 'concrete', 'glass', 'bag', 'wood', 'wire', 'plate', 'coat', 'tape', 'plates', 'sheet', 'sticky', 'plastic', 'dust', 'mm', 'surface']\n",
      "\n",
      "\n",
      "\n",
      "CLUSTER NUMBER: 12\n",
      "WORDS:  ['british', 'asian', 'african', 'spanish', 'european', 'french', 'international', 'indian', 'dutch', 'italian', 'national', 'american', 'russian', 'mexican', 'korean', 'german', 'polish', 'foreign', 'chinese', 'greek', 'australian', 'japanese', 'irish', 'canadian']\n",
      "\n",
      "\n",
      "\n",
      "CLUSTER NUMBER: 13\n",
      "WORDS:  ['twitch', 'netflix', 'stream', 'chat', 'twitter', 'ads', 'skype', 'streams', 'facebook', 'youtube', 'viewers', 'sites', 'channel', 'ad', 'tube', 'channels', 'websites', 'porn', 'streaming', 'online', 'videos', 'tv', 'internet']\n",
      "\n",
      "\n",
      "\n",
      "CLUSTER NUMBER: 14\n",
      "WORDS:  ['dynamic', 'system', 'functions', 'manual', 'function', 'motion', 'delay', 'string', 'setup', 'controls', 'filter', 'object', 'feature', 'static', 'error', 'digital', 'interface', 'volume', 'audio', 'amp', 'script', 'input', 'signal', 'lag', 'flow', 'visual', 'output', 'lighting', 'communication', 'texture']\n",
      "\n",
      "\n",
      "\n",
      "CLUSTER NUMBER: 15\n",
      "WORDS:  ['direct', 'extra', 'removal', 'external', 'optional', 'extended', 'unknown', 'extension', 'multi', 'permanent', 'individual', 'infinite', 'adds', 'additional', 'clarification', 'instant', 'unlimited', 'existing', 'automatic', 'added', 'endless', 'temporary', 'alternate', 'immediate', 'free', 'adding']\n",
      "\n",
      "\n",
      "\n",
      "CLUSTER NUMBER: 16\n",
      "WORDS:  ['latest', 'update', 'alpha', 'patches', 'updates', 'versions', 'edition', 'bug', 'version', 'bugs', 'release', 'announced', 'test', 'announcement', 'releasing', 'launch', 'expansion', 'updated', 'released', 'releases', 'patch', 'exclusive', 'beta']\n",
      "\n",
      "\n",
      "\n",
      "CLUSTER NUMBER: 17\n",
      "WORDS:  ['wear', 'worn', 'hat', 'boots', 'wore', 'leather', 'clothing', 'dressed', 'dress', 'pair', 'helmet', 'fitting', 'shoe', 'outfit', 'shoes', 'suits', 'jacket', 'jeans', 'glasses', 'pants', 'belt', 'shorts', 'socks', 'shirts', 'gloves', 'clothes', 'shirt', 'wearing', 'suit']\n",
      "\n",
      "\n",
      "\n",
      "CLUSTER NUMBER: 18\n",
      "WORDS:  ['then', 'fast', 'ultimately', 'happily', 'eventually', 'randomly', 'along', 'finally', 'immediately', 'until', 'hopes', 'sooner', 'up', 'quickly', 'instantly', 'next', 'once', 'again', 'someday', 'initially', 'out', 'wait', 'shortly', 'till', 'til', 'soon', 'forever', 'later', 'suddenly', 'accidentally', 'afterwards', 'somehow', 'back', 'never', 'slowly', 'hopefully', 'naturally']\n",
      "\n",
      "\n",
      "\n",
      "CLUSTER NUMBER: 19\n",
      "WORDS:  ['below', 'lowest', 'high', 'rate', 'above', 'bump', 'curve', 'raise', 'top', 'highest', 'ratio', 'low', 'higher', 'rise', 'greater', 'bottom', 'upper', 'lower']\n",
      "\n",
      "\n",
      "\n",
      "CLUSTER NUMBER: 20\n",
      "WORDS:  ['writing', 'chapter', 'quotes', 'paragraph', 'wrote', 'novel', 'reader', 'article', 'read', 'letter', 'written', 'letters', 'book', 'quote', 'books', 'reading', 'write', 'published']\n",
      "\n",
      "\n",
      "\n",
      "CLUSTER NUMBER: 21\n",
      "WORDS:  ['lay', 'make', 'settle', 'set', 'fill', 'tie', 'add', 'throw', 'bring', 'placed', 'upside', 'put', 'hold', 'toss', 'stand', 'sit', 'slap', 'hang']\n",
      "\n",
      "\n",
      "\n",
      "CLUSTER NUMBER: 22\n",
      "WORDS:  ['grass', 'fence', 'ground', 'edge', 'building', 'bridge', 'doors', 'wall', 'ceiling', 'ladder', 'buildings', 'roof', 'tree', 'walls', 'trees', 'stairs', 'brick', 'gate']\n",
      "\n",
      "\n",
      "\n",
      "CLUSTER NUMBER: 23\n",
      "WORDS:  ['atm', 'cuz', 'meh', 'yo', 'anyways', 'bro', 'nope', 'nah', 'tho', 'gonna', 'im', 'em', 'ur', 'bet', 'cause', 'tbh']\n",
      "\n",
      "\n",
      "\n",
      "CLUSTER NUMBER: 24\n",
      "WORDS:  ['angry', 'tired', 'lucky', 'uncomfortable', 'lazy', 'miserable', 'depressed', 'confused', 'excited', 'lonely', 'salty', 'busy', 'annoyed', 'jealous', 'nervous', 'confident', 'afraid', 'concerned', 'hungry', 'bothered', 'happier', 'satisfied', 'happy', 'pissed', 'upset', 'sick', 'bored', 'impressed', 'mad', 'scared', 'worried', 'bitter', 'disappointed', 'desperate', 'shy', 'frustrated', 'proud', 'ashamed']\n",
      "\n",
      "\n",
      "\n",
      "CLUSTER NUMBER: 25\n",
      "WORDS:  ['learned', 'taught', 'learning', 'teach', 'learn', 'practice', 'practicing', 'teaching', 'lesson']\n",
      "\n",
      "\n",
      "\n",
      "CLUSTER NUMBER: 26\n",
      "WORDS:  ['force', 'tends', 'causing', 'leading', 'allow', 'continuing', 'able', 'allowing', 'let', 'leads', 'forces', 'lead', 'directly', 'forced', 'causes', 'forcing', 'letting', 'allowed', 'lets', 'caused', 'led', 'unable', 'allows']\n",
      "\n",
      "\n",
      "\n",
      "CLUSTER NUMBER: 27\n",
      "WORDS:  ['nobody', 'peoples', 'redditors', 'their', 'guys', 'somebody', 'we', 'strangers', 'these', 'everyone', 'bots', 'them', 'others', 'those', 'us', 'ours', 'people', 'americans', 'ones', 'everybody', 'anybody', 'individuals', 'theirs', 'folks', 'they', 'someone', 'our', 'anyone']\n",
      "\n",
      "\n",
      "\n",
      "CLUSTER NUMBER: 28\n",
      "WORDS:  ['february', 'april', 'december', 'march', 'july', 'january', 'spring', 'june']\n",
      "\n",
      "\n",
      "\n",
      "CLUSTER NUMBER: 29\n",
      "WORDS:  ['mr', 'jon', 'mike', 'tim', 'jay', 'donald', 'harry', 'ben', 'mc', 'dan', 'tom', 'sam', 'rick', 'robin', 'bob', 'alex', 'frank', 'joe', 'jimmy', 'steve', 'tony', 'dr', 'jack', 'jim', 'charlie']\n",
      "\n",
      "\n",
      "\n",
      "CLUSTER NUMBER: 30\n",
      "WORDS:  ['tickets', 'checks', 'bill', 'bills', 'ticket']\n",
      "\n",
      "\n",
      "\n",
      "CLUSTER NUMBER: 31\n",
      "WORDS:  ['salary', 'agent', 'contracts', 'signed', 'contract', 'mil', 'lawyer', 'license', 'agreement', 'resume', 'agency', 'career', 'cap', 'sign', 'signing']\n",
      "\n",
      "\n",
      "\n",
      "CLUSTER NUMBER: 32\n",
      "WORDS:  ['tea', 'bottle', 'alcohol', 'wine', 'beer', 'smoked', 'drinks', 'smoking', 'drinking', 'sober', 'soda', 'drunk', 'bottles', 'weed', 'taste', 'bud', 'drink', 'beers', 'oz', 'smoke', 'pot', 'coke', 'vape', 'marijuana', 'coffee']\n",
      "\n",
      "\n",
      "\n",
      "CLUSTER NUMBER: 33\n",
      "WORDS:  ['nowadays', 'occasionally', 'typically', 'generally', 'regularly', 'tend', 'normally', 'frequently', 'sometimes', 'commonly', 'usually', 'often', 'rarely', 'consistently']\n",
      "\n",
      "\n",
      "\n",
      "CLUSTER NUMBER: 34\n",
      "WORDS:  ['status', 'circumstances', 'environment', 'attitude', 'practices', 'habits', 'abusive', 'reaction', 'actions', 'manner', 'interaction', 'habit', 'lifestyle', 'appearance', 'personality', 'mindset', 'act', 'situation', 'behaviour', 'reputation', 'relationship', 'reactions', 'acting', 'mentality', 'behavior']\n",
      "\n",
      "\n",
      "\n",
      "CLUSTER NUMBER: 35\n",
      "WORDS:  ['wow', 'soo', 'lmao', 'seriously', 'dammit', 'freaking', 'damned', 'wtf', 'damn', 'pls', 'omg', 'ugh', 'bloody', 'fuckin', 'fucking', 'btw', 'holy', 'tl', 'fake', 'blah', 'goddamn']\n",
      "\n",
      "\n",
      "\n",
      "CLUSTER NUMBER: 36\n",
      "WORDS:  ['corporate', 'promotion', 'business', 'global', 'comcast', 'marketing', 'firm', 'company', 'uber', 'security', 'commercial', 'management', 'private', 'advertising', 'consumer']\n",
      "\n",
      "\n",
      "\n",
      "CLUSTER NUMBER: 37\n",
      "WORDS:  ['neighbor', 'neighbors', 'fellow', 'yard']\n",
      "\n",
      "\n",
      "\n",
      "CLUSTER NUMBER: 38\n",
      "WORDS:  ['respect', 'praise', 'trust', 'truth', 'faith', 'confidence', 'understanding', 'patience', 'knowledge', 'promise', 'shall', 'pray', 'friendship', 'authority', 'luck', 'honesty', 'god', 'peace', 'wishes', 'favor', 'sacrifice', 'honor', 'secrets', 'blind']\n",
      "\n",
      "\n",
      "\n",
      "CLUSTER NUMBER: 39\n",
      "WORDS:  ['surgery', 'doctors', 'treatment', 'medication', 'nurse', 'medicine', 'therapy', 'doctor', 'medical', 'drug', 'birth', 'hospital', 'patient', 'meds', 'vet', 'cancer', 'pill', 'dose', 'tests', 'emergency', 'pregnant', 'pregnancy', 'patients', 'doc', 'procedure', 'abortion', 'therapist', 'pills', 'drugs']\n",
      "\n",
      "\n",
      "\n",
      "CLUSTER NUMBER: 40\n",
      "WORDS:  ['oil', 'powder', 'jam', 'pie', 'milk', 'delicious', 'acid', 'cherry', 'butter', 'flavor', 'seed', 'ice', 'juice', 'candy', 'fruit', 'nuts', 'vanilla', 'sugar', 'chocolate', 'mg', 'cake', 'cream', 'honey', 'banana']\n",
      "\n",
      "\n",
      "\n",
      "CLUSTER NUMBER: 41\n",
      "WORDS:  ['decision', 'conclusion', 'question', 'decisions', 'incorrect', 'mistakes', 'facts', 'judgement', 'assumptions', 'claim', 'mistake', 'false', 'argument', 'excuses', 'speculation', 'lies', 'statements', 'claims', 'choices', 'statement', 'assumption', 'reasoning', 'errors', 'arguments', 'logical', 'logic', 'point']\n",
      "\n",
      "\n",
      "\n",
      "CLUSTER NUMBER: 42\n",
      "WORDS:  ['towards', 'perspective', 'toward', 'stance', 'route', 'approach', 'focus', 'sides', 'side', 'angle', 'path', 'tactics', 'view', 'direction', 'style', 'position']\n",
      "\n",
      "\n",
      "\n",
      "CLUSTER NUMBER: 43\n",
      "WORDS:  ['fell', 'falls', 'blew', 'broke', 'fallen', 'dropped', 'fall', 'jumped', 'falling', 'threw']\n",
      "\n",
      "\n",
      "\n",
      "CLUSTER NUMBER: 44\n",
      "WORDS:  ['nine', 'ten', 'three', 'numerous', 'multiple', 'couple', 'twenty', 'row', 'several', 'four', 'five', 'seven', 'many', 'six', 'two', 'eight', 'few']\n",
      "\n",
      "\n",
      "\n",
      "CLUSTER NUMBER: 45\n",
      "WORDS:  ['neutral', 'controlled', 'necessary', 'legit', 'useful', 'legitimate', 'active', 'powerful', 'available', 'strong', 'compatible', 'convenient', 'comfortable', 'importantly', 'balanced', 'stable', 'beneficial', 'ideal', 'realistic', 'consistent', 'reasonable', 'accurate', 'viable', 'functional', 'focused', 'primary', 'appropriate', 'priority', 'popular', 'dominant', 'rated', 'successful', 'widely', 'acceptable', 'accessible', 'possible', 'dedicated', 'secure', 'critical', 'safe', 'reliable', 'effective', 'valid', 'efficient', 'niche', 'suitable', 'capable', 'essential']\n",
      "\n",
      "\n",
      "\n",
      "CLUSTER NUMBER: 46\n",
      "WORDS:  ['scary', 'funny', 'embarrassing', 'hilarious', 'creepy', 'strange', 'depressing', 'awkward', 'disgusting', 'brutal', 'terrifying', 'gross', 'annoying', 'shady', 'weird']\n",
      "\n",
      "\n",
      "\n",
      "CLUSTER NUMBER: 47\n",
      "WORDS:  ['evolve', 'natural', 'genetic', 'generations', 'galaxy', 'creatures', 'beings', 'planet', 'species', 'cells', 'mars', 'humans', 'earth', 'human', 'races', 'alien', 'aliens', 'breed', 'plant', 'plants', 'animals', 'humanity', 'race']\n",
      "\n",
      "\n",
      "\n",
      "CLUSTER NUMBER: 48\n",
      "WORDS:  ['implying', 'claiming', 'saying', 'suggesting', 'clarify', 'ignoring', 'stated', 'explicitly', 'merely', 'imply', 'mentioning', 'fact', 'arguing', 'note', 'discussing', 'stating', 'commenting', 'pointing']\n",
      "\n",
      "\n",
      "\n",
      "CLUSTER NUMBER: 49\n",
      "WORDS:  ['okay', 'alright', 'honest', 'ya', 'right', 'ill', 'suppose', 'mon', 'ok', 'fine', 'now', 'guess', 'hey']\n",
      "\n",
      "\n",
      "\n",
      "CLUSTER NUMBER: 50\n",
      "WORDS:  ['appeal', 'promote', 'share', 'represent', 'define', 'apply', 'representation', 'qualify', 'present', 'treat', 'express', 'compare', 'justify', 'identify', 'belong', 'describe', 'introduce', 'refer', 'relate', 'appear', 'serve', 'reflect', 'translate']\n",
      "\n",
      "\n",
      "\n",
      "CLUSTER NUMBER: 51\n",
      "WORDS:  ['consent', 'grown', 'kids', 'childhood', 'minds', 'families', 'lives', 'babies', 'children', 'child', 'emotionally', 'young', 'parent', 'adults', 'youth', 'bodies', 'younger', 'adult']\n",
      "\n",
      "\n",
      "\n",
      "CLUSTER NUMBER: 52\n",
      "WORDS:  ['r', 's', 'd', 'g', 'h', 'c', 'j', 'ms', 'n', 'l', 'u', 'p', 'm', 'b', 'v', 'f', 'o', 'z', 'x', 'e', 'y', 't', 'k', 'w']\n",
      "\n",
      "\n",
      "\n",
      "CLUSTER NUMBER: 53\n",
      "WORDS:  ['smiles', 'takes', 'goes', 'shows', 'likes', 'plays', 'dies', 'brings', 'asks', 'sits', 'finds', 'thinks', 'acts', 'mentions', 'gets', 'stays', 'leaves', 'gives', 'says', 'follows', 'wants', 'comes', 'owns', 'puts', 'reads', 'calls', 'becomes', 'walks', 'knows', 'uses', 'creates', 'talks', 'watches', 'sees', 'cares', 'stands', 'holds']\n",
      "\n",
      "\n",
      "\n",
      "CLUSTER NUMBER: 54\n",
      "WORDS:  ['barrel', 'targets', 'bolt', 'sight', 'rocket', 'rounds', 'bomb', 'bow', 'fire', 'shoot', 'arrow', 'magazine', 'guns', 'pistol', 'knife', 'hammer', 'fusion', 'blast', 'ammo', 'bullets', 'aim', 'gun', 'weapon', 'shots', 'trigger', 'scout', 'round', 'firing', 'rifle', 'shooting', 'bullet', 'target', 'sniper', 'bombs', 'shotgun', 'cannon', 'laser', 'shot']\n",
      "\n",
      "\n",
      "\n",
      "CLUSTER NUMBER: 55\n",
      "WORDS:  ['recall', 'know', 'worry', 'imagine', 'forget', 'care', 'hear', 'wondering', 'heck', 'see', 'hell', 'say', 'clue', 'sure', 'mention', 'understand', 'bother', 'knowing', 'idk', 'wonder', 'mean', 'curious', 'remember', 'dunno', 'idea', 'think', 'exactly']\n",
      "\n",
      "\n",
      "\n",
      "CLUSTER NUMBER: 56\n",
      "WORDS:  ['lbs', 'squat', 'fitness', 'training', 'gym', 'pounds', 'muscle', 'lift', 'lb', 'pound', 'weigh', 'climbing', 'lifting', 'weight']\n",
      "\n",
      "\n",
      "\n",
      "CLUSTER NUMBER: 57\n",
      "WORDS:  ['wednesday', 'day', 'weekend', 'holiday', 'christmas', 'saturday', 'thursday', 'nights', 'weekends', 'monday', 'friday', 'tomorrow', 'afternoon', 'evening', 'summer', 'sometime', 'tonight', 'tuesday', 'night', 'pm', 'morning', 'sunday']\n",
      "\n",
      "\n",
      "\n",
      "CLUSTER NUMBER: 58\n",
      "WORDS:  ['ridiculous', 'justified', 'pathetic', 'silly', 'unfair', 'dumb', 'impossible', 'crazy', 'worthless', 'absurd', 'insane', 'stupid', 'fair', 'extreme', 'useless', 'understandable', 'retarded', 'unrelated', 'lame', 'pointless', 'arbitrary', 'meaningless', 'unnecessary', 'irrelevant']\n",
      "\n",
      "\n",
      "\n",
      "CLUSTER NUMBER: 59\n",
      "WORDS:  ['hiring', 'staff', 'customers', 'clients', 'workers', 'owner', 'job', 'partners', 'labor', 'manager', 'employees', 'employee', 'worker', 'former', 'customer', 'employer', 'service', 'owners', 'hired', 'hire', 'jobs']\n",
      "\n",
      "\n",
      "\n",
      "CLUSTER NUMBER: 60\n",
      "WORDS:  ['biggest', 'large', 'major', 'big', 'wide', 'significant', 'massive', 'noticeable', 'largest', 'huge', 'slight', 'minor', 'giant']\n",
      "\n",
      "\n",
      "\n",
      "CLUSTER NUMBER: 61\n",
      "WORDS:  ['form', 'mix', 'timing', 'result', 'factor', 'combination', 'combined', 'conditions', 'lack', 'type', 'mixed', 'choice', 'breakdown', 'combine', 'kind']\n",
      "\n",
      "\n",
      "\n",
      "CLUSTER NUMBER: 62\n",
      "WORDS:  ['block', 'pool', 'trap', 'twist', 'hole', 'holes', 'mirror', 'drain', 'square', 'spaces', 'inside', 'shell', 'space', 'gap', 'down', 'sink', 'bubble', 'cycle', 'ring', 'flat', 'loop']\n",
      "\n",
      "\n",
      "\n",
      "CLUSTER NUMBER: 63\n",
      "WORDS:  ['road', 'guards', 'roads', 'hood', 'homeless', 'streets', 'street', 'signs', 'highway', 'traffic', 'lanes', 'corners']\n",
      "\n",
      "\n",
      "\n",
      "CLUSTER NUMBER: 64\n",
      "WORDS:  ['guild', 'loot', 'battles', 'dungeons', 'quests', 'fights', 'content', 'challenge', 'pvp', 'dungeon', 'boss', 'difficulty', 'progression', 'po', 'ho', 'vo', 'queue', 'crota', 'arena', 'rewards', 'raids', 'solo', 'raid', 'pv', 'wo', 'monsters', 'bosses', 'challenges']\n",
      "\n",
      "\n",
      "\n",
      "CLUSTER NUMBER: 65\n",
      "WORDS:  ['rolling', 'collecting', 'putting', 'turning', 'throwing', 'setting', 'changing', 'sticking', 'cutting', 'dropping', 'running', 'covering', 'laying', 'floating', 'counting', 'jumping', 'kicking', 'switching', 'hanging', 'messing', 'burning', 'removing', 'using', 'checking', 'breaking', 'passing', 'replacing', 'blowing', 'touching', 'keeping', 'moving', 'searching', 'filling']\n",
      "\n",
      "\n",
      "\n",
      "CLUSTER NUMBER: 66\n",
      "WORDS:  ['politics', 'conflict', 'technology', 'science', 'relationships', 'history', 'media', 'philosophy', 'television', 'economics']\n",
      "\n",
      "\n",
      "\n",
      "CLUSTER NUMBER: 67\n",
      "WORDS:  ['talent', 'ranked', 'matches', 'tournament', 'lineup', 'players', 'team', 'tournaments', 'elite', 'coach', 'conference', 'ts', 'rs', 'player', 'teams', 'pros', 'stars', 'division', 'tier', 'trades', 'bs', 'picks', 'draft', 'ranks', 'competition', 'league', 'teammates', 'match', 'rotation', 'roster', 'bo']\n",
      "\n",
      "\n",
      "\n",
      "CLUSTER NUMBER: 68\n",
      "WORDS:  ['wonderful', 'favourite', 'lovely', 'excellent', 'incredible', 'beautiful', 'gorgeous', 'dope', 'glorious', 'epic', 'impressive', 'amazing', 'awesome', 'perfect', 'favorite', 'great', 'fantastic', 'brilliant']\n",
      "\n",
      "\n",
      "\n",
      "CLUSTER NUMBER: 69\n",
      "WORDS:  ['purely', 'heavily', 'strictly', 'primarily', 'specifically', 'largely', 'mostly', 'partially', 'mainly', 'solely', 'exclusively']\n",
      "\n",
      "\n",
      "\n",
      "CLUSTER NUMBER: 70\n",
      "WORDS:  ['donate', 'meet', 'discuss', 'explore', 'meeting', 'check', 'ask', 'visiting', 'contact', 'visit']\n",
      "\n",
      "\n",
      "\n",
      "CLUSTER NUMBER: 71\n",
      "WORDS:  ['bed', 'floor', 'front', 'door', 'seats', 'corner', 'standing', 'sitting', 'board', 'pee', 'office', 'toilet', 'couch', 'desk', 'shelf', 'chair', 'table', 'seat', 'guest', 'sleeping']\n",
      "\n",
      "\n",
      "\n",
      "CLUSTER NUMBER: 72\n",
      "WORDS:  ['faster', 'safer', 'shorter', 'slightly', 'harder', 'lighter', 'fewer', 'weaker', 'stronger', 'nicer', 'less', 'better', 'closer', 'longer', 'quicker', 'cheaper', 'significantly', 'slower', 'worse', 'more', 'slow', 'easier', 'differently']\n",
      "\n",
      "\n",
      "\n",
      "CLUSTER NUMBER: 73\n",
      "WORDS:  ['war', 'union', 'country', 'israel', 'ukraine', 'empire', 'africa', 'states', 'iraq', 'iran', 'republic', 'revolution', 'germany', 'china', 'united', 'america', 'korea', 'putin', 'ireland', 'world', 'turkey', 'nazi', 'nation', 'india', 'france', 'hitler', 'australia', 'japan', 'sweden', 'russia', 'nations', 'nuclear', 'england', 'countries', 'territory', 'canada', 'soviet', 'europe', 'invasion', 'mexico', 'military', 'russians']\n",
      "\n",
      "\n",
      "\n",
      "CLUSTER NUMBER: 74\n",
      "WORDS:  ['download', 'boot', 'backup', 'unlock', 'reset', 'toggle', 'folder', 'disabled', 'delete', 'install', 'mode', 'settings', 'loading', 'manually', 'downloaded', 'loaded', 'flash', 'hack', 'lock', 'file', 'installed', 'sync', 'launcher', 'default', 'scan', 'auto', 'disable', 'unlocked', 'files', 'custom', 'remove', 'cloud', 'load']\n",
      "\n",
      "\n",
      "\n",
      "CLUSTER NUMBER: 75\n",
      "WORDS:  ['chose', 'decide', 'choose', 'decided', 'decides', 'deciding', 'choosing', 'refused', 'agreed', 'chosen']\n",
      "\n",
      "\n",
      "\n",
      "CLUSTER NUMBER: 76\n",
      "WORDS:  ['se', 'de', 'te', 'sa', 'le', 'la', 'da', 'wikibot', 'que', 'na', 'pu', 'er', 'un', 'ca', 'dat', 'van', 'en', 'autowikibot', 'si', 'es', 'nu', 'op', 'gt', 'el', 'al', 'con']\n",
      "\n",
      "\n",
      "\n",
      "CLUSTER NUMBER: 77\n",
      "WORDS:  ['manga', 'actors', 'sci', 'writers', 'spider', 'comics', 'batman', 'fiction', 'art', 'thor', 'movies', 'writer', 'film', 'actor', 'horror', 'graphic', 'superman', 'avengers', 'marvel', 'canon', 'villain', 'movie', 'characters', 'disney', 'anime', 'films', 'comic']\n",
      "\n",
      "\n",
      "\n",
      "CLUSTER NUMBER: 78\n",
      "WORDS:  ['cents', 'dozen', 'dozens', 'millions', 'million', 'thousands', 'dollar', 'hundreds', 'billion', 'hundred', 'thousand', 'dollars']\n",
      "\n",
      "\n",
      "\n",
      "CLUSTER NUMBER: 79\n",
      "WORDS:  ['fault', 'suck', 'sucks', 'sucked', 'hurt', 'hard', 'hurts', 'tough']\n",
      "\n",
      "\n",
      "\n",
      "CLUSTER NUMBER: 80\n",
      "WORDS:  ['campus', 'library', 'centre', 'station', 'stadium', 'airport', 'theater', 'hotel', 'hall', 'mall', 'grand', 'parking', 'downtown', 'garden', 'park']\n",
      "\n",
      "\n",
      "\n",
      "CLUSTER NUMBER: 81\n",
      "WORDS:  ['shared', 'associated', 'bound', 'ties', 'visible', 'tied', 'exposed', 'attached', 'hidden']\n",
      "\n",
      "\n",
      "\n",
      "CLUSTER NUMBER: 82\n",
      "WORDS:  ['violent', 'crime', 'slavery', 'poverty', 'punishment', 'torture', 'slave', 'crimes', 'prison', 'suicide', 'slaves', 'trial', 'violence', 'divorce', 'death', 'revenge', 'rape', 'murder']\n",
      "\n",
      "\n",
      "\n",
      "CLUSTER NUMBER: 83\n",
      "WORDS:  ['dallas', 'vegas', 'boston', 'austin', 'los', 'san', 'miami', 'jersey', 'houston', 'detroit', 'york', 'toronto', 'london', 'ohio', 'phoenix', 'texas', 'washington', 'california', 'florida', 'seattle', 'michigan', 'chicago']\n",
      "\n",
      "\n",
      "\n",
      "CLUSTER NUMBER: 84\n",
      "WORDS:  ['ha', 'haha', 'yep', 'sigh', 'hah', 'yeah', 'hahaha', 'edit', 'yea', 'ol', 'lol', 'mate', 'kidding', 'yup', 'heh', 'worries', 'eh']\n",
      "\n",
      "\n",
      "\n",
      "CLUSTER NUMBER: 85\n",
      "WORDS:  ['throat', 'mood', 'stomach', 'pain', 'blood', 'gut', 'breathing', 'breath', 'body', 'heart', 'brain']\n",
      "\n",
      "\n",
      "\n",
      "CLUSTER NUMBER: 86\n",
      "WORDS:  ['memory', 'outlet', 'graphics', 'ti', 'motherboard', 'hz', 'case', 'ram', 'core', 'storage', 'specs', 'gb', 'internal', 'card', 'cooler', 'intel', 'micro', 'quad', 'picker', 'samsung', 'dual', 'processor', 'newegg']\n",
      "\n",
      "\n",
      "\n",
      "CLUSTER NUMBER: 87\n",
      "WORDS:  ['kick', 'swap', 'reserve', 'steal', 'roll', 'catch', 'turn', 'grab', 'drop', 'tap', 'cancel', 'dive', 'give', 'pull', 'counter', 'stick', 'dump', 'touch', 'hook', 'bait', 'pick', 'get', 'onto', 'shake', 'handed', 'collect', 'punch', 'screw', 'take', 'flip', 'slide', 'hug']\n",
      "\n",
      "\n",
      "\n",
      "CLUSTER NUMBER: 88\n",
      "WORDS:  ['debate', 'circlejerk', 'circle', 'conversation', 'drama', 'hype', 'conspiracy', 'discussion', 'tumblr', 'memes', 'conversations', 'reddit', 'chan', 'fan', 'meme', 'crowd', 'rant', 'trend', 'discussions']\n",
      "\n",
      "\n",
      "\n",
      "CLUSTER NUMBER: 89\n",
      "WORDS:  ['officers', 'terrorists', 'laws', 'criminals', 'terrorist', 'illegal', 'legally', 'officer', 'adnan', 'arrest', 'cops', 'civil', 'legal', 'cop', 'court', 'citizens', 'law', 'criminal', 'citizen', 'federal', 'supreme', 'armed', 'state', 'constitution', 'police', 'rights']\n",
      "\n",
      "\n",
      "\n",
      "CLUSTER NUMBER: 90\n",
      "WORDS:  ['strict', 'certain', 'required', 'maximum', 'limit', 'age', 'minimum', 'requirements', 'bare', 'mandatory', 'sufficient', 'requirement', 'limited', 'restrictions', 'limits']\n",
      "\n",
      "\n",
      "\n",
      "CLUSTER NUMBER: 91\n",
      "WORDS:  ['requires', 'involved', 'involving', 'involve', 'contains', 'includes', 'require', 'involves', 'include', 'specific', 'contain']\n",
      "\n",
      "\n",
      "\n",
      "CLUSTER NUMBER: 92\n",
      "WORDS:  ['port', 'address', 'pin', 'plug', 'connections', 'wifi', 'connect', 'connected', 'fi', 'via', 'network', 'password', 'cable', 'host', 'ping', 'serial', 'wireless', 'access', 'remote', 'connection', 'router', 'wi']\n",
      "\n",
      "\n",
      "\n",
      "CLUSTER NUMBER: 93\n",
      "WORDS:  ['orders', 'stock', 'selling', 'sold', 'trade', 'cheap', 'deals', 'buying', 'refund', 'bay', 'purchased', 'shipped', 'bucks', 'sales', 'order', 'warranty', 'amazon', 'traded', 'sale', 'buy', 'seller', 'ordering', 'sells', 'bought', 'price', 'ebay', 'shipping', 'discount', 'market', 'sell', 'dealer', 'purchase', 'ordered', 'trading']\n",
      "\n",
      "\n",
      "\n",
      "CLUSTER NUMBER: 94\n",
      "WORDS:  ['terms', 'par', 'extent', 'compared', 'future', 'reference', 'due', 'addition', 'general', 'regards', 'contrast', 'comparable', 'according', 'commenter', 'overall', 'regard', 'applies', 'lacking', 'related', 'referring', 'opposed', 'agree', 'regarding', 'wise', 'relative', 'comparison', 'comparing', 'similar', 'superior', 'disagree', 'identical']\n",
      "\n",
      "\n",
      "\n",
      "CLUSTER NUMBER: 95\n",
      "WORDS:  ['kills', 'raped', 'incident', 'innocent', 'killed', 'accident', 'fought', 'buried', 'die', 'injured', 'kill', 'marry', 'died', 'dying', 'alive', 'famous', 'abused', 'deaths', 'married', 'born', 'dead', 'killing', 'murdered', 'surrounded', 'attacked']\n",
      "\n",
      "\n",
      "\n",
      "CLUSTER NUMBER: 96\n",
      "WORDS:  ['essentially', 'ensure', 'automatically', 'presumably', 'implies', 'obviously', 'simply', 'supposedly', 'clearly', 'assume', 'guarantee', 'assuming', 'necessarily', 'guaranteed', 'basically', 'unless', 'technically', 'course', 'guessing', 'currently', 'means', 'probably', 'surely']\n",
      "\n",
      "\n",
      "\n",
      "CLUSTER NUMBER: 97\n",
      "WORDS:  ['literal', 'interpretation', 'category', 'spectrum', 'meaning', 'rule', 'phrase', 'description', 'term', 'definition', 'name', 'analogy', 'defined', 'context', 'notion', 'word', 'label']\n",
      "\n",
      "\n",
      "\n",
      "CLUSTER NUMBER: 98\n",
      "WORDS:  ['expression', 'spelling', 'text', 'speech', 'speakers', 'translation', 'languages', 'native', 'names', 'accent', 'english', 'sentence', 'language', 'words', 'voice', 'grammar', 'speaker']\n",
      "\n",
      "\n",
      "\n",
      "CLUSTER NUMBER: 99\n",
      "WORDS:  ['trash', 'shit', 'stuff', 'junk', 'nonsense', 'bullshit', 'pile', 'crap', 'filled', 'garbage', 'scam', 'dirty']\n",
      "\n",
      "\n",
      "\n"
     ]
    }
   ],
   "source": [
    "# Loop through the top N clusters\n",
    "\n",
    "N = 100\n",
    "\n",
    "for cluster in range(0, N):\n",
    "    \n",
    "    #Create array of words\n",
    "    words = []\n",
    "    \n",
    "    for word, cluster_num in word_centroid_map.items():\n",
    "        if cluster_num == cluster:\n",
    "            words.append(word)\n",
    "    \n",
    "    print(\"CLUSTER NUMBER: %i\" % (cluster))\n",
    "    print(\"WORDS: \", words)\n",
    "    print(\"\\n\\n\")\n",
    "        "
   ]
  },
  {
   "cell_type": "code",
   "execution_count": 67,
   "metadata": {
    "collapsed": false
   },
   "outputs": [
    {
     "data": {
      "text/plain": [
       "662"
      ]
     },
     "execution_count": 67,
     "metadata": {},
     "output_type": "execute_result"
    }
   ],
   "source": [
    "# Find cluster number for a specific word\n",
    "word_centroid_map['motherfucker']"
   ]
  },
  {
   "cell_type": "code",
   "execution_count": null,
   "metadata": {
    "collapsed": true
   },
   "outputs": [],
   "source": []
  }
 ],
 "metadata": {
  "anaconda-cloud": {},
  "kernelspec": {
   "display_name": "Python [conda root]",
   "language": "python",
   "name": "conda-root-py"
  },
  "language_info": {
   "codemirror_mode": {
    "name": "ipython",
    "version": 3
   },
   "file_extension": ".py",
   "mimetype": "text/x-python",
   "name": "python",
   "nbconvert_exporter": "python",
   "pygments_lexer": "ipython3",
   "version": "3.5.2"
  }
 },
 "nbformat": 4,
 "nbformat_minor": 1
}
