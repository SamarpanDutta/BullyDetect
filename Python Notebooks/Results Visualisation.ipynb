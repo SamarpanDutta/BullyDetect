{
 "cells": [
  {
   "cell_type": "markdown",
   "metadata": {},
   "source": [
    "# Data Visualisation of Results\n",
    "\n",
    "This Python notebook is to visualize the results from the experiments conducted. All methods were validated using Stratified 10 Fold Sampling\n",
    "\n",
    "## Classifiers \n",
    "\n",
    "The following classifiers were used:\n",
    "\n",
    "- Random Forest with 100 trees\n",
    "- Support Vector Machine (LinearSVC from sklearn)\n",
    "- Naive Bayes (Gaussian Naive Bayes)\n",
    "\n",
    "## Methods \n",
    "\n",
    "The following methods for classification were used:\n",
    "\n",
    "- Bag-Of-Words\n",
    "- Average Sentence\n",
    "- Average Words\n",
    "- Average Words + TFIDF\n",
    "- Average Words + Mean Similarity\n",
    "- Average Words + Mean Similarity + TFIDF\n",
    "- Word Feature\n",
    "- Word Feature + Mean Similarity\n",
    "\n",
    "## Evaluation Metrics\n",
    "\n",
    "The following evaluation metrics were taken under consideration:\n",
    "\n",
    "- Accuracy\n",
    "- Precision\n",
    "- False Discovery Rate\n",
    "- False Positive Rate\n",
    "- Area Under Curve (AUC) \n",
    "- Logarithmic Loss (Log Loss)\n",
    "- Brier Score Loss\n",
    "- Run Time for test set\n",
    "\n",
    "The Standard Deviation for all metrics were also taken into consideration"
   ]
  },
  {
   "cell_type": "code",
   "execution_count": 17,
   "metadata": {
    "collapsed": true
   },
   "outputs": [],
   "source": [
    "# Load Excel File using Pandas\n",
    "import pandas as pd\n",
    "\n",
    "xls = pd.ExcelFile(\"C:/Users/MyPC/Desktop/FYP/Results (Stratified 10 Fold).xlsx\")"
   ]
  },
  {
   "cell_type": "code",
   "execution_count": 18,
   "metadata": {
    "collapsed": false
   },
   "outputs": [
    {
     "data": {
      "text/plain": [
       "['Accuracy',\n",
       " 'Precision',\n",
       " 'FDR',\n",
       " 'FPR',\n",
       " 'AUC',\n",
       " 'Log Loss',\n",
       " 'Brier Score',\n",
       " 'Run Time']"
      ]
     },
     "execution_count": 18,
     "metadata": {},
     "output_type": "execute_result"
    }
   ],
   "source": [
    "# Verify the sheets(workbooks)\n",
    "\n",
    "xls.sheet_names"
   ]
  },
  {
   "cell_type": "markdown",
   "metadata": {},
   "source": [
    "# Accuracy\n"
   ]
  },
  {
   "cell_type": "code",
   "execution_count": 19,
   "metadata": {
    "collapsed": false
   },
   "outputs": [],
   "source": [
    "# Parse the accuracy sheet\n",
    "# Each sheet is considered a dataframe\n",
    "\n",
    "accuracy_df = xls.parse('Accuracy')"
   ]
  },
  {
   "cell_type": "code",
   "execution_count": 22,
   "metadata": {
    "collapsed": false
   },
   "outputs": [
    {
     "data": {
      "text/html": [
       "<div>\n",
       "<table border=\"1\" class=\"dataframe\">\n",
       "  <thead>\n",
       "    <tr style=\"text-align: right;\">\n",
       "      <th></th>\n",
       "      <th>Method</th>\n",
       "      <th>SVM</th>\n",
       "      <th>SVM (STD)</th>\n",
       "      <th>NB</th>\n",
       "      <th>NB (STD)</th>\n",
       "      <th>RF</th>\n",
       "      <th>RF (STD)</th>\n",
       "    </tr>\n",
       "  </thead>\n",
       "  <tbody>\n",
       "    <tr>\n",
       "      <th>0</th>\n",
       "      <td>bow</td>\n",
       "      <td>0.83</td>\n",
       "      <td>0.01</td>\n",
       "      <td>0.66</td>\n",
       "      <td>0.01</td>\n",
       "      <td>0.82</td>\n",
       "      <td>0.01</td>\n",
       "    </tr>\n",
       "    <tr>\n",
       "      <th>1</th>\n",
       "      <td>avg_hybrid</td>\n",
       "      <td>0.75</td>\n",
       "      <td>0.01</td>\n",
       "      <td>0.70</td>\n",
       "      <td>0.02</td>\n",
       "      <td>0.76</td>\n",
       "      <td>0.01</td>\n",
       "    </tr>\n",
       "    <tr>\n",
       "      <th>2</th>\n",
       "      <td>avg_hybrid_tfidf</td>\n",
       "      <td>NaN</td>\n",
       "      <td>NaN</td>\n",
       "      <td>NaN</td>\n",
       "      <td>NaN</td>\n",
       "      <td>NaN</td>\n",
       "      <td>NaN</td>\n",
       "    </tr>\n",
       "    <tr>\n",
       "      <th>3</th>\n",
       "      <td>avg_words</td>\n",
       "      <td>NaN</td>\n",
       "      <td>NaN</td>\n",
       "      <td>NaN</td>\n",
       "      <td>NaN</td>\n",
       "      <td>NaN</td>\n",
       "      <td>NaN</td>\n",
       "    </tr>\n",
       "    <tr>\n",
       "      <th>4</th>\n",
       "      <td>avg_words_tfidf</td>\n",
       "      <td>NaN</td>\n",
       "      <td>NaN</td>\n",
       "      <td>NaN</td>\n",
       "      <td>NaN</td>\n",
       "      <td>NaN</td>\n",
       "      <td>NaN</td>\n",
       "    </tr>\n",
       "    <tr>\n",
       "      <th>5</th>\n",
       "      <td>avg_sentence</td>\n",
       "      <td>NaN</td>\n",
       "      <td>NaN</td>\n",
       "      <td>NaN</td>\n",
       "      <td>NaN</td>\n",
       "      <td>NaN</td>\n",
       "      <td>NaN</td>\n",
       "    </tr>\n",
       "    <tr>\n",
       "      <th>6</th>\n",
       "      <td>word_feature</td>\n",
       "      <td>NaN</td>\n",
       "      <td>NaN</td>\n",
       "      <td>NaN</td>\n",
       "      <td>NaN</td>\n",
       "      <td>NaN</td>\n",
       "      <td>NaN</td>\n",
       "    </tr>\n",
       "    <tr>\n",
       "      <th>7</th>\n",
       "      <td>word_avg_hybrid</td>\n",
       "      <td>NaN</td>\n",
       "      <td>NaN</td>\n",
       "      <td>NaN</td>\n",
       "      <td>NaN</td>\n",
       "      <td>NaN</td>\n",
       "      <td>NaN</td>\n",
       "    </tr>\n",
       "  </tbody>\n",
       "</table>\n",
       "</div>"
      ],
      "text/plain": [
       "             Method   SVM  SVM (STD)    NB  NB (STD)    RF  RF (STD)\n",
       "0               bow  0.83       0.01  0.66      0.01  0.82      0.01\n",
       "1        avg_hybrid  0.75       0.01  0.70      0.02  0.76      0.01\n",
       "2  avg_hybrid_tfidf   NaN        NaN   NaN       NaN   NaN       NaN\n",
       "3         avg_words   NaN        NaN   NaN       NaN   NaN       NaN\n",
       "4   avg_words_tfidf   NaN        NaN   NaN       NaN   NaN       NaN\n",
       "5      avg_sentence   NaN        NaN   NaN       NaN   NaN       NaN\n",
       "6      word_feature   NaN        NaN   NaN       NaN   NaN       NaN\n",
       "7   word_avg_hybrid   NaN        NaN   NaN       NaN   NaN       NaN"
      ]
     },
     "execution_count": 22,
     "metadata": {},
     "output_type": "execute_result"
    }
   ],
   "source": [
    "accuracy_df"
   ]
  },
  {
   "cell_type": "markdown",
   "metadata": {},
   "source": [
    "# Precision"
   ]
  },
  {
   "cell_type": "markdown",
   "metadata": {},
   "source": [
    "# False Discovery Rate"
   ]
  },
  {
   "cell_type": "markdown",
   "metadata": {},
   "source": [
    "# False Positive Rate"
   ]
  },
  {
   "cell_type": "markdown",
   "metadata": {},
   "source": [
    "# Log Loss"
   ]
  },
  {
   "cell_type": "markdown",
   "metadata": {},
   "source": [
    "# Brier Loss Score"
   ]
  },
  {
   "cell_type": "markdown",
   "metadata": {},
   "source": [
    "# Run Time "
   ]
  },
  {
   "cell_type": "code",
   "execution_count": null,
   "metadata": {
    "collapsed": true
   },
   "outputs": [],
   "source": []
  }
 ],
 "metadata": {
  "anaconda-cloud": {},
  "kernelspec": {
   "display_name": "Python [conda root]",
   "language": "python",
   "name": "conda-root-py"
  },
  "language_info": {
   "codemirror_mode": {
    "name": "ipython",
    "version": 3
   },
   "file_extension": ".py",
   "mimetype": "text/x-python",
   "name": "python",
   "nbconvert_exporter": "python",
   "pygments_lexer": "ipython3",
   "version": "3.5.2"
  }
 },
 "nbformat": 4,
 "nbformat_minor": 1
}
