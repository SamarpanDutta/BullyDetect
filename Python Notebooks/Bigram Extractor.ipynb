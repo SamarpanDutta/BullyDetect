{
 "cells": [
  {
   "cell_type": "code",
   "execution_count": 1,
   "metadata": {
    "collapsed": false
   },
   "outputs": [
    {
     "name": "stderr",
     "output_type": "stream",
     "text": [
      "C:\\Users\\MyPC\\Anaconda3\\lib\\site-packages\\gensim\\utils.py:840: UserWarning: detected Windows; aliasing chunkize to chunkize_serial\n",
      "  warnings.warn(\"detected Windows; aliasing chunkize to chunkize_serial\")\n",
      "C:\\Users\\MyPC\\Anaconda3\\lib\\site-packages\\gensim\\utils.py:1015: UserWarning: Pattern library is not installed, lemmatization won't be available.\n",
      "  warnings.warn(\"Pattern library is not installed, lemmatization won't be available.\")\n"
     ]
    }
   ],
   "source": [
    "from gensim.models import Word2Vec as w2v"
   ]
  },
  {
   "cell_type": "code",
   "execution_count": 2,
   "metadata": {
    "collapsed": false
   },
   "outputs": [],
   "source": [
    "# Load the model using this format\n",
    "model = w2v.load_word2vec_format('reddit_full_bi.bin', binary=True)"
   ]
  },
  {
   "cell_type": "code",
   "execution_count": 3,
   "metadata": {
    "collapsed": false
   },
   "outputs": [
    {
     "data": {
      "text/plain": [
       "(1440734, 300)"
      ]
     },
     "execution_count": 3,
     "metadata": {},
     "output_type": "execute_result"
    }
   ],
   "source": [
    "# Check the number of unique words and dimension size\n",
    "model.syn0.shape"
   ]
  },
  {
   "cell_type": "code",
   "execution_count": 4,
   "metadata": {
    "collapsed": false
   },
   "outputs": [
    {
     "data": {
      "text/plain": [
       "[('feedforward_neural', 0.7608456611633301),\n",
       " ('convolutional_neural', 0.713421106338501),\n",
       " ('recurrent_neural', 0.7116257548332214),\n",
       " ('cheminformatics', 0.7112908363342285),\n",
       " ('autoencoders', 0.7112126350402832),\n",
       " ('perceptrons', 0.7107171416282654),\n",
       " ('covariance_matrices', 0.7085104584693909),\n",
       " ('epigenomic', 0.7073066830635071),\n",
       " ('tensor_decomposition', 0.7020125389099121),\n",
       " ('hyperparameter_optimization', 0.7017461657524109),\n",
       " ('transcriptomic', 0.7011966705322266),\n",
       " ('krizhevsky', 0.7009037733078003),\n",
       " ('ayasdi', 0.7008416652679443),\n",
       " ('feedforward', 0.7005290389060974),\n",
       " ('variational_inference', 0.6994698643684387),\n",
       " ('neural_nets', 0.699423611164093),\n",
       " ('restricted_boltzmann', 0.6983689665794373),\n",
       " ('metabolomics', 0.6978327035903931),\n",
       " ('convnets', 0.6962484121322632),\n",
       " ('dimensionality_reduction', 0.6956634521484375)]"
      ]
     },
     "execution_count": 4,
     "metadata": {},
     "output_type": "execute_result"
    }
   ],
   "source": [
    "# Test to find similar words. Refer to documentation for semantic/syntactic analysis\n",
    "model.most_similar(\"conv_nets\", topn=20)"
   ]
  },
  {
   "cell_type": "code",
   "execution_count": 5,
   "metadata": {
    "collapsed": false
   },
   "outputs": [],
   "source": [
    "# Extract Bigram words (words will have '_' on them, as per the value in Word2Vec)\n",
    "bigram_list = [ word for word in model.index2word if '_' in word ]"
   ]
  },
  {
   "cell_type": "code",
   "execution_count": 6,
   "metadata": {
    "collapsed": false
   },
   "outputs": [
    {
     "data": {
      "text/plain": [
       "166734"
      ]
     },
     "execution_count": 6,
     "metadata": {},
     "output_type": "execute_result"
    }
   ],
   "source": [
    "# Find the number of Bigram words\n",
    "len(bigram_list)"
   ]
  },
  {
   "cell_type": "code",
   "execution_count": 7,
   "metadata": {
    "collapsed": false
   },
   "outputs": [],
   "source": [
    "# Sort them in Ascending order of Alphabet\n",
    "bigram_list.sort()"
   ]
  },
  {
   "cell_type": "code",
   "execution_count": 22,
   "metadata": {
    "collapsed": false
   },
   "outputs": [
    {
     "name": "stdout",
     "output_type": "stream",
     "text": [
      "3238\n"
     ]
    }
   ],
   "source": [
    "# Find number of noisy bigrams\n",
    "count = 0\n",
    "\n",
    "for word in bigram_list:\n",
    "    if \"'\" == word[0]:\n",
    "        count += 1\n",
    "    else:\n",
    "        break\n",
    "        \n",
    "print(count)"
   ]
  },
  {
   "cell_type": "code",
   "execution_count": 25,
   "metadata": {
    "collapsed": false
   },
   "outputs": [],
   "source": [
    "# Separate out the bigram and noisy words\n",
    "dirty_bigram = bigram_list[:count-1]\n",
    "clean_bigram = bigram_list[count:]\n",
    "\n",
    "del bigram_list"
   ]
  },
  {
   "cell_type": "code",
   "execution_count": 35,
   "metadata": {
    "collapsed": false
   },
   "outputs": [],
   "source": [
    "# For dirty bigram usage\n",
    "# Store it in 'dirty bigram.txt'\n",
    "\n",
    "with open('dirty bigram.txt', 'w') as file_handler:\n",
    "    for word in dirty_bigram:\n",
    "        file_handler.write(\"{}\\n\".format(word))"
   ]
  },
  {
   "cell_type": "code",
   "execution_count": 37,
   "metadata": {
    "collapsed": false
   },
   "outputs": [],
   "source": [
    "# For clean bigram usage\n",
    "# Store it on 'clean bigram.txt'\n",
    "\n",
    "with open('clean bigram.txt', 'w') as file_handler:\n",
    "    for word in clean_bigram:\n",
    "        file_handler.write(\"{}\\n\".format(word))"
   ]
  },
  {
   "cell_type": "code",
   "execution_count": null,
   "metadata": {
    "collapsed": true
   },
   "outputs": [],
   "source": []
  }
 ],
 "metadata": {
  "anaconda-cloud": {},
  "kernelspec": {
   "display_name": "Python [conda root]",
   "language": "python",
   "name": "conda-root-py"
  },
  "language_info": {
   "codemirror_mode": {
    "name": "ipython",
    "version": 3
   },
   "file_extension": ".py",
   "mimetype": "text/x-python",
   "name": "python",
   "nbconvert_exporter": "python",
   "pygments_lexer": "ipython3",
   "version": "3.5.2"
  }
 },
 "nbformat": 4,
 "nbformat_minor": 0
}
