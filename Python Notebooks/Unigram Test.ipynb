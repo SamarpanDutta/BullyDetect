{
 "cells": [
  {
   "cell_type": "code",
   "execution_count": 1,
   "metadata": {
    "collapsed": false
   },
   "outputs": [
    {
     "name": "stderr",
     "output_type": "stream",
     "text": [
      "C:\\Users\\MyPC\\Anaconda3\\lib\\site-packages\\gensim\\utils.py:840: UserWarning: detected Windows; aliasing chunkize to chunkize_serial\n",
      "  warnings.warn(\"detected Windows; aliasing chunkize to chunkize_serial\")\n",
      "C:\\Users\\MyPC\\Anaconda3\\lib\\site-packages\\gensim\\utils.py:1015: UserWarning: Pattern library is not installed, lemmatization won't be available.\n",
      "  warnings.warn(\"Pattern library is not installed, lemmatization won't be available.\")\n"
     ]
    }
   ],
   "source": [
    "from gensim.models import Word2Vec as w2v"
   ]
  },
  {
   "cell_type": "code",
   "execution_count": 2,
   "metadata": {
    "collapsed": false
   },
   "outputs": [],
   "source": [
    "# Load Unigram model\n",
    "FILE = \"C:/Users/MyPC/Desktop/FYP/W2V Models/w2v_reddit_unigram_300d.bin\"\n",
    "model = w2v.load_word2vec_format(FILE, binary=True)"
   ]
  },
  {
   "cell_type": "code",
   "execution_count": 51,
   "metadata": {
    "collapsed": false
   },
   "outputs": [
    {
     "data": {
      "text/plain": [
       "[('aktivitas', 0.7639821171760559),\n",
       " ('terang', 0.7639356851577759),\n",
       " ('setahun', 0.7596152424812317),\n",
       " ('bersalah', 0.7585514187812805),\n",
       " ('beneran', 0.7585381269454956),\n",
       " ('mulia', 0.7585336565971375),\n",
       " ('kalimat', 0.7583544850349426),\n",
       " ('dagang', 0.7579036951065063),\n",
       " ('pilih', 0.7565901279449463),\n",
       " ('bohong', 0.7558284401893616),\n",
       " ('diketahui', 0.755210816860199),\n",
       " ('wisnu', 0.7544127702713013),\n",
       " ('rumahnya', 0.7542977333068848),\n",
       " ('dikeluarkan', 0.7541894316673279),\n",
       " ('janganlah', 0.7534502744674683),\n",
       " ('berbeda', 0.752979040145874),\n",
       " ('baginda', 0.7528250813484192),\n",
       " ('buruk', 0.7525765299797058),\n",
       " ('langkah', 0.752377450466156),\n",
       " ('tetapi', 0.7521430850028992)]"
      ]
     },
     "execution_count": 51,
     "metadata": {},
     "output_type": "execute_result"
    }
   ],
   "source": [
    "# Cell to find most similar words \n",
    "# One word for unigram: dragon, bleach, tottenham\n",
    "# Two words for bigram: dragon_ball, barack_obama (UNDERSCORE NEEDED + BIGRAM MODEL LOADED)\n",
    "model.most_similar(\"cendol\", topn=20)"
   ]
  },
  {
   "cell_type": "code",
   "execution_count": 46,
   "metadata": {
    "collapsed": false
   },
   "outputs": [
    {
     "data": {
      "text/plain": [
       "[('lumpur', 0.6737101674079895),\n",
       " ('kuala', 0.6668090224266052),\n",
       " ('taipei', 0.6401477456092834),\n",
       " ('bangkok', 0.6113026142120361),\n",
       " ('penang', 0.5809809565544128),\n",
       " ('lampur', 0.5752942562103271),\n",
       " ('toyko', 0.5550657510757446),\n",
       " ('selangor', 0.5511509776115417),\n",
       " ('singapore', 0.5502724647521973),\n",
       " ('mumbai', 0.5481346249580383)]"
      ]
     },
     "execution_count": 46,
     "metadata": {},
     "output_type": "execute_result"
    }
   ],
   "source": [
    "# Cell for semantic evaluation (Ex. King - man + woman is approximately equal to queen)\n",
    "model.most_similar(positive=[\"tokyo\",\"malaysia\"], negative=[\"japan\"])"
   ]
  },
  {
   "cell_type": "code",
   "execution_count": 13,
   "metadata": {
    "collapsed": false
   },
   "outputs": [
    {
     "data": {
      "text/plain": [
       "[('blueish', 0.7298511266708374),\n",
       " ('greyish', 0.7232707738876343),\n",
       " ('bluish', 0.7149738669395447),\n",
       " ('pinkish', 0.705883264541626),\n",
       " ('purplish', 0.7028074264526367),\n",
       " ('brownish', 0.6946163773536682),\n",
       " ('grayish', 0.6922476887702942),\n",
       " ('reddish', 0.6911346316337585),\n",
       " ('yellowish', 0.6770833134651184),\n",
       " ('whitish', 0.6669460535049438)]"
      ]
     },
     "execution_count": 13,
     "metadata": {},
     "output_type": "execute_result"
    }
   ],
   "source": [
    "# Cell for syntactic evaluation (Ex. walking - walk + swim is approximately equal to swimming)\n",
    "model.most_similar(positive=[\"greenish\",\"blue\"], negative=[\"green\"])"
   ]
  },
  {
   "cell_type": "code",
   "execution_count": 14,
   "metadata": {
    "collapsed": false
   },
   "outputs": [
    {
     "data": {
      "text/plain": [
       "'apple'"
      ]
     },
     "execution_count": 14,
     "metadata": {},
     "output_type": "execute_result"
    }
   ],
   "source": [
    "# Cell to check which word doesn't match among a group of words\n",
    "model.doesnt_match(\"blue green yellow apple\".split())"
   ]
  },
  {
   "cell_type": "code",
   "execution_count": 30,
   "metadata": {
    "collapsed": false
   },
   "outputs": [
    {
     "data": {
      "text/plain": [
       "0.24046405589195533"
      ]
     },
     "execution_count": 30,
     "metadata": {},
     "output_type": "execute_result"
    }
   ],
   "source": [
    "# Cell to check similarity among two words\n",
    "model.similarity(\"titanic\",\"rose\")"
   ]
  },
  {
   "cell_type": "code",
   "execution_count": 15,
   "metadata": {
    "collapsed": false
   },
   "outputs": [
    {
     "data": {
      "text/plain": [
       "1141680"
      ]
     },
     "execution_count": 15,
     "metadata": {},
     "output_type": "execute_result"
    }
   ],
   "source": [
    "# Count number of times a specific word occured in the 2015 Dataset\n",
    "model.vocab['tiger'].count"
   ]
  },
  {
   "cell_type": "code",
   "execution_count": 4,
   "metadata": {
    "collapsed": false
   },
   "outputs": [
    {
     "data": {
      "text/plain": [
       "False"
      ]
     },
     "execution_count": 4,
     "metadata": {},
     "output_type": "execute_result"
    }
   ],
   "source": [
    "# Check if word (Unigram) is in model. It is case-sensitive\n",
    "'Dragon' in model"
   ]
  },
  {
   "cell_type": "code",
   "execution_count": 11,
   "metadata": {
    "collapsed": false
   },
   "outputs": [
    {
     "name": "stdout",
     "output_type": "stream",
     "text": [
      "0 urbino's\n",
      "1 gouged\n",
      "2 testimonial\n",
      "3 rahmans\n",
      "4 unfuckingbelievably\n",
      "5 magallanes\n",
      "6 symbi\n",
      "7 prestigiously\n",
      "8 andromon\n",
      "9 laffitte\n",
      "10 firebirdflame\n",
      "11 niked\n",
      "12 fromsoftware\n",
      "13 impetigo\n",
      "14 factionist\n",
      "15 magnoli\n",
      "16 wumbo'\n",
      "17 passam\n",
      "18 'large\n",
      "19 chemitry\n",
      "20 karesuando\n",
      "21 cockmongling\n",
      "22 swolepression\n",
      "23 tartufata\n",
      "24 quimby\n",
      "25 maybank\n",
      "26 saadam\n",
      "27 roundtables\n",
      "28 leathworking\n",
      "29 financien\n",
      "30 parnas\n",
      "31 bagbalm\n",
      "32 scuhba\n",
      "33 petillant\n",
      "34 drfinitely\n",
      "35 joshuaz\n",
      "36 biass\n",
      "37 haroshi\n",
      "38 installerorc\n",
      "39 coerl\n",
      "40 ccertainly\n",
      "41 chinapost\n",
      "42 bieres\n",
      "43 cruncher's\n",
      "44 energys\n",
      "45 citralopram\n",
      "46 eventuly\n",
      "47 neurax\n",
      "48 jiuzhaiguo\n",
      "49 camuflar\n",
      "50 sterilisation\n",
      "51 quasicommunist\n",
      "52 decirte\n",
      "53 huge'\n",
      "54 wotmate\n",
      "55 traegs\n",
      "56 ffl's\n",
      "57 whataboutism\n",
      "58 epirubicin\n",
      "59 guzick\n",
      "60 russis\n",
      "61 finanziamenti\n",
      "62 airdock\n",
      "63 brooz\n",
      "64 shiri\n",
      "65 falalalala\n",
      "66 stepmums\n",
      "67 yougsters\n",
      "68 cyanhacker\n",
      "69 yahn\n",
      "70 undignified\n"
     ]
    }
   ],
   "source": [
    "# A brief review of words in the model\n",
    "count = 70\n",
    "\n",
    "for index, word in enumerate(model.vocab):\n",
    "    print(index, word)\n",
    "    if index == count:\n",
    "        break"
   ]
  },
  {
   "cell_type": "code",
   "execution_count": null,
   "metadata": {
    "collapsed": true
   },
   "outputs": [],
   "source": []
  }
 ],
 "metadata": {
  "anaconda-cloud": {},
  "kernelspec": {
   "display_name": "Python [conda root]",
   "language": "python",
   "name": "conda-root-py"
  },
  "language_info": {
   "codemirror_mode": {
    "name": "ipython",
    "version": 3
   },
   "file_extension": ".py",
   "mimetype": "text/x-python",
   "name": "python",
   "nbconvert_exporter": "python",
   "pygments_lexer": "ipython3",
   "version": "3.5.2"
  }
 },
 "nbformat": 4,
 "nbformat_minor": 1
}
