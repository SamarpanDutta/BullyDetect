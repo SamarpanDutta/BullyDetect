{
 "cells": [
  {
   "cell_type": "markdown",
   "metadata": {},
   "source": [
    "# K-Means Clustering Evaluation\n",
    "\n",
    "This Python notebook is used for evaluation of a dictionary that is produced by:\n",
    "\n",
    "1. Clustering word vectors by K-Means clustering\n",
    "2. Converting into a dictionary that corresponds to 'Word: Index' pairing\n",
    "\n",
    "The evaluation consists of:\n",
    "\n",
    "- Find the cluster a word belongs to \n",
    "- Find the other words in the cluster for a specific word"
   ]
  },
  {
   "cell_type": "code",
   "execution_count": 2,
   "metadata": {
    "collapsed": false
   },
   "outputs": [
    {
     "name": "stdout",
     "output_type": "stream",
     "text": [
      "TOTAL WORDS: 1146604\n",
      "TOTAL CLUSTERS USED: 250 \n",
      "AVERAGE PER CLUSTER 4586\n"
     ]
    }
   ],
   "source": [
    "import pickle\n",
    "\n",
    "# Specify the files\n",
    "FILE_DICT = \"C:/Users/MyPC/Desktop/FYP/Word Dictionaries/dict_250C.pk\"\n",
    "FILE_CLUS = \"C:/Users/MyPC/Desktop/FYP/K-Means Models/full_250C.pk\"\n",
    "\n",
    "# Load using pickle\n",
    "array_dict_cluster = pickle.load(open(FILE_DICT, \"rb\"))\n",
    "word_centroid_map =  pickle.load(open(FILE_CLUS,\"rb\"))\n",
    "\n",
    "total_clusters = max(word_centroid_map.values()) + 1\n",
    "average_word = round(len(word_centroid_map)/total_clusters)\n",
    "\n",
    "# Display results\n",
    "print(\"TOTAL WORDS: %i\" % (len(word_centroid_map)))\n",
    "print(\"TOTAL CLUSTERS USED: %i \" % (total_clusters))\n",
    "print(\"AVERAGE PER CLUSTER %i\" % (average_word))"
   ]
  },
  {
   "cell_type": "code",
   "execution_count": 3,
   "metadata": {
    "collapsed": false
   },
   "outputs": [
    {
     "name": "stdout",
     "output_type": "stream",
     "text": [
      "CLUSTER NUMBER: 21\n",
      "SEARCHED WORD: moron \n",
      "\n",
      "INDEX NUMBER: 1820\n",
      "words[1820] = moron \n",
      "\n",
      "TOTAL WORDS: 3385 \n",
      "\n",
      "WORDS:  ['brotastic', 'ballchinian', 'egotist', 'obamabot', 'quebecer', 'slyna', 'aussie', 'hippster', 'schlubby', 'redcoat', 'nutball', 'dickweasel', 'homesteader', 'twat', 'amurican', 'scientician', 'dickpig', 'imgurian', 'ranter', 'percenter', 'dufus', 'neckbeard', 'putz', 'dependopotamus', 'judgie', 'doubter', 'baggish', 'sumptions', 'gluttonous', 'sketchball', 'entertainer', 'alcoholic', 'fedoralord', 'clotpole', 'holery', 'mongler', 'wannabee', 'pittsburgher', 'fatbody', 'wristed', 'gloryhound', 'showboater', 'meglomaniac', 'ballwashers', 'cuckboy', 'studly', 'heshe', 'sergakis', 'goober', 'cunthead', 'womanchild', 'fapstronaut', 'butterbeast', 'whackadoodle', 'pegger', 'cumfaggot', 'grownup', 'jiggaboo', 'harumph', 'shamer', 'megalomaniacal', 'brummy', 'idjit', 'queeny', 'backtalk', 'bronie', 'cockfest', 'annorexic', 'schnook', 'choad', 'shitkin', 'conartist', 'englander', 'lowly', 'harmenian', 'nofapper', 'couponer', 'flibbertigibbet', 'neckbead', 'eyeore', 'druggy', 'bandwagonner', 'complainy', 'sod', 'guilter', 'showbusiness', 'canadianism', 'knuckleheaded', 'slacktavist', 'gilted', 'judgerson', 'malcontent', 'shitlicking', 'elfboy', 'slobby', 'polesmoker', 'meatheaded', 'fanwanking', 'eurosnob', 'mouthbreather', 'wuss', 'gooder', 'fudderson', 'dillhole', 'bitchfit', 'maniacal', 'schoolchild', 'niglet', 'punchably', 'shitfuck', 'goddammed', 'fratstar', 'jokester', 'buttheaded', 'assburgers', 'monger', 'asscock', 'weelchair', 'sconnie', 'creepazoid', 'wunderkind', 'clownshoes', 'judgy', 'farmhand', 'cunnilinguist', 'scientologist', 'cumdump', 'scardy', 'taughty', 'cunting', 'palaeontologist', 'lackie', 'shitbucket', 'dickfaced', 'natzi', 'pigdog', 'wahmbulance', 'bitchfaced', 'aleck', 'greenhorn', 'femanon', 'manlet', 'austistic', 'asscunt', 'honeydicking', 'bittervet', 'hedonist', 'fobbit', 'whiteboy', 'gloryhunting', 'losery', 'litterer', 'struggler', 'hungery', 'dullard', 'lactard', 'unpurple', 'braindead', 'dimwit', 'narcissitic', 'obeast', 'queeb', 'huffy', 'livered', 'peon', 'plaything', 'darksided', 'chickenshit', 'donorcycle', 'fandroid', 'narutard', 'darkie', 'cornball', 'faglord', 'masochist', 'cockjockey', 'amatuer', 'slimeball', 'xer', 'pantses', 'loather', 'pedaphile', 'microdick', 'stupied', 'psycopath', 'lifer', 'jerkass', 'juggalo', 'ambiturner', 'cockhead', 'cocksnot', 'murifat', 'smuck', 'fatty', 'yelper', 'pricky', 'jagweed', 'charlatan', 'retareded', 'pussified']\n"
     ]
    }
   ],
   "source": [
    "# Find the cluster of words, based on a given word\n",
    "search = \"moron\"\n",
    "\n",
    "# Get the key, or cluster number\n",
    "cluster_num = word_centroid_map[search]\n",
    "\n",
    "# Return the array based on the cluster number\n",
    "words = array_dict_cluster[cluster_num]['word_list']\n",
    "        \n",
    "# Get index number of word (VERIFICATION)\n",
    "index_search = words.index(search)\n",
    "\n",
    "# Display results\n",
    "print(\"CLUSTER NUMBER: %i\" % (cluster_num))\n",
    "print(\"SEARCHED WORD: %s \\n\" % (search))\n",
    "\n",
    "print(\"INDEX NUMBER: %i\" % (index_search))\n",
    "print(\"words[%i] = %s \\n\" % (index_search, words[index_search]))\n",
    "\n",
    "print(\"TOTAL WORDS: %i \\n\" % (len(words)))\n",
    "\n",
    "print(\"WORDS: \", words[:200])"
   ]
  }
 ],
 "metadata": {
  "anaconda-cloud": {},
  "kernelspec": {
   "display_name": "Python [conda root]",
   "language": "python",
   "name": "conda-root-py"
  },
  "language_info": {
   "codemirror_mode": {
    "name": "ipython",
    "version": 3
   },
   "file_extension": ".py",
   "mimetype": "text/x-python",
   "name": "python",
   "nbconvert_exporter": "python",
   "pygments_lexer": "ipython3",
   "version": "3.5.2"
  }
 },
 "nbformat": 4,
 "nbformat_minor": 1
}
