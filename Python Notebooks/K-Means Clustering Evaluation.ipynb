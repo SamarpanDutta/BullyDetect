{
 "cells": [
  {
   "cell_type": "markdown",
   "metadata": {},
   "source": [
    "# K-Means Clustering Evaluation\n",
    "\n",
    "This Python notebook is used for evaluation of a dictionary that is produced by:\n",
    "\n",
    "- Find the cluster a word belongs to \n",
    "- Find the other words in the cluster for a specific word\n",
    "- Compare between clusters"
   ]
  },
  {
   "cell_type": "code",
   "execution_count": 1,
   "metadata": {
    "collapsed": false
   },
   "outputs": [],
   "source": [
    "import pickle\n",
    "import random\n",
    "\n",
    "# Specify the files\n",
    "FILE_DICT_500 = \"C:/Users/MyPC/Desktop/Vegito/Word Dictionaries/dict_500C.pk\"\n",
    "FILE_CLUS_500 = \"C:/Users/MyPC/Desktop/Vegito/K-Means Models/full_500C.pk\"\n",
    "\n",
    "# Load using pickle\n",
    "array_dict_cluster_500 = pickle.load(open(FILE_DICT_500, \"rb\"))\n",
    "word_centroid_map_500 =  pickle.load(open(FILE_CLUS_500,\"rb\"))\n",
    "\n",
    "total_clusters_500 = max(word_centroid_map_500.values()) + 1\n",
    "\n",
    "average_word_500 = round(len(word_centroid_map_500)/total_clusters_500)"
   ]
  },
  {
   "cell_type": "code",
   "execution_count": 2,
   "metadata": {
    "collapsed": false
   },
   "outputs": [
    {
     "name": "stdout",
     "output_type": "stream",
     "text": [
      "ENTER WORD TO SEARCH: natsu\n",
      "SEARCHED WORD: natsu \n",
      "\n",
      "TOTAL WORDS: 2020 \n",
      "\n",
      "\n",
      "\n",
      "neliel  akianu  shinhan  satsu  \n",
      "\n",
      "coby  vizored  oozaru  yolosolo  \n",
      "\n",
      "inoichi  bambietta  chojuro  orochimaru  \n",
      "\n",
      "superbuu  soulnado  kuro  kiritusgu  \n",
      "\n",
      "godstomp  swordsman  orchimaru  byakugan  \n",
      "\n",
      "trebol  myotismon  takeomi  sanin  \n",
      "\n",
      "birdcage  mangetsu  bushin  tsunades  \n",
      "\n",
      "yatsufusa  mohji  kyros  zarakis  \n",
      "\n",
      "warrod  tashigi  yammamoto  sephy  \n",
      "\n",
      "offscreens  kihara  mangyeko  rubberman  \n",
      "\n",
      "ukaku  resurrecion  geeku  fuuton  \n",
      "\n",
      "ulqui  shinju  maniwa  shuvi  \n",
      "\n",
      "fuinjutsu  suigestu  aaroneiro  rennigan  \n",
      "\n",
      "raizen  frieza  aokoji  vergo  \n",
      "\n",
      "expositioning  vegetta  kyouraku  huyga  \n",
      "\n",
      "sandbend  kyoshi  zampakuto  suke  \n",
      "\n",
      "precht  chufeng  gaibon  auswahlen  \n",
      "\n",
      "kokabiel  teridax  rinkaku  eustass  \n",
      "\n",
      "ryodan  kakujas  gadolt  kamahamaha  \n",
      "\n",
      "waterbender  torikos  kamehamehas  animality  \n",
      "\n",
      "ikkaku  artosh  youpi  sadara  \n",
      "\n",
      "chaozu  dorry  kuramas  adjuchas  \n",
      "\n",
      "neferpitou  tailmon  moonbuster  bohu  \n",
      "\n",
      "rayleight  spopovitch  bikaku  leylin  \n",
      "\n",
      "mangoku  aporro  tarlock  grimjoww  \n",
      "\n",
      "engetsu  sabo  soru  shunsuis  \n",
      "\n",
      "enishi  yoki  kaioken  ulqiorra  \n",
      "\n",
      "dangai  vaizard  kidou  sabody  \n",
      "\n",
      "brolly  acnologia  hisokas  vexen  \n",
      "\n",
      "airbends  swordmanship  strengthwise  urek  \n",
      "\n",
      "madaras  bepo  freecss  shukkaku  \n",
      "\n",
      "kataara  dofl  yuanying  yumichika  \n",
      "\n",
      "taijutsu  adai  yoton  larxene  \n",
      "\n",
      "kuzan  mononosuke  destroyah  narutos  \n",
      "\n",
      "rayliegh  shinigamis  friza  tsuande  \n",
      "\n",
      "majiin  handseals  franky  arath  \n",
      "\n",
      "hoshigaki  piccollo  zanka  databook  \n",
      "\n",
      "ichigos  jyabura  ichibe  quinke  \n",
      "\n",
      "hydrification  raigo  shunko  nanika  \n",
      "\n",
      "shikaku  garaa  saichorou  kensei  "
     ]
    }
   ],
   "source": [
    "# Find the cluster of words, based on a given word\n",
    "search = input(\"ENTER WORD TO SEARCH: \")\n",
    "\n",
    "# Get the key, or cluster number\n",
    "# NOTE: Different clusters can have same results\n",
    "cluster_num_500 = word_centroid_map_500[search]\n",
    "\n",
    "# Return the array based on the cluster number\n",
    "words_500 = array_dict_cluster_500[cluster_num_500]['word_list']\n",
    "\n",
    "# Randomly subsample 200 words\n",
    "words = random.sample(words_500, 200)\n",
    "\n",
    "# Display results\n",
    "print(\"SEARCHED WORD: %s \\n\" % (search))\n",
    "\n",
    "print(\"TOTAL WORDS: %i \\n\" % (len(words_500)))\n",
    "\n",
    "# Pretty Printing\n",
    "for i, word in enumerate(words):\n",
    "    \n",
    "    if i % 5 != 0:\n",
    "        print(word, \" \", end=\"\")\n",
    "    else:\n",
    "        print(\"\\n\")"
   ]
  },
  {
   "cell_type": "code",
   "execution_count": 33,
   "metadata": {
    "collapsed": true
   },
   "outputs": [],
   "source": [
    "# Plot the time taken to train every 100 clusters\n",
    "\n",
    "import seaborn as sns\n",
    "import matplotlib.pyplot as plt\n",
    "import matplotlib.ticker as ticker\n",
    "import pandas as pd\n",
    "import numpy as np\n",
    "%matplotlib inline"
   ]
  },
  {
   "cell_type": "code",
   "execution_count": 79,
   "metadata": {
    "collapsed": true
   },
   "outputs": [],
   "source": [
    "def transformDF(df):\n",
    "    \n",
    "    # Create empty table\n",
    "    format_table = []\n",
    "    format_table.append({'clusters': 0, 'time':0})\n",
    "    \n",
    "    # Standardize columns\n",
    "    df.columns = map(str.lower, df.columns)\n",
    "    \n",
    "    # Loop over row by row\n",
    "    # Time is converted to hours\n",
    "    for index, row in df.iterrows():\n",
    "        \n",
    "        clusters = row['clusters']\n",
    "        time = int(round(row['train_time']/(60*1),0))\n",
    "        \n",
    "        format_table.append({'clusters': clusters, 'time': time})\n",
    "        \n",
    "    df = pd.DataFrame(format_table)\n",
    "    \n",
    "    return df"
   ]
  },
  {
   "cell_type": "code",
   "execution_count": 81,
   "metadata": {
    "collapsed": false
   },
   "outputs": [
    {
     "name": "stdout",
     "output_type": "stream",
     "text": [
      "   clusters  time\n",
      "0         0     0\n",
      "1       100   116\n",
      "2       200   229\n",
      "3       300   347\n",
      "4       400   452\n",
      "5       500   567\n"
     ]
    },
    {
     "data": {
      "text/plain": [
       "[<matplotlib.text.Text at 0x1afd8edc710>]"
      ]
     },
     "execution_count": 81,
     "metadata": {},
     "output_type": "execute_result"
    },
    {
     "data": {
      "image/png": "[encoded data removed]",
      "text/plain": [
       "<matplotlib.figure.Figure at 0x1afd8e1acc0>"
      ]
     },
     "metadata": {},
     "output_type": "display_data"
    }
   ],
   "source": [
    "# Load in the csv file\n",
    "df = pd.ExcelFile('C:/Users/MyPC/Desktop/Vegito/K-Means Training.xlsx').parse('Potato')\n",
    "\n",
    "# Transform the dataframe\n",
    "df = transformDF(df)\n",
    "\n",
    "print(df)\n",
    "\n",
    "# Matplotlib variables\n",
    "FONT_SIZE = 20\n",
    "PADDING = 30\n",
    "\n",
    "fig = sns.pointplot(x='time', y='clusters',data=df)\n",
    "\n",
    "plt.rc('axes', labelsize=FONT_SIZE)\n",
    "plt.rc('axes', titlesize=FONT_SIZE)\n",
    "plt.xlabel(\"Time (Minutes)\", labelpad=PADDING)\n",
    "plt.ylabel(\"...\", labelpad=PADDING)\n",
    "plt.ylim(ymin=0, ymax=600)\n",
    "plt.xlim(xmin=0)\n",
    "plt.figtext(.5,.95,\"Training time per 100 Clusters\", fontsize=15, ha='center')\n",
    "plt.setp(fig.collections, sizes=[100])\n",
    "plt.grid(True)\n",
    "\n",
    "sns.set_context(\"notebook\", font_scale=1)\n",
    "sns.set_style('ticks')\n",
    "sns.despine()\n",
    "\n",
    "fig.set(ylabel=\"Clusters\")"
   ]
  }
 ],
 "metadata": {
  "anaconda-cloud": {},
  "kernelspec": {
   "display_name": "Python [conda root]",
   "language": "python",
   "name": "conda-root-py"
  },
  "language_info": {
   "codemirror_mode": {
    "name": "ipython",
    "version": 3
   },
   "file_extension": ".py",
   "mimetype": "text/x-python",
   "name": "python",
   "nbconvert_exporter": "python",
   "pygments_lexer": "ipython3",
   "version": "3.5.2"
  }
 },
 "nbformat": 4,
 "nbformat_minor": 1
}
