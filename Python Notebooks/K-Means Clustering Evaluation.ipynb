{
 "cells": [
  {
   "cell_type": "markdown",
   "metadata": {},
   "source": [
    "# K-Means Clustering Evaluation\n",
    "\n",
    "This Python notebook is used for evaluation of a dictionary that is produced by:\n",
    "\n",
    "1. Clustering word vectors by K-Means clustering\n",
    "2. Converting into a dictionary that corresponds to 'Word: Index' pairing\n",
    "\n",
    "The evaluation consists of:\n",
    "\n",
    "- Find the cluster a word belongs to \n",
    "- Find the other words in the cluster for a specific word"
   ]
  },
  {
   "cell_type": "code",
   "execution_count": 3,
   "metadata": {
    "collapsed": false
   },
   "outputs": [
    {
     "name": "stdout",
     "output_type": "stream",
     "text": [
      "TOTAL WORDS: 1146604\n",
      "TOTAL CLUSTERS USED: 250 \n",
      "AVERAGE PER CLUSTER 4586\n"
     ]
    }
   ],
   "source": [
    "# Load the K-Means model\n",
    "import pickle\n",
    "\n",
    "# Specify the file\n",
    "FILE = \"C:/Users/MyPC/Desktop/FYP/K-Means Models/full_250C.pk\"\n",
    "\n",
    "# Load using pickle\n",
    "word_centroid_map =  pickle.load(open(FILE,\"rb\"))\n",
    "total_clusters = max(word_centroid_map.values()) + 1\n",
    "average_word = round(len(word_centroid_map)/total_clusters)\n",
    "\n",
    "print(\"TOTAL WORDS: %i\" % (len(word_centroid_map)))\n",
    "print(\"TOTAL CLUSTERS USED: %i \" % (total_clusters))\n",
    "print(\"AVERAGE PER CLUSTER %i\" % (average_word))"
   ]
  },
  {
   "cell_type": "code",
   "execution_count": 24,
   "metadata": {
    "collapsed": false
   },
   "outputs": [
    {
     "name": "stdout",
     "output_type": "stream",
     "text": [
      "CLUSTER NUMBER: 21\n",
      "SEARCHED WORD: moron \n",
      "\n",
      "INDEX NUMBER: 1829\n",
      "words[1829] = moron \n",
      "\n",
      "TOTAL WORDS: 3385 \n",
      "\n",
      "WORDS:  ['shitnugget', 'mombie', 'brony', 'uppity', 'genious', 'coloradian', 'overachiever', 'dumdum', 'hoser', 'craazzyy', 'opportunist', 'dickwad', 'pratting', 'cuntastic', 'brogrammer', 'doucehbag', 'mobster', 'euphenism', 'partyer', 'lemming', 'abussive', 'chickenhead', 'sayer', 'fantasist', 'garrulous', 'litterbug', 'guy', 'brat', 'gibbering', 'naggy', 'redheaded', 'hurdurdur', 'sandnigger', 'russonazi', 'luddite', 'pighead', 'flammer', 'unaustralian', 'snively', 'shitlord', 'fagot', 'musclehead', 'assrape', 'bragger', 'weakling', 'asscock', 'meddlesome', 'deuchebag', 'beancounter', 'douchy', 'proclaimed', 'fuckwitt', 'deaf', 'swilling', 'xenophile', 'cumdump', 'cunty', 'flappo', 'bonafide', 'jackanapes', 'retareded', 'dopefiend', 'doucheface', 'pommy', 'middleschooler', 'douche', 'dyke', 'leechy', 'punner', 'cavewoman', 'loudmouth', 'homicidal', 'douschebag', 'enjoyes', 'halfwitted', 'umption', 'workaholic', 'fucking', 'fatass', 'shrew', 'bottomfeeder', 'toerag', 'retart', 'scuzzy', 'bludger', 'lebbo', 'crazed', 'hifalutin', 'fashionista', 'cockmonger', 'businessman', 'gentleman', 'bafoon', 'sithlord', 'fuhrerious', 'chicagoan', 'assface', 'boarderline', 'trollop', 'bushit', 'fedorian', 'piller', 'grownass', 'elitest', 'sergakis', 'braggard', 'peabrain', 'fuckfaced', 'kissery', 'slagathor', 'prissy', 'gullable', 'hotheaded', 'bitchtits', 'supergenius', 'cuntass', 'highhorse', 'titted', 'friently', 'suburbanite', 'skeez', 'pretenious', 'supporter', 'tweenager', 'scumbucket', 'brotastic', 'dweller', 'lactard', 'bummy', 'pussified', 'typecast', 'buttnugget', 'custy', 'fuddy', 'pusshole', 'diegan', 'scheisty', 'bate', 'cuntfuck', 'sooky', 'joykill', 'cockgoblin', 'wackjob', 'twirlingly', 'ornery', 'socialite', 'dingleberry', 'imbicile', 'idgit', 'quizzer', 'masturbator', 'browed', 'sharer', 'cockfuck', 'inutterable', 'bogger', 'phsyco', 'douchewaffle', 'blagger', 'mongoli', 'knobend', 'hothead', 'skanger', 'sheffielder', 'lcpl', 'mcfat', 'schitck', 'acidhead', 'suckery', 'toting', 'buzzkill', 'jackhole', 'couponer', 'filthly', 'billionaire', 'manbaby', 'frienzone', 'jobless', 'sociopath', 'alky', 'hillybilly', 'showoff', 'dipshit', 'englander', 'braying', 'privelaged', 'bonefied', 'stupis', 'feckless', 'shithole', 'redass', 'churchgoer', 'waahmbulance', 'bozo', 'wifebeating', 'amright', 'fuckup', 'coattail', 'simpering', 'pansie']\n"
     ]
    }
   ],
   "source": [
    "# Find the cluster of words, based on a given word\n",
    "search = \"moron\"\n",
    "\n",
    "# Get the key, or cluster number\n",
    "cluster_num = word_centroid_map[search]\n",
    "\n",
    "# Initialize empty array\n",
    "words = []\n",
    "    \n",
    "for word, cluster in word_centroid_map.items():\n",
    "    if cluster_num == cluster:\n",
    "        words.append(word)\n",
    "        \n",
    "# Get index number of word (VERIFICATION)\n",
    "index_search = words.index(search)\n",
    "\n",
    "# Display results\n",
    "print(\"CLUSTER NUMBER: %i\" % (cluster_num))\n",
    "print(\"SEARCHED WORD: %s \\n\" % (search))\n",
    "\n",
    "print(\"INDEX NUMBER: %i\" % (index_search))\n",
    "print(\"words[%i] = %s \\n\" % (index_search, words[index_search]))\n",
    "\n",
    "print(\"TOTAL WORDS: %i \\n\" % (len(words)))\n",
    "\n",
    "print(\"WORDS: \", words[:200])"
   ]
  },
  {
   "cell_type": "code",
   "execution_count": null,
   "metadata": {
    "collapsed": true
   },
   "outputs": [],
   "source": []
  }
 ],
 "metadata": {
  "anaconda-cloud": {},
  "kernelspec": {
   "display_name": "Python [conda root]",
   "language": "python",
   "name": "conda-root-py"
  },
  "language_info": {
   "codemirror_mode": {
    "name": "ipython",
    "version": 3
   },
   "file_extension": ".py",
   "mimetype": "text/x-python",
   "name": "python",
   "nbconvert_exporter": "python",
   "pygments_lexer": "ipython3",
   "version": "3.5.2"
  }
 },
 "nbformat": 4,
 "nbformat_minor": 1
}
