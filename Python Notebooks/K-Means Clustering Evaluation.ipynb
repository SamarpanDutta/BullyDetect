{
 "cells": [
  {
   "cell_type": "markdown",
   "metadata": {},
   "source": [
    "# K-Means Clustering Evaluation\n",
    "\n",
    "This Python notebook is used for evaluation of a dictionary that is produced by:\n",
    "\n",
    "- Find the cluster a word belongs to \n",
    "- Find the other words in the cluster for a specific word\n",
    "- Compare between clusters"
   ]
  },
  {
   "cell_type": "code",
   "execution_count": 8,
   "metadata": {
    "collapsed": false
   },
   "outputs": [],
   "source": [
    "import pickle\n",
    "import random\n",
    "\n",
    "# Specify the files\n",
    "FILE_DICT_500 = \"C:/Users/MyPC/Desktop/Vegito/Word Dictionaries/dict_500C.pk\"\n",
    "FILE_CLUS_500 = \"C:/Users/MyPC/Desktop/Vegito/K-Means Models/full_500C.pk\"\n",
    "\n",
    "# Load using pickle\n",
    "array_dict_cluster_500 = pickle.load(open(FILE_DICT_500, \"rb\"))\n",
    "word_centroid_map_500 =  pickle.load(open(FILE_CLUS_500,\"rb\"))\n",
    "\n",
    "total_clusters_500 = max(word_centroid_map_500.values()) + 1\n",
    "\n",
    "average_word_500 = round(len(word_centroid_map_500)/total_clusters_500)"
   ]
  },
  {
   "cell_type": "code",
   "execution_count": 16,
   "metadata": {
    "collapsed": false
   },
   "outputs": [
    {
     "name": "stdout",
     "output_type": "stream",
     "text": [
      "ENTER WORD TO SEARCH: quantization\n",
      "SEARCHED WORD: quantization \n",
      "\n",
      "TOTAL WORDS (500): 1694 \n",
      "\n",
      "WORDS (500):  ['classifiers', 'subset', 'voronoi', 'hyperdonut', 'subspaces', 'secants', 'linearised', 'precendence', 'debreu', 'groebner', 'chern', 'nonlocal', 'surds', 'topologists', 'subsequences', 'dirac', 'octree', 'supercube', 'statistical', 'clausius', 'countable', 'eigenspace', 'holons', 'automorphism', 'recursions', 'calculational', 'commutivity', 'parametrically', 'nonparametrics', 'crosstabs', 'algorhythms', 'simultaneity', 'reimannian', 'barycentric', 'quadtrees', 'sublayer', 'dendrogram', 'adagrad', 'keter', 'bresenham', 'covariant', 'octal', 'derivating', 'grassmann', 'multifractal', 'surjective', 'cuboctahedra', 'qubit', 'specifiable', 'uncountable', 'surreals', 'eigenspaces', 'bekenstein', 'observationally', 'morphisms', 'radicand', 'bmts', 'hypertoric', 'univariate', 'algorithmically', 'factorable', 'nlogn', 'modulus', 'backprop', 'qunatum', 'functor', 'clusterings', 'antiderivatives', 'preimages', 'ordinality', 'standardizes', 'logicals', 'multicriteria', 'eigenstate', 'integral', 'recurrence', 'supersingular', 'mcardle', 'permuting', 'combinatory', 'stepwise', 'truncating', 'uncorrelated', 'visualised', 'solver', 'bedmas', 'subgraph', 'predominants', 'coefficents', 'qauntum', 'kalman', 'surjectivity', 'pseudoscalar', 'matricies', 'modally', 'bolometer', 'superstring', 'nonparametric', 'representable', 'leptogenesis', 'scatterplots', 'coalgebras', 'commutators', 'trignometric', 'algebraically', 'heterotic', 'rsquared', 'sedenions', 'convergent', 'factorised', 'monodromy', 'tetration', 'cateogory', 'combinatorially', 'underspecified', 'hopital', 'submanifolds', 'riesz', 'diophantine', 'bolyai', 'visuo', 'shettles', 'fixity', 'thresholding', 'isomorphism', 'parallelepiped', 'glicko', 'erastothenes', 'boltzman', 'preimage', 'riemannian', 'stratigraphic', 'spinors', 'subtration', 'quantifiers', 'steradians', 'geometery', 'feedforward', 'langrangian', 'satisfiability', 'arbitary', 'stackelberg', 'stepsize', 'unapplied', 'gravastar', 'nontransitive', 'holonomic', 'probability', 'multiphysics', 'exponentials', 'denormalization', 'subranges', 'ekpyrotic', 'sinusoid', 'bonferroni', 'epsilons', 'kirchhoff', 'probabilistically', 'determinstic', 'cyclic', 'sequent', 'supergravity', 'mathematical', 'karplus', 'lexicographically', 'countlessness', 'symmetries', 'entscheidungsproblem', 'distributions', 'tychonic', 'circulant', 'quadratical', 'multivariate', 'intercalation', 'wallenius', 'hypersurface', 'hexachords', 'triangulation', 'posedness', 'uninterpretable', 'variate', 'theoy', 'equasions', 'memristors', 'adics', 'reweighting', 'subtest', 'bijective', 'periodicity', 'gaussians', 'summing', 'arcsine', 'fractions', 'additivity', 'sobolev', 'notation', 'decompositions', 'hillclimber', 'incompletness', 'kimoto']\n"
     ]
    }
   ],
   "source": [
    "# Find the cluster of words, based on a given word\n",
    "search = input(\"ENTER WORD TO SEARCH: \")\n",
    "\n",
    "# Get the key, or cluster number\n",
    "# NOTE: Different clusters can have same results\n",
    "cluster_num_500 = word_centroid_map_500[search]\n",
    "\n",
    "# Return the array based on the cluster number\n",
    "words_500 = array_dict_cluster_500[cluster_num_500]['word_list']\n",
    "\n",
    "# Randomly subsample 200 words\n",
    "words = random.sample(words_500, 200)\n",
    "\n",
    "# Display results\n",
    "print(\"SEARCHED WORD: %s \\n\" % (search))\n",
    "\n",
    "print(\"TOTAL WORDS (500): %i \\n\" % (len(words_500)))\n",
    "\n",
    "print(\"WORDS (500): \", words)"
   ]
  }
 ],
 "metadata": {
  "anaconda-cloud": {},
  "kernelspec": {
   "display_name": "Python [conda root]",
   "language": "python",
   "name": "conda-root-py"
  },
  "language_info": {
   "codemirror_mode": {
    "name": "ipython",
    "version": 3
   },
   "file_extension": ".py",
   "mimetype": "text/x-python",
   "name": "python",
   "nbconvert_exporter": "python",
   "pygments_lexer": "ipython3",
   "version": "3.5.2"
  }
 },
 "nbformat": 4,
 "nbformat_minor": 1
}
