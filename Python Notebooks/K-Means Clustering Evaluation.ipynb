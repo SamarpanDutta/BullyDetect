{
 "cells": [
  {
   "cell_type": "markdown",
   "metadata": {},
   "source": [
    "# K-Means Clustering Evaluation\n",
    "\n",
    "This Python notebook is used for evaluation of a dictionary that is produced by:\n",
    "\n",
    "- Find the cluster a word belongs to \n",
    "- Find the other words in the cluster for a specific word\n",
    "- Compare between clusters"
   ]
  },
  {
   "cell_type": "code",
   "execution_count": 5,
   "metadata": {
    "collapsed": false
   },
   "outputs": [
    {
     "name": "stdout",
     "output_type": "stream",
     "text": [
      "TOTAL WORDS: 1146604 \n",
      "\n",
      "AVERAGE PER CLUSTER (250): 4586\n",
      "AVERAGE PER CLUSTER (500): 2293\n"
     ]
    }
   ],
   "source": [
    "import pickle\n",
    "\n",
    "# Specify the files\n",
    "FILE_DICT_250 = \"C:/Users/MyPC/Desktop/FYP/Word Dictionaries/dict_250C.pk\"\n",
    "FILE_CLUS_250 = \"C:/Users/MyPC/Desktop/FYP/K-Means Models/full_250C.pk\"\n",
    "\n",
    "FILE_DICT_500 = \"C:/Users/MyPC/Desktop/FYP/Word Dictionaries/dict_500C.pk\"\n",
    "FILE_CLUS_500 = \"C:/Users/MyPC/Desktop/FYP/K-Means Models/full_500C.pk\"\n",
    "\n",
    "# Load using pickle\n",
    "array_dict_cluster_250 = pickle.load(open(FILE_DICT_250, \"rb\"))\n",
    "word_centroid_map_250 =  pickle.load(open(FILE_CLUS_250,\"rb\"))\n",
    "\n",
    "array_dict_cluster_500 = pickle.load(open(FILE_DICT_500, \"rb\"))\n",
    "word_centroid_map_500 =  pickle.load(open(FILE_CLUS_500,\"rb\"))\n",
    "\n",
    "total_clusters_250 = max(word_centroid_map_250.values()) + 1\n",
    "total_clusters_500 = max(word_centroid_map_500.values()) + 1\n",
    "\n",
    "average_word_250 = round(len(word_centroid_map_250)/total_clusters_250)\n",
    "average_word_500 = round(len(word_centroid_map_500)/total_clusters_500)\n",
    "\n",
    "# Display results\n",
    "print(\"TOTAL WORDS: %i \\n\" % (len(word_centroid_map_250)))\n",
    "\n",
    "print(\"AVERAGE PER CLUSTER (250): %i\" % (average_word_250))\n",
    "print(\"AVERAGE PER CLUSTER (500): %i\" % (average_word_500))"
   ]
  },
  {
   "cell_type": "code",
   "execution_count": 19,
   "metadata": {
    "collapsed": false
   },
   "outputs": [
    {
     "name": "stdout",
     "output_type": "stream",
     "text": [
      "SEARCHED WORD: research \n",
      "\n",
      "TOTAL WORDS (250): 1114\n",
      "TOTAL WORDS (500): 1104 \n",
      "\n",
      "WORDS (250):  ['dhlabs', 'natco', 'cannabanoids', 'dextromethamphetamine', 'dihydroboldenone', 'norcs', 'methoxphenidine', 'mephedrone', 'roxis', 'oxo', 'psychostimulants', 'nictoine', 'nbome', 'deliriants', 'dosage', 'sublingually', 'narcotic', 'trenbolone', 'quercetin', 'bioniche', 'pheni', 'citruline', 'suntheanine', 'mdai', 'sterons', 'tren', 'oxys', 'thc', 'psychotropic', 'psys', 'adulterated', 'melatonin', 'psuedophedrine', 'intravenously', 'velarian', 'papaverine', 'quinine', 'psychoactive', 'inhalants', 'stereoisomers', 'clenbuterol', 'dosages', 'nootropics', 'eleuthero', 'puama', 'dexidrine', 'maltitol', 'rectally', 'harmaline', 'megadoses', 'addictive', 'candyflipped', 'agonist', 'hydrafinil', 'sust', 'aderall', 'redoses', 'enantiomer', 'quaaludes', 'speciosa', 'piracitam', 'etomidate', 'stimmy', 'ergoline', 'tryptophan', 'roids', 'hydroxycut', 'psystorm', 'ugls', 'ritalin', 'aderrall', 'ghb', 'methallylescaline', 'methcathinone', 'hydrazide', 'opana', 'clonazolam', 'methylenedioxymethamphetamine', 'dipt', 'lysergic', 'candyflip', 'titrate', 'opanas', 'nonbenzodiazepine', 'relora', 'barbituates', 'hepatoxic', 'tinctures', 'labmaxes', 'meerkovo', 'lsa', 'dosings', 'ampakine', 'rohypnol', 'adrol', 'narcoleptics', 'hypnotics', 'gelcaps', 'alkoloids', 'ampules', 'aniracetam', 'extacy', 'multivitamins', 'ritilan', 'gelcap', 'overdoses', 'divinorum', 'empathogens', 'bufotenin', 'phenethylamine', 'phenylethylamines', 'lsd', 'aromatizing', 'potentiate', 'megadose', 'hgh', 'thujone', 'longjack', 'dopaminergics', 'diacetylmorphine', 'neurotoxicity', 'nicotene', 'undecanoate', 'meo', 'letro', 'mescalin', 'methamph', 'miprocin', 'potentiators', 'fishoil', 'butylone', 'benzos', 'mallinckrodt', 'promethezine', 'disassociatives', 'amyl', 'propoxyphene', 'methadone', 'selank', 'adderol', 'sildenafil', 'estro', 'spansules', 'niccotine', 'desmethyltramadol', 'fubinaca', 'nalt', 'atypicals', 'prework', 'opiate', 'stimulant', 'alanine', 'xtane', 'dhlab', 'jwh', 'butyr', 'underdose', 'opioids', 'creatine', 'propionate', 'adderrall', 'etizolam', 'tortuosum', 'allad', 'substances', 'ergot', 'reboxetine', 'anxiogenic', 'psychedellic', 'theracurmin', 'ergolines', 'bioavailability', 'trenavar', 'norcos', 'dihexa', 'sunifiram', 'pitolisant', 'kavalactones', 'narcotics', 'winstrol', 'actavis', 'parabolan', 'methyphenidate', 'cannabinoids', 'psycadelics', 'dbol', 'quil', 'codone', 'slin', 'dosed', 'superdrol', 'mandellin', 'potencies', 'analouges', 'dph', 'morphines', 'dillys', 'bronchodilator', 'methyltrienolone', 'diph'] \n",
      "\n",
      "\n",
      "WORDS (500):  ['mathemeticians', 'astronautics', 'arachnologists', 'neuromarketing', 'cymatics', 'perspect', 'archetecture', 'ethnography', 'techiniques', 'analyis', 'geotech', 'hydrology', 'pedagogical', 'ethnomethodology', 'synbio', 'electrodiagnostic', 'lithics', 'neuropharmacologists', 'otographic', 'biomaterials', 'orthotropics', 'psychometricians', 'avocational', 'enginerring', 'taphonomy', 'explorational', 'bioethics', 'criminalistics', 'joachain', 'graphology', 'foldit', 'golosa', 'exascale', 'optoelectronics', 'analytical', 'anthropology', 'thermodynamics', 'connectomics', 'paleoclimate', 'folkloristics', 'vulcanology', 'middlegames', 'minoring', 'nanoscience', 'mycological', 'palaeo', 'microelectronic', 'immunohematology', 'technical', 'affymetrix', 'intercultural', 'pysics', 'nvivo', 'studying', 'scientits', 'optalysys', 'papermaking', 'oenology', 'analysys', 'photonics', 'ramazzini', 'ornithology', 'astronomy', 'microbio', 'dankology', 'assyriology', 'pastpapers', 'numerus', 'geospatial', 'neuroimaging', 'organismic', 'phisiology', 'xenoanthropology', 'adlerian', 'geology', 'faciliated', 'neuroengineering', 'macroecon', 'theoritical', 'electroacoustics', 'soapmaking', 'spectroscopists', 'ethnomusicology', 'sedimentology', 'lingusitics', 'bsci', 'conjoint', 'cofounding', 'mathematicks', 'jonkers', 'computational', 'devadas', 'expirement', 'phylogenetics', 'felicific', 'biometry', 'sciencies', 'neurobiologists', 'sciecne', 'transferability', 'candidatus', 'cryogenics', 'metallurgical', 'elicitation', 'deepmind', 'engineerin', 'arfken', 'psycholgy', 'psychodynamic', 'unreplicated', 'sexology', 'neuropsychiatry', 'odontologist', 'sciencey', 'exobiology', 'neuroethics', 'txtbk', 'accountings', 'analyitical', 'ethnology', 'cheminformatics', 'geomatics', 'scienc', 'autodidactic', 'psephology', 'summative', 'mathematics', 'biopharmaceuticals', 'apiculture', 'phyisics', 'kleppner', 'bookboon', 'astrophysicists', 'crystallography', 'cytogenetic', 'mathmatic', 'ponu', 'stratigrapher', 'nanosystems', 'humanites', 'psychodynamically', 'microprocessors', 'science', 'dialectology', 'molbio', 'electromagnetics', 'enzymology', 'retrosynthetic', 'seismological', 'sciency', 'bioprocess', 'phsychology', 'pharmacogenomics', 'pyschology', 'memology', 'geobiology', 'researchy', 'microbiology', 'calculas', 'pathobiology', 'neurotheology', 'dendrochronology', 'astrophysics', 'pharmeceutical', 'odontologists', 'geoinformatics', 'cryonics', 'transpersonal', 'engineerings', 'supercomputing', 'trufes', 'neurosciences', 'redditology', 'specialising', 'microscopist', 'geomatic', 'phsyiology', 'biostat', 'neuropathology', 'geographers', 'agronomy', 'neuroendocrinology', 'accademic', 'inovio', 'aeronautic', 'degee', 'epigenomics', 'bioarchaeology', 'archaeology', 'arachnology', 'horary', 'silico', 'julijonas', 'silviculture', 'gebra', 'archeaological', 'mineralogists', 'silvicultural', 'zoology', 'savvyness']\n"
     ]
    }
   ],
   "source": [
    "# Find the cluster of words, based on a given word\n",
    "search = \"research\"\n",
    "\n",
    "# Get the key, or cluster number\n",
    "# NOTE: Different clusters can have same results\n",
    "cluster_num_250 = word_centroid_map_250[search]\n",
    "cluster_num_500 = word_centroid_map_500[search]\n",
    "\n",
    "# Return the array based on the cluster number\n",
    "words_250 = array_dict_cluster[cluster_num_250]['word_list']\n",
    "words_500 = array_dict_cluster[cluster_num_500]['word_list']\n",
    "\n",
    "# Display results\n",
    "print(\"SEARCHED WORD: %s \\n\" % (search))\n",
    "\n",
    "print(\"TOTAL WORDS (250): %i\" % (len(words_250)))\n",
    "print(\"TOTAL WORDS (500): %i \\n\" % (len(words_500)))\n",
    "\n",
    "print(\"WORDS (250): \", words_250[:200], \"\\n\\n\")\n",
    "print(\"WORDS (500): \", words_500[:200])"
   ]
  }
 ],
 "metadata": {
  "anaconda-cloud": {},
  "kernelspec": {
   "display_name": "Python [conda root]",
   "language": "python",
   "name": "conda-root-py"
  },
  "language_info": {
   "codemirror_mode": {
    "name": "ipython",
    "version": 3
   },
   "file_extension": ".py",
   "mimetype": "text/x-python",
   "name": "python",
   "nbconvert_exporter": "python",
   "pygments_lexer": "ipython3",
   "version": "3.5.2"
  }
 },
 "nbformat": 4,
 "nbformat_minor": 1
}
