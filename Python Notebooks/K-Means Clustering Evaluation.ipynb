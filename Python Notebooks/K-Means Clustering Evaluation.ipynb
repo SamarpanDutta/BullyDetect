{
 "cells": [
  {
   "cell_type": "markdown",
   "metadata": {},
   "source": [
    "# K-Means Clustering Evaluation\n",
    "\n",
    "This Python notebook is used for evaluation of a dictionary that is produced by:\n",
    "\n",
    "1. Clustering word vectors by K-Means clustering\n",
    "2. Converting into a dictionary that corresponds to 'Word: Index' pairing\n",
    "\n",
    "The evaluation consists of:\n",
    "\n",
    "- Find the cluster a word belongs to \n",
    "- Find the other words in the cluster for a specific word"
   ]
  },
  {
   "cell_type": "code",
   "execution_count": 1,
   "metadata": {
    "collapsed": false
   },
   "outputs": [
    {
     "name": "stdout",
     "output_type": "stream",
     "text": [
      "TOTAL WORDS: 100000\n",
      "TOTAL CLUSTERS USED: 500 \n"
     ]
    }
   ],
   "source": [
    "# Load the K-Means model\n",
    "import pickle\n",
    "\n",
    "# Specify the file\n",
    "FILE = \"C:/Users/MyPC/Desktop/FYP/K-Means Models/dict_500.pk\"\n",
    "\n",
    "# Load using pickle\n",
    "word_centroid_map =  pickle.load(open(FILE,\"rb\"))\n",
    "total_clusters = max(word_centroid_map.values()) + 1\n",
    "\n",
    "print(\"TOTAL WORDS: %i\" % (len(word_centroid_map)))\n",
    "print(\"TOTAL CLUSTERS USED: %i \" % (total_clusters))"
   ]
  },
  {
   "cell_type": "code",
   "execution_count": 6,
   "metadata": {
    "collapsed": false
   },
   "outputs": [
    {
     "name": "stdout",
     "output_type": "stream",
     "text": [
      "SEARCHED WORD: quit \n",
      "\n",
      "CLUSTER NUMBER: 119 \n",
      "\n",
      "TOTAL WORDS: 115 \n",
      "\n",
      "WORDS:  ['alseep', 'daydream', 'snooze', 'nighters', 'napping']\n",
      "\n",
      "\n",
      "\n"
     ]
    }
   ],
   "source": [
    "# Find the cluster of words, based on a given word\n",
    "WORD = \"quit\"\n",
    "\n",
    "# Get the key, or cluster number\n",
    "cluster_num = word_centroid_map[WORD]\n",
    "\n",
    "# Initialize empty array\n",
    "words = []\n",
    "    \n",
    "for word, cluster in word_centroid_map.items():\n",
    "    if cluster_num == cluster:\n",
    "        words.append(word)\n",
    "\n",
    "print(\"SEARCHED WORD: %s \\n\" % (WORD))\n",
    "print(\"CLUSTER NUMBER: %i \\n\" % (cluster))\n",
    "print(\"TOTAL WORDS: %i \\n\" % (len(words)))\n",
    "print(\"WORDS: \", words[:5])\n",
    "print(\"\\n\\n\")"
   ]
  }
 ],
 "metadata": {
  "anaconda-cloud": {},
  "kernelspec": {
   "display_name": "Python [conda root]",
   "language": "python",
   "name": "conda-root-py"
  },
  "language_info": {
   "codemirror_mode": {
    "name": "ipython",
    "version": 3
   },
   "file_extension": ".py",
   "mimetype": "text/x-python",
   "name": "python",
   "nbconvert_exporter": "python",
   "pygments_lexer": "ipython3",
   "version": "3.5.2"
  }
 },
 "nbformat": 4,
 "nbformat_minor": 1
}
