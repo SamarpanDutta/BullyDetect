{
 "cells": [
  {
   "cell_type": "markdown",
   "metadata": {},
   "source": [
    "# K-Means Clustering Evaluation\n",
    "\n",
    "This Python notebook is used for evaluation of a dictionary that is produced by:\n",
    "\n",
    "- Find the cluster a word belongs to \n",
    "- Find the other words in the cluster for a specific word\n",
    "- Compare between clusters"
   ]
  },
  {
   "cell_type": "code",
   "execution_count": 5,
   "metadata": {
    "collapsed": false
   },
   "outputs": [
    {
     "name": "stdout",
     "output_type": "stream",
     "text": [
      "TOTAL WORDS: 1146604 \n",
      "\n",
      "AVERAGE PER CLUSTER (250): 4586\n",
      "AVERAGE PER CLUSTER (500): 2293\n"
     ]
    }
   ],
   "source": [
    "import pickle\n",
    "\n",
    "# Specify the files\n",
    "FILE_DICT_250 = \"C:/Users/MyPC/Desktop/FYP/Word Dictionaries/dict_250C.pk\"\n",
    "FILE_CLUS_250 = \"C:/Users/MyPC/Desktop/FYP/K-Means Models/full_250C.pk\"\n",
    "\n",
    "FILE_DICT_500 = \"C:/Users/MyPC/Desktop/FYP/Word Dictionaries/dict_500C.pk\"\n",
    "FILE_CLUS_500 = \"C:/Users/MyPC/Desktop/FYP/K-Means Models/full_500C.pk\"\n",
    "\n",
    "# Load using pickle\n",
    "array_dict_cluster_250 = pickle.load(open(FILE_DICT_250, \"rb\"))\n",
    "word_centroid_map_250 =  pickle.load(open(FILE_CLUS_250,\"rb\"))\n",
    "\n",
    "array_dict_cluster_500 = pickle.load(open(FILE_DICT_500, \"rb\"))\n",
    "word_centroid_map_500 =  pickle.load(open(FILE_CLUS_500,\"rb\"))\n",
    "\n",
    "total_clusters_250 = max(word_centroid_map_250.values()) + 1\n",
    "total_clusters_500 = max(word_centroid_map_500.values()) + 1\n",
    "\n",
    "average_word_250 = round(len(word_centroid_map_250)/total_clusters_250)\n",
    "average_word_500 = round(len(word_centroid_map_500)/total_clusters_500)\n",
    "\n",
    "# Display results\n",
    "print(\"TOTAL WORDS: %i \\n\" % (len(word_centroid_map_250)))\n",
    "\n",
    "print(\"AVERAGE PER CLUSTER (250): %i\" % (average_word_250))\n",
    "print(\"AVERAGE PER CLUSTER (500): %i\" % (average_word_500))"
   ]
  },
  {
   "cell_type": "code",
   "execution_count": 23,
   "metadata": {
    "collapsed": false
   },
   "outputs": [
    {
     "name": "stdout",
     "output_type": "stream",
     "text": [
      "SEARCHED WORD: porcshe \n",
      "\n",
      "TOTAL WORDS (250): 2183\n",
      "TOTAL WORDS (500): 1230 \n",
      "\n",
      "WORDS (250):  ['graupner', 'meelec', 'inteli', 'wasdkeyboard', 'xport', 'rayus', 'xurbanpredator', 'yeastar', 'reslution', 'contura', 'vrec', 'omtp', 'megahalems', 'drviers', 'mixdeck', 'neosonic', 'sacd', 'olimex', 'irlb', 'saumsung', 'graphx', 'wixel', 'reclock', 'motorkanone', 'cimo', 'pleasantfiction', 'aclock', 'unimount', 'noritsu', 'qsenn', 'noctuah', 'dualminer', 'cootree', 'illumitex', 'dmps', 'chieftec', 'acoustech', 'iceq', 'skymaxx', 'steeleries', 'phandrel', 'vizo', 'kingmax', 'heatkiller', 'ssag', 'arket', 'micrel', 'xcsteve', 'redcine', 'funfly', 'reflectron', 'hologic', 'adoreshare', 'mypin', 'energis', 'limelite', 'xtream', 'hanspree', 'lbmid', 'senhieser', 'bafang', 'svid', 'peplink', 'vgate', 'redstuff', 'imedion', 'microdrive', 'nocuta', 'gigabtye', 'nitcore', 'coretex', 'moduler', 'dualsim', 'rctimer', 'aerb', 'olavk', 'littledot', 'fangbook', 'kingtee', 'nidec', 'dtracks', 'crosair', 'xups', 'windboiler', 'playmore', 'rcard', 'biobloom', 'partspicker', 'senneheiser', 'winix', 'realforces', 'blisterpack', 'orihalcon', 'intimus', 'ihaveb', 'dable', 'primoflex', 'recomened', 'gumy', 'dvdrw', 'chelsio', 'bridgelux', 'zdok', 'quanba', 'yokogawa', 'pendual', 'connectix', 'nchannel', 'pareema', 'fromula', 'fractual', 'slacko', 'aquastream', 'abits', 'overcloked', 'xpooperscoop', 'pofung', 'whyyoulookinatmaname', 'beaglebones', 'addt', 'pentaband', 'omhs', 'xsmart', 'otherboard', 'nomally', 'ptek', 'epower', 'stealthxstream', 'hydrocopper', 'gaui', 'streacom', 'mlais', 'ortz', 'proliants', 'trasmitter', 'izon', 'akitio', 'klarus', 'lepy', 'motem', 'silen', 'toughpad', 'alloytec', 'icore', 'corsaire', 'novasurge', 'fixhawk', 'ekwb', 'keithley', 'ixus', 'compal', 'eries', 'deviationtx', 'ifferent', 'dvdr', 'tpocke', 'liqmax', 'nematic', 'subohmcell', 'tipmann', 'wincor', 'powerspec', 'dentity', 'wheybolic', 'uprgraded', 'uable', 'jpac', 'adapte', 'powervault', 'sportac', 'ilco', 'ballisti', 'tonebone', 'variu', 'phobya', 'deskstars', 'mastertech', 'mrspeakers', 'tetenal', 'cminer', 'youngnuo', 'clie', 'innovv', 'minicp', 'ultrabase', 'dcii', 'minitor', 'hercu', 'deepdark', 'solidstate', 'hackpack', 'aptiva', 'digimax', 'gbsp', 'qbrain', 'vitrex', 'corasair', 'sideon', 'nspector', 'atlhon'] \n",
      "\n",
      "\n",
      "WORDS (500):  ['fortwos', 'onevia', 'duratecs', 'hurracan', 'strakka', 'skytop', 'sema', 'commer', 'weistec', 'halfcut', 'maxum', 'ontour', 'chrsyler', 'xcite', 'nordkap', 'quatroporte', 'midengined', 'rondine', 'chery', 'birri', 'procharged', 'sportish', 'zamac', 'autoclub', 'bajeena', 'statesmans', 'bugatis', 'pzero', 'megaweb', 'jzgte', 'chronomatic', 'sharka', 'zentorro', 'miled', 'toyodai', 'maxlife', 'debauchee', 'colbolt', 'alfieri', 'turdo', 'doublecab', 'astina', 'pillarless', 'integrale', 'roundslides', 'seabring', 'hyuara', 'almera', 'automobili', 'rovals', 'cheroke', 'jatco', 'designo', 'syntec', 'tribar', 'aurions', 'gallado', 'athearn', 'kwaka', 'elgrand', 'urraco', 'koenisegg', 'phev', 'miglia', 'repco', 'oreca', 'gofast', 'brzs', 'restomodded', 'trkman', 'competizione', 'copen', 'maxton', 'amarok', 'efijy', 'sypder', 'lachute', 'sportbacks', 'cclb', 'caurus', 'protuned', 'avintia', 'ferrai', 'orkified', 'exiege', 'adventador', 'buzzbomb', 'solaras', 'isetta', 'dollarsign', 'landspeed', 'amega', 'exmark', 'prizms', 'quadrasteer', 'fastrac', 'caponord', 'econetic', 'daelim', 'truffade', 'nurburing', 'allision', 'corvega', 'veryron', 'mercadies', 'kmiles', 'axled', 'rothmans', 'liebherr', 'setra', 'tauras', 'gillig', 'duosonic', 'motorrad', 'tubro', 'tomaso', 'husquavarna', 'superlite', 'modeo', 'tsusho', 'alltrac', 'motorad', 'onroak', 'autodromo', 'survolt', 'eldorados', 'vaydor', 'testla', 'cosworths', 'hyundia', 'toldaloo', 'panigales', 'toyotal', 'techart', 'gtlm', 'simtek', 'limosine', 'exterra', 'tursimo', 'hoonicorn', 'autech', 'chuckable', 'mooneyes', 'itouring', 'flugtag', 'keian', 'corquette', 'hiluxs', 'btcc', 'mitubishi', 'autosports', 'tintop', 'becaome', 'baleno', 'fezza', 'quattroportes', 'maico', 'kubelwagen', 'torinos', 'pontaic', 'holset', 'tricon', 'elcamino', 'aspide', 'brera', 'superamerica', 'montesa', 'bowrider', 'syrena', 'countaches', 'carabo', 'masserati', 'amphibio', 'hotring', 'aermacchi', 'trashmaster', 'komfort', 'microcar', 'carrozzeria', 'sonota', 'zytek', 'kettenkrad', 'saabkyle', 'preuninger', 'vectra', 'giulietta', 'mistubishi', 'superbeetle', 'bonnieville', 'toyoda', 'arozzi', 'mustag', 'highrider', 'morini', 'stromer', 'silveraado', 'sportwagon', 'aktiengesellschaft', 'coachbuilder', 'mazeratti']\n"
     ]
    }
   ],
   "source": [
    "# Find the cluster of words, based on a given word\n",
    "search = \"kamehame\"\n",
    "\n",
    "# Get the key, or cluster number\n",
    "# NOTE: Different clusters can have same results\n",
    "cluster_num_250 = word_centroid_map_250[search]\n",
    "cluster_num_500 = word_centroid_map_500[search]\n",
    "\n",
    "# Return the array based on the cluster number\n",
    "words_250 = array_dict_cluster[cluster_num_250]['word_list']\n",
    "words_500 = array_dict_cluster[cluster_num_500]['word_list']\n",
    "\n",
    "# Display results\n",
    "print(\"SEARCHED WORD: %s \\n\" % (search))\n",
    "\n",
    "print(\"TOTAL WORDS (250): %i\" % (len(words_250)))\n",
    "print(\"TOTAL WORDS (500): %i \\n\" % (len(words_500)))\n",
    "\n",
    "print(\"WORDS (250): \", words_250[:200], \"\\n\\n\")\n",
    "print(\"WORDS (500): \", words_500[:200])"
   ]
  }
 ],
 "metadata": {
  "anaconda-cloud": {},
  "kernelspec": {
   "display_name": "Python [conda root]",
   "language": "python",
   "name": "conda-root-py"
  },
  "language_info": {
   "codemirror_mode": {
    "name": "ipython",
    "version": 3
   },
   "file_extension": ".py",
   "mimetype": "text/x-python",
   "name": "python",
   "nbconvert_exporter": "python",
   "pygments_lexer": "ipython3",
   "version": "3.5.2"
  }
 },
 "nbformat": 4,
 "nbformat_minor": 1
}
