{
 "cells": [
  {
   "cell_type": "markdown",
   "metadata": {},
   "source": [
    "# K-Means Clustering Evaluation\n",
    "\n",
    "This Python notebook is used for evaluation of a dictionary that is produced by:\n",
    "\n",
    "1. Clustering word vectors by K-Means clustering\n",
    "2. Converting into a dictionary that corresponds to 'Word: Index' pairing\n",
    "\n",
    "The evaluation consists of:\n",
    "\n",
    "- Find the cluster a word belongs to \n",
    "- Find the other words in the cluster for a specific word"
   ]
  },
  {
   "cell_type": "code",
   "execution_count": 22,
   "metadata": {
    "collapsed": false
   },
   "outputs": [
    {
     "name": "stdout",
     "output_type": "stream",
     "text": [
      "TOTAL WORDS: 600000\n",
      "TOTAL CLUSTERS USED: 250 \n",
      "AVERAGE PER CLUSTER 2400\n"
     ]
    }
   ],
   "source": [
    "# Load the K-Means model\n",
    "import pickle\n",
    "\n",
    "# Specify the file\n",
    "FILE = \"C:/Users/MyPC/Desktop/FYP/K-Means Models/dict_250C_600K.pk\"\n",
    "\n",
    "# Load using pickle\n",
    "word_centroid_map =  pickle.load(open(FILE,\"rb\"))\n",
    "total_clusters = max(word_centroid_map.values()) + 1\n",
    "average_word = round(len(word_centroid_map)/total_clusters)\n",
    "\n",
    "print(\"TOTAL WORDS: %i\" % (len(word_centroid_map)))\n",
    "print(\"TOTAL CLUSTERS USED: %i \" % (total_clusters))\n",
    "print(\"AVERAGE PER CLUSTER %i\" % (average_word))"
   ]
  },
  {
   "cell_type": "code",
   "execution_count": 63,
   "metadata": {
    "collapsed": false
   },
   "outputs": [
    {
     "name": "stdout",
     "output_type": "stream",
     "text": [
      "SEARCHED WORD: bangladeshi \n",
      "\n",
      "CLUSTER NUMBER: 89 \n",
      "\n",
      "TOTAL WORDS: 2125 \n",
      "\n",
      "WORDS:  ['abangan', 'abeed', 'abenaki', 'aberdonian', 'aberdonians', 'aborginal', 'aborginals', 'aboriginal', 'aboriginals', 'aborigine', 'aboriginees', 'aborigines', 'aboriginies', 'aborignal', 'abroad', 'abyssinians', 'acadian', 'acadians', 'acadien', 'acculturate', 'acculturated', 'acehnese', 'acent', 'adivasi', 'admixture', 'aeta', 'afghani', 'afghanistanis', 'afican', 'afluent', 'africa', 'african', 'africanists', 'africans', 'africian', 'africoon', 'afrikaan', 'afrikaaner', 'afrikaaners', 'afrikaans', 'afrikan', 'afrikaner', 'afrikaners', 'afrikans', 'afroasiatic', 'aftican', 'agentian', 'agrarians', 'ahmish', 'ainu', 'ainus', 'aisan', 'ajahns', 'alaskian', 'albanian', 'albanians', 'alemannic', 'aleut', 'aleuts', 'algerian', 'algerians', 'algonquian', 'algonquins', 'alpharabbit', 'alsacian', 'alsatians', 'altaic', 'altmeris', 'amaerican', 'amarican', 'amazigh', 'amazighs', 'ameican', 'ameicans', 'ameircan', 'ameircans', 'amercan', 'amercans', 'amercian', 'amercians', 'amerian', 'amerians', 'americ', 'america', 'americaball', 'americam', 'american', 'americand', 'americaned', 'americanese', 'americanish', 'americanized', 'americans', 'americanski', 'americas', 'americian', 'americn', 'americna', 'americo', 'amerikan', 'amerind', 'amerindian', 'amerindians', 'amerinds', 'ameristralian', 'amhara', 'amharic', 'amrican', 'anatolian', 'anatolians', 'ancenstry', 'ancesters', 'ancestery', 'ancestoral', 'ancestory', 'ancestrally', 'ancestries', 'ancestry', 'andalucian', 'andalusian', 'andalusians', 'andamanese', 'andeans', 'andorrans', 'anerican', 'anericans', 'anglic', 'anglo', 'anglophiles', 'anglophone', 'anglophones', 'anglophonic', 'anglos', 'anglosaxon', 'anglosaxons', 'anglosphere', 'angmoh', 'angolan', 'angolans', 'anians', 'anishinaabe', 'anishinabe', 'anlgo', 'antarctican', 'antebellum', 'antiguan', 'antillean', 'antillians', 'anting', 'antiochians', 'antipodeans', 'antivans', 'anzacs', 'aotearoa', 'apefrica', 'apefrican', 'apfelsine', 'appellations', 'appropiated', 'appropiating', 'aquitanian', 'arab', 'arabaic', 'arabian', 'arabians', 'arabics', 'arabized', 'aramaean', 'aramaeans', 'aramean', 'arawak', 'arayan', 'archaelogists', 'argentinans', 'argentine', 'argentinean', 'argentineans', 'argentines', 'argentinian', 'argentinians', 'aribic', 'arican', 'armenian', 'aromanian', 'aromanians', 'arsim', 'arubans', 'aryan', 'aryans', 'aryian', 'asain', 'asains', 'ashkanazi', 'ashkenaz', 'ashkenazi', 'ashkenazic', 'ashkenazik', 'ashkenazim', 'ashkenazis', 'asia']\n",
      "\n",
      "\n",
      "\n"
     ]
    }
   ],
   "source": [
    "# Find the cluster of words, based on a given word\n",
    "WORD = \"bangladeshi\"\n",
    "\n",
    "# Get the key, or cluster number\n",
    "cluster_num = word_centroid_map[WORD]\n",
    "\n",
    "# Initialize empty array\n",
    "words = []\n",
    "    \n",
    "for word, cluster in word_centroid_map.items():\n",
    "    if cluster_num == cluster:\n",
    "        words.append(word)\n",
    "        \n",
    "# Sort the array\n",
    "words.sort()\n",
    "\n",
    "print(\"SEARCHED WORD: %s \\n\" % (WORD))\n",
    "print(\"CLUSTER NUMBER: %i \\n\" % (cluster_num))\n",
    "print(\"TOTAL WORDS: %i \\n\" % (len(words)))\n",
    "print(\"WORDS: \", words[:200])\n",
    "print(\"\\n\\n\")"
   ]
  },
  {
   "cell_type": "code",
   "execution_count": null,
   "metadata": {
    "collapsed": true
   },
   "outputs": [],
   "source": []
  }
 ],
 "metadata": {
  "anaconda-cloud": {},
  "kernelspec": {
   "display_name": "Python [conda root]",
   "language": "python",
   "name": "conda-root-py"
  },
  "language_info": {
   "codemirror_mode": {
    "name": "ipython",
    "version": 3
   },
   "file_extension": ".py",
   "mimetype": "text/x-python",
   "name": "python",
   "nbconvert_exporter": "python",
   "pygments_lexer": "ipython3",
   "version": "3.5.2"
  }
 },
 "nbformat": 4,
 "nbformat_minor": 1
}
